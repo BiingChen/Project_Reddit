{
 "cells": [
  {
   "cell_type": "markdown",
   "metadata": {},
   "source": [
    "# 03 Exploratory Data Analysis"
   ]
  },
  {
   "cell_type": "markdown",
   "metadata": {},
   "source": [
    "## Imports & Functions"
   ]
  },
  {
   "cell_type": "code",
   "execution_count": 179,
   "metadata": {},
   "outputs": [],
   "source": [
    "import pandas as pd\n",
    "import json\n",
    "import pickle  "
   ]
  },
  {
   "cell_type": "code",
   "execution_count": 180,
   "metadata": {},
   "outputs": [],
   "source": [
    "from matplotlib import pyplot as plt\n",
    "import seaborn as sns\n",
    "from sklearn.feature_extraction.text import CountVectorizer, ENGLISH_STOP_WORDS\n",
    "from string import punctuation\n",
    "%matplotlib inline"
   ]
  },
  {
   "cell_type": "markdown",
   "metadata": {},
   "source": [
    "## Load Clean DataFrame for EDA"
   ]
  },
  {
   "cell_type": "code",
   "execution_count": 181,
   "metadata": {},
   "outputs": [],
   "source": [
    "with open('../Data/df_clean.pkl', 'rb') as f:\n",
    "    df = pickle.load(f)"
   ]
  },
  {
   "cell_type": "markdown",
   "metadata": {},
   "source": [
    "## Compare Auxiliary Features Between Sub-Reddits"
   ]
  },
  {
   "cell_type": "code",
   "execution_count": 182,
   "metadata": {},
   "outputs": [
    {
     "data": {
      "text/html": [
       "<div>\n",
       "<style scoped>\n",
       "    .dataframe tbody tr th:only-of-type {\n",
       "        vertical-align: middle;\n",
       "    }\n",
       "\n",
       "    .dataframe tbody tr th {\n",
       "        vertical-align: top;\n",
       "    }\n",
       "\n",
       "    .dataframe thead th {\n",
       "        text-align: right;\n",
       "    }\n",
       "</style>\n",
       "<table border=\"1\" class=\"dataframe\">\n",
       "  <thead>\n",
       "    <tr style=\"text-align: right;\">\n",
       "      <th></th>\n",
       "      <th>score</th>\n",
       "      <th>num_comments</th>\n",
       "      <th>over_18</th>\n",
       "      <th>title_len</th>\n",
       "      <th>text_len</th>\n",
       "      <th>title_only</th>\n",
       "    </tr>\n",
       "    <tr>\n",
       "      <th>subreddit</th>\n",
       "      <th></th>\n",
       "      <th></th>\n",
       "      <th></th>\n",
       "      <th></th>\n",
       "      <th></th>\n",
       "      <th></th>\n",
       "    </tr>\n",
       "  </thead>\n",
       "  <tbody>\n",
       "    <tr>\n",
       "      <th>Jokes</th>\n",
       "      <td>371.231491</td>\n",
       "      <td>10.846715</td>\n",
       "      <td>0.062565</td>\n",
       "      <td>48.014599</td>\n",
       "      <td>198.992701</td>\n",
       "      <td>0.001043</td>\n",
       "    </tr>\n",
       "    <tr>\n",
       "      <th>confessions</th>\n",
       "      <td>42.442987</td>\n",
       "      <td>13.180626</td>\n",
       "      <td>0.017154</td>\n",
       "      <td>54.781029</td>\n",
       "      <td>685.320888</td>\n",
       "      <td>0.107972</td>\n",
       "    </tr>\n",
       "  </tbody>\n",
       "</table>\n",
       "</div>"
      ],
      "text/plain": [
       "                  score  num_comments   over_18  title_len    text_len  \\\n",
       "subreddit                                                                \n",
       "Jokes        371.231491     10.846715  0.062565  48.014599  198.992701   \n",
       "confessions   42.442987     13.180626  0.017154  54.781029  685.320888   \n",
       "\n",
       "             title_only  \n",
       "subreddit                \n",
       "Jokes          0.001043  \n",
       "confessions    0.107972  "
      ]
     },
     "execution_count": 182,
     "metadata": {},
     "output_type": "execute_result"
    }
   ],
   "source": [
    "df.groupby('subreddit')\\\n",
    "['score','num_comments','over_18','title_len','text_len','title_only'].mean().copy()"
   ]
  },
  {
   "cell_type": "code",
   "execution_count": 183,
   "metadata": {
    "scrolled": true
   },
   "outputs": [
    {
     "data": {
      "text/plain": [
       "<function matplotlib.pyplot.tight_layout>"
      ]
     },
     "execution_count": 183,
     "metadata": {},
     "output_type": "execute_result"
    },
    {
     "data": {
      "image/png": "[encoded data removed]",
      "text/plain": [
       "<matplotlib.figure.Figure at 0x1a288c3080>"
      ]
     },
     "metadata": {},
     "output_type": "display_data"
    }
   ],
   "source": [
    "##TODO:  Turn this into a loop, for each auxiliary feature\n",
    "fig = plt.figure(figsize=(14,6))\n",
    "fig.add_subplot(231)\n",
    "sns.barplot(x='subreddit', y='text_len', data=df)\n",
    "fig.add_subplot(232)\n",
    "sns.barplot(x='subreddit', y='over_18', data=df)\n",
    "fig.add_subplot(233)\n",
    "sns.barplot(x='subreddit', y='score', data=df)\n",
    "fig.add_subplot(234)\n",
    "sns.barplot(x='subreddit', y='num_comments', data=df)\n",
    "fig.add_subplot(235)\n",
    "sns.barplot(x='subreddit', y='title_len', data=df)\n",
    "fig.add_subplot(236)\n",
    "sns.barplot(x='subreddit', y='title_only', data=df)\n",
    "\n",
    "plt.tight_layout"
   ]
  },
  {
   "cell_type": "markdown",
   "metadata": {},
   "source": [
    "## Compare Text Data Between SubReddits"
   ]
  },
  {
   "cell_type": "markdown",
   "metadata": {},
   "source": [
    "### Split Text Data by SubReddit"
   ]
  },
  {
   "cell_type": "code",
   "execution_count": 184,
   "metadata": {},
   "outputs": [],
   "source": [
    "_stopwords = set(list(ENGLISH_STOP_WORDS)+list(punctuation) + ['ve','wa','don']) "
   ]
  },
  {
   "cell_type": "code",
   "execution_count": 185,
   "metadata": {},
   "outputs": [],
   "source": [
    "confessions_text = list(df[df.subreddit=='confessions'].title + ' ' + df[df.subreddit=='confessions'].selftext)\n",
    "jokes_text = list(df[df.subreddit=='Jokes'].title + ' ' + df[df.subreddit=='Jokes'].selftext)"
   ]
  },
  {
   "cell_type": "code",
   "execution_count": 186,
   "metadata": {},
   "outputs": [],
   "source": [
    "cvec_confessions = CountVectorizer(stop_words=_stopwords)\n",
    "cvec_confessions.fit(confessions_text)\n",
    "confessions_df_vec = pd.SparseDataFrame(cvec_confessions.transform(confessions_text), \n",
    "                                        columns = cvec_confessions.get_feature_names(), \n",
    "                                        default_fill_value=0)\n",
    "confessions_top_words = pd.DataFrame(confessions_df_vec.sum(),\n",
    "                                     columns = ['count']).sort_values('count', ascending=False)\n",
    "confessions_top_words['word'] = confessions_top_words.index"
   ]
  },
  {
   "cell_type": "code",
   "execution_count": 187,
   "metadata": {},
   "outputs": [],
   "source": [
    "cvec_jokes = CountVectorizer(stop_words=_stopwords)\n",
    "cvec_jokes.fit(jokes_text)\n",
    "jokes_df_vec = pd.SparseDataFrame(cvec_jokes.transform(jokes_text), \n",
    "                                        columns = cvec_jokes.get_feature_names(), \n",
    "                                        default_fill_value=0)\n",
    "jokes_top_words = pd.DataFrame(jokes_df_vec.sum(),\n",
    "                               columns = ['count']).sort_values('count', ascending=False)\n",
    "jokes_top_words['word'] = jokes_top_words.index"
   ]
  },
  {
   "cell_type": "markdown",
   "metadata": {},
   "source": [
    "## Visualize Top 20 Words for Each Sub-Reddit"
   ]
  },
  {
   "cell_type": "code",
   "execution_count": 197,
   "metadata": {},
   "outputs": [
    {
     "data": {
      "image/png": "[encoded data removed]",
      "text/plain": [
       "<matplotlib.figure.Figure at 0x1a2cb325f8>"
      ]
     },
     "metadata": {},
     "output_type": "display_data"
    }
   ],
   "source": [
    "x = range(20)\n",
    "fig = plt.figure(figsize=(14,5))\n",
    "fig.add_subplot(121)\n",
    "plt.bar(x, confessions_top_words['count'][:20])\n",
    "plt.xticks(x, confessions_top_words['word'][:20], rotation='vertical', fontsize=13)\n",
    "plt.title('Top 20 Words in Confessions')\n",
    "plt.ylabel('Count of Words')\n",
    "\n",
    "fig.add_subplot(122)\n",
    "\n",
    "plt.bar(x, jokes_top_words['count'][:20])\n",
    "plt.xticks(x, jokes_top_words['word'][:20], rotation='vertical', fontsize=13)\n",
    "plt.title('Top 20 Words in Jokes')\n",
    "plt.ylabel('Count of Words');\n"
   ]
  },
  {
   "cell_type": "code",
   "execution_count": null,
   "metadata": {},
   "outputs": [],
   "source": []
  }
 ],
 "metadata": {
  "kernelspec": {
   "display_name": "Python 3",
   "language": "python",
   "name": "python3"
  },
  "language_info": {
   "codemirror_mode": {
    "name": "ipython",
    "version": 3
   },
   "file_extension": ".py",
   "mimetype": "text/x-python",
   "name": "python",
   "nbconvert_exporter": "python",
   "pygments_lexer": "ipython3",
   "version": "3.6.4"
  }
 },
 "nbformat": 4,
 "nbformat_minor": 2
}
