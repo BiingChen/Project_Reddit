{
 "cells": [
  {
   "cell_type": "markdown",
   "metadata": {},
   "source": [
    "# 05C Score Complex Models"
   ]
  },
  {
   "cell_type": "markdown",
   "metadata": {},
   "source": [
    "## Imports"
   ]
  },
  {
   "cell_type": "code",
   "execution_count": 29,
   "metadata": {},
   "outputs": [],
   "source": [
    "import pickle\n",
    "import pandas as pd"
   ]
  },
  {
   "cell_type": "markdown",
   "metadata": {},
   "source": [
    "## Pull in Train and Test Data"
   ]
  },
  {
   "cell_type": "code",
   "execution_count": 30,
   "metadata": {},
   "outputs": [],
   "source": [
    "with open('../Data/X_train_clean.pkl', 'rb') as f:\n",
    "    X_train = pickle.load(f)\n",
    "    \n",
    "with open('../Data/X_test_clean.pkl', 'rb') as f:\n",
    "    X_test = pickle.load(f)\n",
    "    \n",
    "with open('../Data/y_train.pkl', 'rb') as f:\n",
    "    y_train = pickle.load(f)\n",
    "    \n",
    "with open('../Data/y_test.pkl', 'rb') as f:\n",
    "    y_test = pickle.load(f)"
   ]
  },
  {
   "cell_type": "markdown",
   "metadata": {},
   "source": [
    "## Create DataFrame to hold results"
   ]
  },
  {
   "cell_type": "code",
   "execution_count": 31,
   "metadata": {},
   "outputs": [],
   "source": [
    "pd.set_option('display.max_colwidth', -1)"
   ]
  },
  {
   "cell_type": "code",
   "execution_count": 32,
   "metadata": {},
   "outputs": [],
   "source": [
    "results = pd.DataFrame(columns=['model','train_score', 'test_score', 'best_params'])"
   ]
  },
  {
   "cell_type": "markdown",
   "metadata": {},
   "source": [
    "## RandomForest_gs"
   ]
  },
  {
   "cell_type": "code",
   "execution_count": 33,
   "metadata": {},
   "outputs": [],
   "source": [
    "with open('../Models/RandomForest_gs.pkl', 'rb') as f:\n",
    "    rf_gs = pickle.load(f)"
   ]
  },
  {
   "cell_type": "code",
   "execution_count": 34,
   "metadata": {},
   "outputs": [],
   "source": [
    "counter = len(results) + 1\n",
    "results.loc[counter, 'model'] = 'RandomForest_gs'\n",
    "results.loc[counter, 'train_score'] = rf_gs.score(X_train,y_train)\n",
    "results.loc[counter, 'test_score'] = rf_gs.score(X_test,y_test)\n",
    "results.loc[counter, 'best_params'] = str(rf_gs.best_params_)"
   ]
  },
  {
   "cell_type": "markdown",
   "metadata": {},
   "source": [
    "## GradientBoost_gs"
   ]
  },
  {
   "cell_type": "code",
   "execution_count": 35,
   "metadata": {},
   "outputs": [],
   "source": [
    "with open('../Models/GradientBoost_gs.pkl', 'rb') as f:\n",
    "    gb_gs = pickle.load(f)"
   ]
  },
  {
   "cell_type": "code",
   "execution_count": 36,
   "metadata": {},
   "outputs": [],
   "source": [
    "counter = len(results) + 1\n",
    "results.loc[counter, 'model'] = 'GradientBoost_gs'\n",
    "results.loc[counter, 'train_score'] = gb_gs.score(X_train,y_train)\n",
    "results.loc[counter, 'test_score'] = gb_gs.score(X_test,y_test)\n",
    "results.loc[counter, 'best_params'] = str(gb_gs.best_params_)"
   ]
  },
  {
   "cell_type": "markdown",
   "metadata": {},
   "source": [
    "## AdaBoost_gs"
   ]
  },
  {
   "cell_type": "code",
   "execution_count": 39,
   "metadata": {},
   "outputs": [],
   "source": [
    "with open('../Models/AdaBoost_gs.pkl', 'rb') as f:\n",
    "    ada_gs = pickle.load(f)"
   ]
  },
  {
   "cell_type": "code",
   "execution_count": 40,
   "metadata": {},
   "outputs": [],
   "source": [
    "counter = len(results) + 1\n",
    "results.loc[counter, 'model'] = 'AdaBoost_gs'\n",
    "results.loc[counter, 'train_score'] = ada_gs.score(X_train,y_train)\n",
    "results.loc[counter, 'test_score'] = ada_gs.score(X_test,y_test)\n",
    "results.loc[counter, 'best_params'] = str(ada_gs.best_params_)"
   ]
  },
  {
   "cell_type": "markdown",
   "metadata": {},
   "source": [
    "## Bag_Trees_gs"
   ]
  },
  {
   "cell_type": "code",
   "execution_count": 41,
   "metadata": {},
   "outputs": [],
   "source": [
    "with open('../Models/Bag_Trees_gs.pkl', 'rb') as f:\n",
    "    bag_gs = pickle.load(f)"
   ]
  },
  {
   "cell_type": "code",
   "execution_count": 42,
   "metadata": {},
   "outputs": [],
   "source": [
    "counter = len(results) + 1\n",
    "results.loc[counter, 'model'] = 'BagTrees_gs'\n",
    "results.loc[counter, 'train_score'] = bag_gs.score(X_train,y_train)\n",
    "results.loc[counter, 'test_score'] = bag_gs.score(X_test,y_test)\n",
    "results.loc[counter, 'best_params'] = str(bag_gs.best_params_)"
   ]
  },
  {
   "cell_type": "code",
   "execution_count": null,
   "metadata": {},
   "outputs": [],
   "source": [
    "coefficients = pd.DataFrame(lr.coef_[0], \n",
    "                            index=X_train.columns,\n",
    "                            columns=['coefficients']).sort_values('coefficients', ascending=False)"
   ]
  },
  {
   "cell_type": "markdown",
   "metadata": {},
   "source": [
    "## LogisticRegression_gs"
   ]
  },
  {
   "cell_type": "code",
   "execution_count": 43,
   "metadata": {},
   "outputs": [],
   "source": [
    "with open('../Models/LogisticRegression_gs.pkl', 'rb') as f:\n",
    "    lr_gs = pickle.load(f)"
   ]
  },
  {
   "cell_type": "code",
   "execution_count": 44,
   "metadata": {},
   "outputs": [],
   "source": [
    "counter = len(results) + 1\n",
    "results.loc[counter, 'model'] = 'LogisticRegression_gs'\n",
    "results.loc[counter, 'train_score'] = lr_gs.score(X_train,y_train)\n",
    "results.loc[counter, 'test_score'] = lr_gs.score(X_test,y_test)\n",
    "results.loc[counter, 'best_params'] = str(lr_gs.best_params_)"
   ]
  },
  {
   "cell_type": "code",
   "execution_count": 45,
   "metadata": {},
   "outputs": [
    {
     "data": {
      "text/html": [
       "<div>\n",
       "<style scoped>\n",
       "    .dataframe tbody tr th:only-of-type {\n",
       "        vertical-align: middle;\n",
       "    }\n",
       "\n",
       "    .dataframe tbody tr th {\n",
       "        vertical-align: top;\n",
       "    }\n",
       "\n",
       "    .dataframe thead th {\n",
       "        text-align: right;\n",
       "    }\n",
       "</style>\n",
       "<table border=\"1\" class=\"dataframe\">\n",
       "  <thead>\n",
       "    <tr style=\"text-align: right;\">\n",
       "      <th></th>\n",
       "      <th>model</th>\n",
       "      <th>train_score</th>\n",
       "      <th>test_score</th>\n",
       "      <th>best_params</th>\n",
       "    </tr>\n",
       "  </thead>\n",
       "  <tbody>\n",
       "    <tr>\n",
       "      <th>1</th>\n",
       "      <td>RandomForest_gs</td>\n",
       "      <td>1</td>\n",
       "      <td>0.895726</td>\n",
       "      <td>{'min_samples_leaf': 1, 'min_samples_split': 2, 'n_estimators': 100}</td>\n",
       "    </tr>\n",
       "    <tr>\n",
       "      <th>2</th>\n",
       "      <td>GradientBoost_gs</td>\n",
       "      <td>1</td>\n",
       "      <td>0.91453</td>\n",
       "      <td>{'learning_rate': 0.1, 'max_depth': 4}</td>\n",
       "    </tr>\n",
       "    <tr>\n",
       "      <th>3</th>\n",
       "      <td>AdaBoost_gs</td>\n",
       "      <td>0.947253</td>\n",
       "      <td>0.912821</td>\n",
       "      <td>{'learning_rate': 0.5, 'n_estimators': 50}</td>\n",
       "    </tr>\n",
       "    <tr>\n",
       "      <th>4</th>\n",
       "      <td>BagTrees_gs</td>\n",
       "      <td>0.945788</td>\n",
       "      <td>0.88547</td>\n",
       "      <td>{'base_estimator__max_depth': 8, 'base_estimator__min_samples_split': 2, 'n_estimators': 10}</td>\n",
       "    </tr>\n",
       "    <tr>\n",
       "      <th>5</th>\n",
       "      <td>LogisticRegression_gs</td>\n",
       "      <td>1</td>\n",
       "      <td>0.909402</td>\n",
       "      <td>{'C': 10, 'penalty': 'l2'}</td>\n",
       "    </tr>\n",
       "  </tbody>\n",
       "</table>\n",
       "</div>"
      ],
      "text/plain": [
       "                   model train_score test_score  \\\n",
       "1  RandomForest_gs        1           0.895726    \n",
       "2  GradientBoost_gs       1           0.91453     \n",
       "3  AdaBoost_gs            0.947253    0.912821    \n",
       "4  BagTrees_gs            0.945788    0.88547     \n",
       "5  LogisticRegression_gs  1           0.909402    \n",
       "\n",
       "                                                                                    best_params  \n",
       "1  {'min_samples_leaf': 1, 'min_samples_split': 2, 'n_estimators': 100}                          \n",
       "2  {'learning_rate': 0.1, 'max_depth': 4}                                                        \n",
       "3  {'learning_rate': 0.5, 'n_estimators': 50}                                                    \n",
       "4  {'base_estimator__max_depth': 8, 'base_estimator__min_samples_split': 2, 'n_estimators': 10}  \n",
       "5  {'C': 10, 'penalty': 'l2'}                                                                    "
      ]
     },
     "execution_count": 45,
     "metadata": {},
     "output_type": "execute_result"
    }
   ],
   "source": [
    "results"
   ]
  }
 ],
 "metadata": {
  "kernelspec": {
   "display_name": "Python 3",
   "language": "python",
   "name": "python3"
  },
  "language_info": {
   "codemirror_mode": {
    "name": "ipython",
    "version": 3
   },
   "file_extension": ".py",
   "mimetype": "text/x-python",
   "name": "python",
   "nbconvert_exporter": "python",
   "pygments_lexer": "ipython3",
   "version": "3.6.4"
  }
 },
 "nbformat": 4,
 "nbformat_minor": 2
}
