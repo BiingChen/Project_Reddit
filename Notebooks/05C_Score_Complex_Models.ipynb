{
 "cells": [
  {
   "cell_type": "markdown",
   "metadata": {},
   "source": [
    "## Imports"
   ]
  },
  {
   "cell_type": "code",
   "execution_count": 22,
   "metadata": {},
   "outputs": [],
   "source": [
    "import pickle\n",
    "import pandas as pd"
   ]
  },
  {
   "cell_type": "markdown",
   "metadata": {},
   "source": [
    "## Pull in Train and Test Data"
   ]
  },
  {
   "cell_type": "code",
   "execution_count": 65,
   "metadata": {},
   "outputs": [],
   "source": [
    "with open('../Data/X_train_clean.pkl', 'rb') as f:\n",
    "    X_train = pickle.load(f)\n",
    "    \n",
    "with open('../Data/X_test_clean.pkl', 'rb') as f:\n",
    "    X_test = pickle.load(f)\n",
    "    \n",
    "with open('../Data/y_train.pkl', 'rb') as f:\n",
    "    y_train = pickle.load(f)\n",
    "    \n",
    "with open('../Data/y_test.pkl', 'rb') as f:\n",
    "    y_test = pickle.load(f)"
   ]
  },
  {
   "cell_type": "code",
   "execution_count": 66,
   "metadata": {},
   "outputs": [
    {
     "data": {
      "text/plain": [
       "(585, 8709)"
      ]
     },
     "execution_count": 66,
     "metadata": {},
     "output_type": "execute_result"
    }
   ],
   "source": [
    "X_test.shape"
   ]
  },
  {
   "cell_type": "markdown",
   "metadata": {},
   "source": [
    "## Create DataFrame to hold results"
   ]
  },
  {
   "cell_type": "code",
   "execution_count": 32,
   "metadata": {},
   "outputs": [],
   "source": [
    "pd.set_option('display.max_colwidth', -1)"
   ]
  },
  {
   "cell_type": "code",
   "execution_count": 57,
   "metadata": {},
   "outputs": [],
   "source": [
    "results = pd.DataFrame(columns=['model','train_score', 'test_score', 'best_params'])"
   ]
  },
  {
   "cell_type": "markdown",
   "metadata": {},
   "source": [
    "## RandomForest_gs"
   ]
  },
  {
   "cell_type": "code",
   "execution_count": 67,
   "metadata": {},
   "outputs": [],
   "source": [
    "with open('../Models/RandomForest_gs.pkl', 'rb') as f:\n",
    "    rf_gs = pickle.load(f)"
   ]
  },
  {
   "cell_type": "code",
   "execution_count": 68,
   "metadata": {},
   "outputs": [],
   "source": [
    "counter = len(results) + 1\n",
    "results.loc[counter, 'model'] = 'RandomForest_gs'\n",
    "results.loc[counter, 'train_score'] = rf_gs.score(X_train,y_train)\n",
    "results.loc[counter, 'test_score'] = rf_gs.score(X_test,y_test)\n",
    "results.loc[counter, 'best_params'] = str(rf_gs.best_params_)"
   ]
  },
  {
   "cell_type": "markdown",
   "metadata": {},
   "source": [
    "## GradientBoost_gs"
   ]
  },
  {
   "cell_type": "code",
   "execution_count": 69,
   "metadata": {},
   "outputs": [],
   "source": [
    "with open('../Models/GradientBoost_gs.pkl', 'rb') as f:\n",
    "    gb_gs = pickle.load(f)"
   ]
  },
  {
   "cell_type": "code",
   "execution_count": 70,
   "metadata": {},
   "outputs": [],
   "source": [
    "counter = len(results) + 1\n",
    "results.loc[counter, 'model'] = 'GradientBoost_gs'\n",
    "results.loc[counter, 'train_score'] = gb_gs.score(X_train,y_train)\n",
    "results.loc[counter, 'test_score'] = gb_gs.score(X_test,y_test)\n",
    "results.loc[counter, 'best_params'] = str(gb_gs.best_params_)"
   ]
  },
  {
   "cell_type": "code",
   "execution_count": 71,
   "metadata": {},
   "outputs": [
    {
     "data": {
      "text/html": [
       "<div>\n",
       "<style scoped>\n",
       "    .dataframe tbody tr th:only-of-type {\n",
       "        vertical-align: middle;\n",
       "    }\n",
       "\n",
       "    .dataframe tbody tr th {\n",
       "        vertical-align: top;\n",
       "    }\n",
       "\n",
       "    .dataframe thead th {\n",
       "        text-align: right;\n",
       "    }\n",
       "</style>\n",
       "<table border=\"1\" class=\"dataframe\">\n",
       "  <thead>\n",
       "    <tr style=\"text-align: right;\">\n",
       "      <th></th>\n",
       "      <th>model</th>\n",
       "      <th>train_score</th>\n",
       "      <th>test_score</th>\n",
       "      <th>best_params</th>\n",
       "    </tr>\n",
       "  </thead>\n",
       "  <tbody>\n",
       "    <tr>\n",
       "      <th>1</th>\n",
       "      <td>AdaBoost_gs</td>\n",
       "      <td>0.947253</td>\n",
       "      <td>0.912821</td>\n",
       "      <td>{'learning_rate': 0.5, 'n_estimators': 50}</td>\n",
       "    </tr>\n",
       "    <tr>\n",
       "      <th>2</th>\n",
       "      <td>BagTrees_gs</td>\n",
       "      <td>0.94652</td>\n",
       "      <td>0.876923</td>\n",
       "      <td>{'base_estimator__max_depth': 8, 'base_estimator__min_samples_split': 2, 'n_estimators': 10}</td>\n",
       "    </tr>\n",
       "    <tr>\n",
       "      <th>3</th>\n",
       "      <td>LogisticRegression_gs</td>\n",
       "      <td>0.998535</td>\n",
       "      <td>0.895726</td>\n",
       "      <td>{'C': 10, 'penalty': 'l2'}</td>\n",
       "    </tr>\n",
       "    <tr>\n",
       "      <th>4</th>\n",
       "      <td>RandomForest_gs</td>\n",
       "      <td>1</td>\n",
       "      <td>0.895726</td>\n",
       "      <td>{'min_samples_leaf': 1, 'min_samples_split': 2, 'n_estimators': 100}</td>\n",
       "    </tr>\n",
       "    <tr>\n",
       "      <th>5</th>\n",
       "      <td>GradientBoost_gs</td>\n",
       "      <td>1</td>\n",
       "      <td>0.91453</td>\n",
       "      <td>{'learning_rate': 0.1, 'max_depth': 4}</td>\n",
       "    </tr>\n",
       "  </tbody>\n",
       "</table>\n",
       "</div>"
      ],
      "text/plain": [
       "                   model train_score test_score                                                                                   best_params\n",
       "1  AdaBoost_gs            0.947253    0.912821   {'learning_rate': 0.5, 'n_estimators': 50}                                                  \n",
       "2  BagTrees_gs            0.94652     0.876923   {'base_estimator__max_depth': 8, 'base_estimator__min_samples_split': 2, 'n_estimators': 10}\n",
       "3  LogisticRegression_gs  0.998535    0.895726   {'C': 10, 'penalty': 'l2'}                                                                  \n",
       "4  RandomForest_gs        1           0.895726   {'min_samples_leaf': 1, 'min_samples_split': 2, 'n_estimators': 100}                        \n",
       "5  GradientBoost_gs       1           0.91453    {'learning_rate': 0.1, 'max_depth': 4}                                                      "
      ]
     },
     "execution_count": 71,
     "metadata": {},
     "output_type": "execute_result"
    }
   ],
   "source": [
    "results"
   ]
  },
  {
   "cell_type": "code",
   "execution_count": 50,
   "metadata": {},
   "outputs": [
    {
     "name": "stdout",
     "output_type": "stream",
     "text": [
      "AdaBoost_gs           GradientBoost_gs.pkl  RandomForest_gs.pkl\r\n",
      "Bag_Trees_gs          LogisticRegression_gs\r\n"
     ]
    }
   ],
   "source": [
    "!ls ../Models"
   ]
  },
  {
   "cell_type": "markdown",
   "metadata": {},
   "source": [
    "## AdaBoost_gs"
   ]
  },
  {
   "cell_type": "code",
   "execution_count": 58,
   "metadata": {},
   "outputs": [],
   "source": [
    "with open('../Models/AdaBoost_gs', 'rb') as f:\n",
    "    ada_gs = pickle.load(f)"
   ]
  },
  {
   "cell_type": "code",
   "execution_count": 59,
   "metadata": {},
   "outputs": [],
   "source": [
    "counter = len(results) + 1\n",
    "results.loc[counter, 'model'] = 'AdaBoost_gs'\n",
    "results.loc[counter, 'train_score'] = ada_gs.score(X_train,y_train)\n",
    "results.loc[counter, 'test_score'] = ada_gs.score(X_test,y_test)\n",
    "results.loc[counter, 'best_params'] = str(ada_gs.best_params_)"
   ]
  },
  {
   "cell_type": "markdown",
   "metadata": {},
   "source": [
    "## Bag_Trees_gs"
   ]
  },
  {
   "cell_type": "code",
   "execution_count": 60,
   "metadata": {},
   "outputs": [],
   "source": [
    "with open('../Models/Bag_Trees_gs', 'rb') as f:\n",
    "    bag_gs = pickle.load(f)"
   ]
  },
  {
   "cell_type": "code",
   "execution_count": 61,
   "metadata": {},
   "outputs": [],
   "source": [
    "counter = len(results) + 1\n",
    "results.loc[counter, 'model'] = 'BagTrees_gs'\n",
    "results.loc[counter, 'train_score'] = bag_gs.score(X_train,y_train)\n",
    "results.loc[counter, 'test_score'] = bag_gs.score(X_test,y_test)\n",
    "results.loc[counter, 'best_params'] = str(bag_gs.best_params_)"
   ]
  },
  {
   "cell_type": "markdown",
   "metadata": {},
   "source": [
    "## LogisticRegression_gs"
   ]
  },
  {
   "cell_type": "code",
   "execution_count": 62,
   "metadata": {},
   "outputs": [],
   "source": [
    "with open('../Models/LogisticRegression_gs', 'rb') as f:\n",
    "    lr_gs = pickle.load(f)"
   ]
  },
  {
   "cell_type": "code",
   "execution_count": 63,
   "metadata": {},
   "outputs": [],
   "source": [
    "counter = len(results) + 1\n",
    "results.loc[counter, 'model'] = 'LogisticRegression_gs'\n",
    "results.loc[counter, 'train_score'] = lr_gs.score(X_train,y_train)\n",
    "results.loc[counter, 'test_score'] = lr_gs.score(X_test,y_test)\n",
    "results.loc[counter, 'best_params'] = str(lr_gs.best_params_)"
   ]
  },
  {
   "cell_type": "code",
   "execution_count": 72,
   "metadata": {},
   "outputs": [
    {
     "data": {
      "text/html": [
       "<div>\n",
       "<style scoped>\n",
       "    .dataframe tbody tr th:only-of-type {\n",
       "        vertical-align: middle;\n",
       "    }\n",
       "\n",
       "    .dataframe tbody tr th {\n",
       "        vertical-align: top;\n",
       "    }\n",
       "\n",
       "    .dataframe thead th {\n",
       "        text-align: right;\n",
       "    }\n",
       "</style>\n",
       "<table border=\"1\" class=\"dataframe\">\n",
       "  <thead>\n",
       "    <tr style=\"text-align: right;\">\n",
       "      <th></th>\n",
       "      <th>model</th>\n",
       "      <th>train_score</th>\n",
       "      <th>test_score</th>\n",
       "      <th>best_params</th>\n",
       "    </tr>\n",
       "  </thead>\n",
       "  <tbody>\n",
       "    <tr>\n",
       "      <th>1</th>\n",
       "      <td>AdaBoost_gs</td>\n",
       "      <td>0.947253</td>\n",
       "      <td>0.912821</td>\n",
       "      <td>{'learning_rate': 0.5, 'n_estimators': 50}</td>\n",
       "    </tr>\n",
       "    <tr>\n",
       "      <th>2</th>\n",
       "      <td>BagTrees_gs</td>\n",
       "      <td>0.94652</td>\n",
       "      <td>0.876923</td>\n",
       "      <td>{'base_estimator__max_depth': 8, 'base_estimator__min_samples_split': 2, 'n_estimators': 10}</td>\n",
       "    </tr>\n",
       "    <tr>\n",
       "      <th>3</th>\n",
       "      <td>LogisticRegression_gs</td>\n",
       "      <td>0.998535</td>\n",
       "      <td>0.895726</td>\n",
       "      <td>{'C': 10, 'penalty': 'l2'}</td>\n",
       "    </tr>\n",
       "    <tr>\n",
       "      <th>4</th>\n",
       "      <td>RandomForest_gs</td>\n",
       "      <td>1</td>\n",
       "      <td>0.895726</td>\n",
       "      <td>{'min_samples_leaf': 1, 'min_samples_split': 2, 'n_estimators': 100}</td>\n",
       "    </tr>\n",
       "    <tr>\n",
       "      <th>5</th>\n",
       "      <td>GradientBoost_gs</td>\n",
       "      <td>1</td>\n",
       "      <td>0.91453</td>\n",
       "      <td>{'learning_rate': 0.1, 'max_depth': 4}</td>\n",
       "    </tr>\n",
       "  </tbody>\n",
       "</table>\n",
       "</div>"
      ],
      "text/plain": [
       "                   model train_score test_score                                                                                   best_params\n",
       "1  AdaBoost_gs            0.947253    0.912821   {'learning_rate': 0.5, 'n_estimators': 50}                                                  \n",
       "2  BagTrees_gs            0.94652     0.876923   {'base_estimator__max_depth': 8, 'base_estimator__min_samples_split': 2, 'n_estimators': 10}\n",
       "3  LogisticRegression_gs  0.998535    0.895726   {'C': 10, 'penalty': 'l2'}                                                                  \n",
       "4  RandomForest_gs        1           0.895726   {'min_samples_leaf': 1, 'min_samples_split': 2, 'n_estimators': 100}                        \n",
       "5  GradientBoost_gs       1           0.91453    {'learning_rate': 0.1, 'max_depth': 4}                                                      "
      ]
     },
     "execution_count": 72,
     "metadata": {},
     "output_type": "execute_result"
    }
   ],
   "source": [
    "results"
   ]
  },
  {
   "cell_type": "code",
   "execution_count": null,
   "metadata": {},
   "outputs": [],
   "source": []
  }
 ],
 "metadata": {
  "kernelspec": {
   "display_name": "Python 3",
   "language": "python",
   "name": "python3"
  },
  "language_info": {
   "codemirror_mode": {
    "name": "ipython",
    "version": 3
   },
   "file_extension": ".py",
   "mimetype": "text/x-python",
   "name": "python",
   "nbconvert_exporter": "python",
   "pygments_lexer": "ipython3",
   "version": "3.6.4"
  }
 },
 "nbformat": 4,
 "nbformat_minor": 2
}
