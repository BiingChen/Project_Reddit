{
 "cells": [
  {
   "cell_type": "markdown",
   "metadata": {},
   "source": [
    "# 01 Get Data"
   ]
  },
  {
   "cell_type": "markdown",
   "metadata": {},
   "source": [
    "## Imports & Functions"
   ]
  },
  {
   "cell_type": "code",
   "execution_count": 1,
   "metadata": {},
   "outputs": [],
   "source": [
    "import requests\n",
    "import time\n",
    "import json"
   ]
  },
  {
   "cell_type": "code",
   "execution_count": 4,
   "metadata": {},
   "outputs": [],
   "source": [
    "def get_posts( sub = 'all', num_pages = 4, avoid_distinguished = True, attached = None, headers = {'User-agent':'bing1'}):\n",
    "    \"\"\"\n",
    "    Returns a list of pages from a subreddit. \n",
    "    \n",
    "    ===========================\n",
    "    ======= Parameters ========\n",
    "    ===========================\n",
    "\n",
    "    sub = 'all' (default): type = string\n",
    "        The subreddit you want to querry. \n",
    "        https://reddit.com/r/{sub}/ \n",
    "    -------------------------------------------------------------\n",
    "    num_pages = 4 (default): type = int\n",
    "        Number of pages to read from.  \n",
    "        This also is the number of seconds\n",
    "        this function takes to run\n",
    "    -------------------------------------------------------------\n",
    "    avoid_distinguished = True (default): type = bool\n",
    "        Whether or not to avoid stickied, archived,\n",
    "        and admin posts\n",
    "    -------------------------------------------------------------\n",
    "    attached = None (default): type = List\n",
    "        The list that you are appending new data onto.\n",
    "        Default to make a new list.  \n",
    "        \n",
    "    ===========================\n",
    "    ========  Example =========\n",
    "    ===========================    \n",
    "    \n",
    "    the_posts= get_posts(sub = 'jokes',\n",
    "                            num_pages=1, \n",
    "                            avoid_distinguished=True)\n",
    "                            \n",
    "    the_posts= get_posts(sub = 'nosleep',\n",
    "                            num_pages=1, \n",
    "                            avoid_distinguished=True, \n",
    "                            attached=the_posts )\n",
    "    \n",
    "    >>> Returns a list of ~25 posts from reddit.com/r/jokes and\n",
    "                    ~25 posts from reddit.com/r/nosleep\n",
    "    \n",
    "    \n",
    "    \"\"\"\n",
    "    if attached:\n",
    "        posts = attached\n",
    "    else:\n",
    "        posts = []\n",
    "    counter = 0\n",
    "    after = None\n",
    "    while counter < num_pages:\n",
    "        if after == None:\n",
    "            params = {}\n",
    "        else:\n",
    "            params = {'after': after}\n",
    "        res = requests.get(f'https://reddit.com/r/{sub}/.json', params ,headers=headers)\n",
    "        if(res.status_code!=200):\n",
    "            print('invalid sub')\n",
    "            return None\n",
    "        the_json = res.json()\n",
    "        if avoid_distinguished:\n",
    "            page = [child for child in the_json['data'].get('children') if not child['data']['stickied'] and not child['data']['archived'] and not child['data']['distinguished']]\n",
    "        else:\n",
    "            page = the_json['data'].get('children')\n",
    "        posts.extend(page)\n",
    "        after = the_json['data']['after']\n",
    "        counter += 1\n",
    "        print(counter)\n",
    "        time.sleep(1)\n",
    "    return posts"
   ]
  },
  {
   "cell_type": "markdown",
   "metadata": {},
   "source": [
    "## Scrape using Max's Function"
   ]
  },
  {
   "cell_type": "code",
   "execution_count": 5,
   "metadata": {
    "collapsed": true
   },
   "outputs": [
    {
     "name": "stdout",
     "output_type": "stream",
     "text": [
      "1\n",
      "2\n",
      "3\n",
      "4\n",
      "5\n",
      "6\n",
      "7\n",
      "8\n",
      "9\n",
      "10\n",
      "11\n",
      "12\n",
      "13\n",
      "14\n",
      "15\n",
      "16\n",
      "17\n",
      "18\n",
      "19\n",
      "20\n",
      "21\n",
      "22\n",
      "23\n",
      "24\n",
      "25\n",
      "26\n",
      "27\n",
      "28\n",
      "29\n",
      "30\n",
      "31\n",
      "32\n",
      "33\n",
      "34\n",
      "35\n",
      "36\n",
      "37\n",
      "38\n",
      "39\n",
      "40\n",
      "1\n",
      "2\n",
      "3\n",
      "4\n",
      "5\n",
      "6\n",
      "7\n",
      "8\n",
      "9\n",
      "10\n",
      "11\n",
      "12\n",
      "13\n",
      "14\n",
      "15\n",
      "16\n",
      "17\n",
      "18\n",
      "19\n",
      "20\n",
      "21\n",
      "22\n",
      "23\n",
      "24\n",
      "25\n",
      "26\n",
      "27\n",
      "28\n",
      "29\n",
      "30\n",
      "31\n",
      "32\n",
      "33\n",
      "34\n",
      "35\n",
      "36\n",
      "37\n",
      "38\n",
      "39\n",
      "40\n"
     ]
    }
   ],
   "source": [
    "data = get_posts('confessions',40)\n",
    "data = get_posts('jokes',40,attached=data)"
   ]
  },
  {
   "cell_type": "markdown",
   "metadata": {},
   "source": [
    "## Dump the text files into Data Folder"
   ]
  },
  {
   "cell_type": "code",
   "execution_count": 6,
   "metadata": {},
   "outputs": [],
   "source": [
    "with open('../Data/raw.json', 'w+') as f:\n",
    "    json.dump(data, f)"
   ]
  }
 ],
 "metadata": {
  "kernelspec": {
   "display_name": "Python 3",
   "language": "python",
   "name": "python3"
  },
  "language_info": {
   "codemirror_mode": {
    "name": "ipython",
    "version": 3
   },
   "file_extension": ".py",
   "mimetype": "text/x-python",
   "name": "python",
   "nbconvert_exporter": "python",
   "pygments_lexer": "ipython3",
   "version": "3.6.4"
  }
 },
 "nbformat": 4,
 "nbformat_minor": 2
}
