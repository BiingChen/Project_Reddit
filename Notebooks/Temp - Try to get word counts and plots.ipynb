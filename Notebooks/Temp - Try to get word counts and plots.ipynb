{
 "cells": [
  {
   "cell_type": "code",
   "execution_count": 1,
   "metadata": {},
   "outputs": [],
   "source": [
    "import numpy as np\n",
    "import pandas as pd\n",
    "import pickle\n",
    "from sklearn.feature_extraction.text import TfidfVectorizer, CountVectorizer\n",
    "from sklearn.feature_extraction.text import ENGLISH_STOP_WORDS\n",
    "from sklearn.preprocessing import StandardScaler\n",
    "from string import punctuation"
   ]
  },
  {
   "cell_type": "markdown",
   "metadata": {},
   "source": [
    "## Pull in X_train and X_test data"
   ]
  },
  {
   "cell_type": "code",
   "execution_count": 2,
   "metadata": {},
   "outputs": [],
   "source": [
    "with open('../Data/X_train.pkl', 'rb') as f:\n",
    "    X_train = pickle.load(f)\n",
    "\n",
    "with open('../Data/X_test.pkl', 'rb') as f:\n",
    "    X_test = pickle.load(f)"
   ]
  },
  {
   "cell_type": "code",
   "execution_count": 3,
   "metadata": {},
   "outputs": [
    {
     "data": {
      "text/html": [
       "<div>\n",
       "<style scoped>\n",
       "    .dataframe tbody tr th:only-of-type {\n",
       "        vertical-align: middle;\n",
       "    }\n",
       "\n",
       "    .dataframe tbody tr th {\n",
       "        vertical-align: top;\n",
       "    }\n",
       "\n",
       "    .dataframe thead th {\n",
       "        text-align: right;\n",
       "    }\n",
       "</style>\n",
       "<table border=\"1\" class=\"dataframe\">\n",
       "  <thead>\n",
       "    <tr style=\"text-align: right;\">\n",
       "      <th></th>\n",
       "      <th>author</th>\n",
       "      <th>created_utc</th>\n",
       "      <th>num_comments</th>\n",
       "      <th>over_18</th>\n",
       "      <th>score</th>\n",
       "      <th>selftext</th>\n",
       "      <th>title</th>\n",
       "      <th>title_len</th>\n",
       "      <th>text_len</th>\n",
       "    </tr>\n",
       "  </thead>\n",
       "  <tbody>\n",
       "    <tr>\n",
       "      <th>1686</th>\n",
       "      <td>unjedilike</td>\n",
       "      <td>1.527586e+09</td>\n",
       "      <td>0</td>\n",
       "      <td>True</td>\n",
       "      <td>0</td>\n",
       "      <td>he say mom grandma s drunk again in the living...</td>\n",
       "      <td>a mother is cooking dinner when her son come r...</td>\n",
       "      <td>55</td>\n",
       "      <td>418</td>\n",
       "    </tr>\n",
       "    <tr>\n",
       "      <th>1771</th>\n",
       "      <td>sceptical_unicorn</td>\n",
       "      <td>1.527501e+09</td>\n",
       "      <td>0</td>\n",
       "      <td>False</td>\n",
       "      <td>9</td>\n",
       "      <td>i d just be a waste of space</td>\n",
       "      <td>i could never be an astronaut</td>\n",
       "      <td>29</td>\n",
       "      <td>28</td>\n",
       "    </tr>\n",
       "    <tr>\n",
       "      <th>1433</th>\n",
       "      <td>Pokemaster131</td>\n",
       "      <td>1.527632e+09</td>\n",
       "      <td>0</td>\n",
       "      <td>False</td>\n",
       "      <td>1</td>\n",
       "      <td>you just have to navigate the dark web</td>\n",
       "      <td>do you want to watch the movie venom about spi...</td>\n",
       "      <td>92</td>\n",
       "      <td>38</td>\n",
       "    </tr>\n",
       "    <tr>\n",
       "      <th>1319</th>\n",
       "      <td>wackoclown</td>\n",
       "      <td>1.527516e+09</td>\n",
       "      <td>57</td>\n",
       "      <td>False</td>\n",
       "      <td>1448</td>\n",
       "      <td>dave accidentally dropped some card on the flo...</td>\n",
       "      <td>two couple were playing poker one evening</td>\n",
       "      <td>41</td>\n",
       "      <td>1547</td>\n",
       "    </tr>\n",
       "    <tr>\n",
       "      <th>1013</th>\n",
       "      <td>Spooder6</td>\n",
       "      <td>1.527697e+09</td>\n",
       "      <td>3</td>\n",
       "      <td>False</td>\n",
       "      <td>26</td>\n",
       "      <td>it s really interesting i can t put it down</td>\n",
       "      <td>i found a book about anti gravity</td>\n",
       "      <td>33</td>\n",
       "      <td>43</td>\n",
       "    </tr>\n",
       "  </tbody>\n",
       "</table>\n",
       "</div>"
      ],
      "text/plain": [
       "                 author   created_utc  num_comments  over_18  score  \\\n",
       "1686         unjedilike  1.527586e+09             0     True      0   \n",
       "1771  sceptical_unicorn  1.527501e+09             0    False      9   \n",
       "1433      Pokemaster131  1.527632e+09             0    False      1   \n",
       "1319         wackoclown  1.527516e+09            57    False   1448   \n",
       "1013           Spooder6  1.527697e+09             3    False     26   \n",
       "\n",
       "                                               selftext  \\\n",
       "1686  he say mom grandma s drunk again in the living...   \n",
       "1771                       i d just be a waste of space   \n",
       "1433             you just have to navigate the dark web   \n",
       "1319  dave accidentally dropped some card on the flo...   \n",
       "1013        it s really interesting i can t put it down   \n",
       "\n",
       "                                                  title  title_len  text_len  \n",
       "1686  a mother is cooking dinner when her son come r...         55       418  \n",
       "1771                      i could never be an astronaut         29        28  \n",
       "1433  do you want to watch the movie venom about spi...         92        38  \n",
       "1319          two couple were playing poker one evening         41      1547  \n",
       "1013                  i found a book about anti gravity         33        43  "
      ]
     },
     "execution_count": 3,
     "metadata": {},
     "output_type": "execute_result"
    }
   ],
   "source": [
    "X_train.head()"
   ]
  },
  {
   "cell_type": "markdown",
   "metadata": {},
   "source": [
    "## Extract Text Data"
   ]
  },
  {
   "cell_type": "code",
   "execution_count": 4,
   "metadata": {},
   "outputs": [],
   "source": [
    "X_train_text = list(X_train.title + ' ' + X_train.selftext)\n",
    "X_test_text = list(X_test.title + ' ' + X_test.selftext)"
   ]
  },
  {
   "cell_type": "markdown",
   "metadata": {},
   "source": [
    "## Setup additional stopwords"
   ]
  },
  {
   "cell_type": "code",
   "execution_count": 277,
   "metadata": {},
   "outputs": [],
   "source": [
    "_stopwords = set(list(ENGLISH_STOP_WORDS)+list(punctuation))"
   ]
  },
  {
   "cell_type": "markdown",
   "metadata": {},
   "source": [
    "## Fit Vectorizer and Transform Text Data"
   ]
  },
  {
   "cell_type": "code",
   "execution_count": 278,
   "metadata": {},
   "outputs": [],
   "source": [
    "tvec = TfidfVectorizer(stop_words=_stopwords, min_df=2, max_df=0.5, ngram_range=(1,2))\n",
    "tvec.fit(X_train_text);"
   ]
  },
  {
   "cell_type": "code",
   "execution_count": 279,
   "metadata": {},
   "outputs": [],
   "source": [
    "X_train_text_sp = pd.SparseDataFrame(tvec.transform(X_train_text), \n",
    "                                      columns = tvec.get_feature_names(), default_fill_value=0)\n",
    "\n",
    "X_test_text_sp = pd.SparseDataFrame(tvec.transform(X_test_text), \n",
    "                                      columns = tvec.get_feature_names(), default_fill_value=0)"
   ]
  },
  {
   "cell_type": "code",
   "execution_count": 6,
   "metadata": {},
   "outputs": [
    {
     "data": {
      "text/plain": [
       "['a mother is cooking dinner when her son come running in he say mom grandma s drunk again in the living room and she ha a prawn a prawn what in heaven are you talking about say the mother before walking to the living room where she see grandma lying on the carpet hammered drunk and completely naked look there s the prawn say the son a he point to his grandmother s vagina the mother say no son that s not a prawn it s a vagina and the son say oh well it tasted like a prawn',\n",
       " 'i could never be an astronaut i d just be a waste of space',\n",
       " 'do you want to watch the movie venom about spider man s archenemy before it hit theater easy you just have to navigate the dark web',\n",
       " 'two couple were playing poker one evening dave accidentally dropped some card on the floor when he bent down under the table to pick them up he noticed frank s wife sue wasn t wearing any underwear under her dress shocked by this dave upon trying to sit back up again hit his head on the table and emerged red faced later dave went to the kitchen to get some refreshment frank s wife followed and asked did you see anything that you like under there surprised by her boldness dave admitted that well indeed he did she said well you can have it but it will cost you after taking a minute or two to ass the financial and moral cost of this offer dave confirms that he is interested sue told him that since her husband frank worked friday afternoon and dave didn t dave should be at her house around p m friday afternoon when friday rolled around dave showed up at frank s house at p m sharp and after paying sue the agreed sum of they went to the bedroom and closed their transaction a agreed dave quickly dressed and left a usual frank came home from work at p m and upon arriving asked his wife did dave come by the house this afternoon with a lump in her throat sue answered why yes he did stop by for a few minute this afternoon her heart nearly skipped a beat when her husband curtly asked and did he give you sue using her best poker face replied well yes in fact he did give me frank with a satisfied look on his face surprised his wife by saying he came by the office this morning and borrowed from me he promised he d stop by our house this afternoon on his way home and pay me back',\n",
       " 'i found a book about anti gravity it s really interesting i can t put it down']"
      ]
     },
     "execution_count": 6,
     "metadata": {},
     "output_type": "execute_result"
    }
   ],
   "source": [
    "X_train_text[:5]"
   ]
  },
  {
   "cell_type": "code",
   "execution_count": null,
   "metadata": {},
   "outputs": [],
   "source": []
  }
 ],
 "metadata": {
  "kernelspec": {
   "display_name": "Python 3",
   "language": "python",
   "name": "python3"
  },
  "language_info": {
   "codemirror_mode": {
    "name": "ipython",
    "version": 3
   },
   "file_extension": ".py",
   "mimetype": "text/x-python",
   "name": "python",
   "nbconvert_exporter": "python",
   "pygments_lexer": "ipython3",
   "version": "3.6.4"
  }
 },
 "nbformat": 4,
 "nbformat_minor": 2
}
