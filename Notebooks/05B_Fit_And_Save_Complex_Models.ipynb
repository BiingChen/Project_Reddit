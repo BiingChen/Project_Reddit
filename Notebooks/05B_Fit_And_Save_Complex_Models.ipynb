{
 "cells": [
  {
   "cell_type": "markdown",
   "metadata": {},
   "source": [
    "# 05 Fit and Save Complex Models Separately"
   ]
  },
  {
   "cell_type": "markdown",
   "metadata": {},
   "source": [
    "### Purpose of Notebook\n",
    "- Try some of the more complex models:\n",
    "    - Random Forest with GS\n",
    "    - Logistic Regression with GS\n",
    "    - Random Forest\n",
    "    - AdaBoost with GridSearch for CV\n",
    "    \n",
    "    \n",
    "- Export fit models for later review"
   ]
  },
  {
   "cell_type": "markdown",
   "metadata": {},
   "source": [
    "## Imports"
   ]
  },
  {
   "cell_type": "code",
   "execution_count": 66,
   "metadata": {},
   "outputs": [],
   "source": [
    "import pandas as pd\n",
    "import numpy as np\n",
    "import pickle\n",
    "from sklearn.model_selection import train_test_split, GridSearchCV, RandomizedSearchCV\n",
    "from sklearn.linear_model import LogisticRegressionCV, LogisticRegression\n",
    "from sklearn.neighbors import KNeighborsClassifier\n",
    "from sklearn.ensemble import RandomForestClassifier, BaggingClassifier\n",
    "from sklearn.ensemble import GradientBoostingClassifier, VotingClassifier\n",
    "from sklearn.tree import DecisionTreeClassifier\n",
    "import random\n",
    "from matplotlib import pyplot as plt\n",
    "from sklearn.metrics import confusion_matrix\n",
    "from sklearn.ensemble import AdaBoostClassifier, GradientBoostingClassifier, VotingClassifier\n",
    "from sklearn.svm import SVC\n",
    "import pickle\n",
    "\n",
    "random.seed(42)"
   ]
  },
  {
   "cell_type": "markdown",
   "metadata": {},
   "source": [
    "## Pull in train and test data"
   ]
  },
  {
   "cell_type": "code",
   "execution_count": 78,
   "metadata": {},
   "outputs": [],
   "source": [
    "with open('../Data/X_train_clean.pkl', 'rb') as f:\n",
    "    X_train = pickle.load(f)\n",
    "    \n",
    "with open('../Data/X_test_clean.pkl', 'rb') as f:\n",
    "    X_test = pickle.load(f)\n",
    "    \n",
    "with open('../Data/y_train.pkl', 'rb') as f:\n",
    "    y_train = pickle.load(f)\n",
    "    \n",
    "with open('../Data/y_test.pkl', 'rb') as f:\n",
    "    y_test = pickle.load(f)"
   ]
  },
  {
   "cell_type": "code",
   "execution_count": 97,
   "metadata": {},
   "outputs": [],
   "source": [
    "## Create DataFrame to hold results\n",
    "\n",
    "results = pd.DataFrame(columns=['model','train_score', 'test_score'])"
   ]
  },
  {
   "cell_type": "code",
   "execution_count": null,
   "metadata": {},
   "outputs": [],
   "source": []
  },
  {
   "cell_type": "code",
   "execution_count": 15,
   "metadata": {},
   "outputs": [
    {
     "name": "stdout",
     "output_type": "stream",
     "text": [
      "Train: 0.9941391941391942\n",
      "Test: 0.8564102564102564\n"
     ]
    }
   ],
   "source": [
    "rf = RandomForestClassifier()\n",
    "rf.fit(X_train, y_train)\n",
    "print('Train:', rf.score(X_train,y_train))\n",
    "print('Test:',rf.score(X_test,y_test))"
   ]
  },
  {
   "cell_type": "markdown",
   "metadata": {},
   "source": [
    "## Random Forest with GridSearch"
   ]
  },
  {
   "cell_type": "code",
   "execution_count": 80,
   "metadata": {
    "collapsed": true
   },
   "outputs": [
    {
     "name": "stdout",
     "output_type": "stream",
     "text": [
      "Fitting 3 folds for each of 16 candidates, totalling 48 fits\n",
      "[CV] min_samples_leaf=1, min_samples_split=2, n_estimators=10 ........\n",
      "[CV] min_samples_leaf=1, min_samples_split=2, n_estimators=10 ........\n",
      "[CV] min_samples_leaf=1, min_samples_split=2, n_estimators=10 ........\n",
      "[CV]  min_samples_leaf=1, min_samples_split=2, n_estimators=10, total=   3.3s\n",
      "[CV]  min_samples_leaf=1, min_samples_split=2, n_estimators=10, total=   3.4s\n",
      "[CV] min_samples_leaf=1, min_samples_split=2, n_estimators=30 ........\n",
      "[CV]  min_samples_leaf=1, min_samples_split=2, n_estimators=10, total=   3.4s\n",
      "[CV] min_samples_leaf=1, min_samples_split=2, n_estimators=30 ........\n",
      "[CV] min_samples_leaf=1, min_samples_split=2, n_estimators=30 ........\n",
      "[CV]  min_samples_leaf=1, min_samples_split=2, n_estimators=30, total=   3.1s\n",
      "[CV]  min_samples_leaf=1, min_samples_split=2, n_estimators=30, total=   3.1s\n",
      "[CV] min_samples_leaf=1, min_samples_split=2, n_estimators=50 ........\n",
      "[CV]  min_samples_leaf=1, min_samples_split=2, n_estimators=30, total=   3.2s\n",
      "[CV] min_samples_leaf=1, min_samples_split=2, n_estimators=50 ........\n",
      "[CV] min_samples_leaf=1, min_samples_split=2, n_estimators=50 ........\n",
      "[CV]  min_samples_leaf=1, min_samples_split=2, n_estimators=50, total=   3.6s\n",
      "[CV] min_samples_leaf=1, min_samples_split=2, n_estimators=100 .......\n",
      "[CV]  min_samples_leaf=1, min_samples_split=2, n_estimators=50, total=   3.6s\n",
      "[CV] min_samples_leaf=1, min_samples_split=2, n_estimators=100 .......\n",
      "[CV]  min_samples_leaf=1, min_samples_split=2, n_estimators=50, total=   3.6s\n",
      "[CV] min_samples_leaf=1, min_samples_split=2, n_estimators=100 .......\n",
      "[CV]  min_samples_leaf=1, min_samples_split=2, n_estimators=100, total=   4.0s\n",
      "[CV] min_samples_leaf=1, min_samples_split=3, n_estimators=10 ........\n",
      "[CV]  min_samples_leaf=1, min_samples_split=2, n_estimators=100, total=   4.1s\n",
      "[CV] min_samples_leaf=1, min_samples_split=3, n_estimators=10 ........\n",
      "[CV]  min_samples_leaf=1, min_samples_split=2, n_estimators=100, total=   4.1s\n",
      "[CV] min_samples_leaf=1, min_samples_split=3, n_estimators=10 ........\n",
      "[CV]  min_samples_leaf=1, min_samples_split=3, n_estimators=10, total=   3.2s\n",
      "[CV]  min_samples_leaf=1, min_samples_split=3, n_estimators=10, total=   3.2s\n",
      "[CV] min_samples_leaf=1, min_samples_split=3, n_estimators=30 ........\n",
      "[CV]  min_samples_leaf=1, min_samples_split=3, n_estimators=10, total=   3.2s\n",
      "[CV] min_samples_leaf=1, min_samples_split=3, n_estimators=30 ........\n",
      "[CV] min_samples_leaf=1, min_samples_split=3, n_estimators=30 ........\n",
      "[CV]  min_samples_leaf=1, min_samples_split=3, n_estimators=30, total=   3.2s\n",
      "[CV] min_samples_leaf=1, min_samples_split=3, n_estimators=50 ........\n",
      "[CV]  min_samples_leaf=1, min_samples_split=3, n_estimators=30, total=   3.2s\n",
      "[CV]  min_samples_leaf=1, min_samples_split=3, n_estimators=30, total=   3.4s\n",
      "[CV] min_samples_leaf=1, min_samples_split=3, n_estimators=50 ........\n",
      "[CV] min_samples_leaf=1, min_samples_split=3, n_estimators=50 ........\n",
      "[CV]  min_samples_leaf=1, min_samples_split=3, n_estimators=50, total=   3.4s\n",
      "[CV] min_samples_leaf=1, min_samples_split=3, n_estimators=100 .......\n",
      "[CV]  min_samples_leaf=1, min_samples_split=3, n_estimators=50, total=   3.4s\n",
      "[CV] min_samples_leaf=1, min_samples_split=3, n_estimators=100 .......\n",
      "[CV]  min_samples_leaf=1, min_samples_split=3, n_estimators=50, total=   3.3s\n",
      "[CV] min_samples_leaf=1, min_samples_split=3, n_estimators=100 .......\n",
      "[CV]  min_samples_leaf=1, min_samples_split=3, n_estimators=100, total=   4.0s\n",
      "[CV] min_samples_leaf=2, min_samples_split=2, n_estimators=10 ........\n",
      "[CV]  min_samples_leaf=1, min_samples_split=3, n_estimators=100, total=   4.0s\n",
      "[CV] min_samples_leaf=2, min_samples_split=2, n_estimators=10 ........\n",
      "[CV]  min_samples_leaf=1, min_samples_split=3, n_estimators=100, total=   4.0s\n",
      "[CV] min_samples_leaf=2, min_samples_split=2, n_estimators=10 ........\n",
      "[CV]  min_samples_leaf=2, min_samples_split=2, n_estimators=10, total=   3.2s\n",
      "[CV] min_samples_leaf=2, min_samples_split=2, n_estimators=30 ........\n",
      "[CV]  min_samples_leaf=2, min_samples_split=2, n_estimators=10, total=   3.2s\n",
      "[CV]  min_samples_leaf=2, min_samples_split=2, n_estimators=10, total=   3.2s\n",
      "[CV] min_samples_leaf=2, min_samples_split=2, n_estimators=30 ........\n",
      "[CV] min_samples_leaf=2, min_samples_split=2, n_estimators=30 ........\n",
      "[CV]  min_samples_leaf=2, min_samples_split=2, n_estimators=30, total=   3.3s\n",
      "[CV] min_samples_leaf=2, min_samples_split=2, n_estimators=50 ........\n",
      "[CV]  min_samples_leaf=2, min_samples_split=2, n_estimators=30, total=   3.1s\n",
      "[CV]  min_samples_leaf=2, min_samples_split=2, n_estimators=30, total=   3.1s\n",
      "[CV] min_samples_leaf=2, min_samples_split=2, n_estimators=50 ........\n",
      "[CV] min_samples_leaf=2, min_samples_split=2, n_estimators=50 ........\n",
      "[CV]  min_samples_leaf=2, min_samples_split=2, n_estimators=50, total=   3.2s\n",
      "[CV] min_samples_leaf=2, min_samples_split=2, n_estimators=100 .......\n",
      "[CV]  min_samples_leaf=2, min_samples_split=2, n_estimators=50, total=   3.3s\n",
      "[CV] min_samples_leaf=2, min_samples_split=2, n_estimators=100 .......\n",
      "[CV]  min_samples_leaf=2, min_samples_split=2, n_estimators=50, total=   3.3s\n",
      "[CV] min_samples_leaf=2, min_samples_split=2, n_estimators=100 .......\n",
      "[CV]  min_samples_leaf=2, min_samples_split=2, n_estimators=100, total=   3.6s\n",
      "[CV] min_samples_leaf=2, min_samples_split=3, n_estimators=10 ........\n",
      "[CV]  min_samples_leaf=2, min_samples_split=2, n_estimators=100, total=   3.7s\n"
     ]
    },
    {
     "name": "stderr",
     "output_type": "stream",
     "text": [
      "[Parallel(n_jobs=3)]: Done  35 tasks      | elapsed:   55.8s\n"
     ]
    },
    {
     "name": "stdout",
     "output_type": "stream",
     "text": [
      "[CV] min_samples_leaf=2, min_samples_split=3, n_estimators=10 ........\n",
      "[CV]  min_samples_leaf=2, min_samples_split=2, n_estimators=100, total=   3.7s\n",
      "[CV] min_samples_leaf=2, min_samples_split=3, n_estimators=10 ........\n",
      "[CV]  min_samples_leaf=2, min_samples_split=3, n_estimators=10, total=   3.2s\n",
      "[CV] min_samples_leaf=2, min_samples_split=3, n_estimators=30 ........\n",
      "[CV]  min_samples_leaf=2, min_samples_split=3, n_estimators=10, total=   3.2s\n",
      "[CV] min_samples_leaf=2, min_samples_split=3, n_estimators=30 ........\n",
      "[CV]  min_samples_leaf=2, min_samples_split=3, n_estimators=10, total=   2.9s\n",
      "[CV] min_samples_leaf=2, min_samples_split=3, n_estimators=30 ........\n",
      "[CV]  min_samples_leaf=2, min_samples_split=3, n_estimators=30, total=   3.3s\n",
      "[CV] min_samples_leaf=2, min_samples_split=3, n_estimators=50 ........\n",
      "[CV]  min_samples_leaf=2, min_samples_split=3, n_estimators=30, total=   3.3s\n",
      "[CV] min_samples_leaf=2, min_samples_split=3, n_estimators=50 ........\n",
      "[CV]  min_samples_leaf=2, min_samples_split=3, n_estimators=30, total=   3.2s\n",
      "[CV] min_samples_leaf=2, min_samples_split=3, n_estimators=50 ........\n",
      "[CV]  min_samples_leaf=2, min_samples_split=3, n_estimators=50, total=   3.4s\n",
      "[CV] min_samples_leaf=2, min_samples_split=3, n_estimators=100 .......\n",
      "[CV]  min_samples_leaf=2, min_samples_split=3, n_estimators=50, total=   3.4s\n",
      "[CV] min_samples_leaf=2, min_samples_split=3, n_estimators=100 .......\n",
      "[CV]  min_samples_leaf=2, min_samples_split=3, n_estimators=50, total=   3.4s\n",
      "[CV] min_samples_leaf=2, min_samples_split=3, n_estimators=100 .......\n",
      "[CV]  min_samples_leaf=2, min_samples_split=3, n_estimators=100, total=   3.7s\n",
      "[CV]  min_samples_leaf=2, min_samples_split=3, n_estimators=100, total=   3.6s\n",
      "[CV]  min_samples_leaf=2, min_samples_split=3, n_estimators=100, total=   3.7s\n"
     ]
    },
    {
     "name": "stderr",
     "output_type": "stream",
     "text": [
      "[Parallel(n_jobs=3)]: Done  48 out of  48 | elapsed:  1.2min finished\n"
     ]
    },
    {
     "name": "stdout",
     "output_type": "stream",
     "text": [
      "CPU times: user 29.6 s, sys: 767 ms, total: 30.4 s\n",
      "Wall time: 1min 16s\n"
     ]
    }
   ],
   "source": [
    "%%time\n",
    "rf = RandomForestClassifier(random_state=42, min_samples_split=2, min_samples_leaf=1)\n",
    "rf_params = {\n",
    "    'n_estimators': [10, 30, 50, 100],\n",
    "    'min_samples_split': [2,3],\n",
    "    'min_samples_leaf': [1,2]\n",
    "}\n",
    "rf_gs = GridSearchCV(rf, param_grid=rf_params, verbose=2, n_jobs=3)\n",
    "rf_gs.fit(X_train, y_train)"
   ]
  },
  {
   "cell_type": "code",
   "execution_count": 81,
   "metadata": {},
   "outputs": [
    {
     "data": {
      "text/plain": [
       "1.0"
      ]
     },
     "execution_count": 81,
     "metadata": {},
     "output_type": "execute_result"
    }
   ],
   "source": [
    "rf_gs.score(X_train, y_train)"
   ]
  },
  {
   "cell_type": "code",
   "execution_count": 82,
   "metadata": {},
   "outputs": [
    {
     "data": {
      "text/plain": [
       "0.8957264957264958"
      ]
     },
     "execution_count": 82,
     "metadata": {},
     "output_type": "execute_result"
    }
   ],
   "source": [
    "rf_gs.score(X_test, y_test)"
   ]
  },
  {
   "cell_type": "code",
   "execution_count": 83,
   "metadata": {},
   "outputs": [
    {
     "data": {
      "text/plain": [
       "{'min_samples_leaf': 1, 'min_samples_split': 2, 'n_estimators': 100}"
      ]
     },
     "execution_count": 83,
     "metadata": {},
     "output_type": "execute_result"
    }
   ],
   "source": [
    "rf_gs.best_params_"
   ]
  },
  {
   "cell_type": "code",
   "execution_count": 28,
   "metadata": {},
   "outputs": [
    {
     "data": {
      "text/plain": [
       "RandomForestClassifier(bootstrap=True, class_weight=None, criterion='gini',\n",
       "            max_depth=None, max_features='auto', max_leaf_nodes=None,\n",
       "            min_impurity_decrease=0.0, min_impurity_split=None,\n",
       "            min_samples_leaf=1, min_samples_split=2,\n",
       "            min_weight_fraction_leaf=0.0, n_estimators=100, n_jobs=1,\n",
       "            oob_score=False, random_state=42, verbose=0, warm_start=False)"
      ]
     },
     "execution_count": 28,
     "metadata": {},
     "output_type": "execute_result"
    }
   ],
   "source": [
    "rf_gs.best_estimator_"
   ]
  },
  {
   "cell_type": "code",
   "execution_count": 98,
   "metadata": {},
   "outputs": [],
   "source": [
    "counter = len(results) + 1\n",
    "results.loc[counter, 'model'] = 'RandomForest_gs'\n",
    "results.loc[counter, 'train_score'] = rf_gs.score(X_train,y_train)\n",
    "results.loc[counter, 'test_score'] = rf_gs.score(X_test,y_test)\n",
    "#results.loc[counter, 'best_params'] = str(rf_gs.best_params_)"
   ]
  },
  {
   "cell_type": "code",
   "execution_count": 94,
   "metadata": {},
   "outputs": [
    {
     "data": {
      "text/html": [
       "<div>\n",
       "<style scoped>\n",
       "    .dataframe tbody tr th:only-of-type {\n",
       "        vertical-align: middle;\n",
       "    }\n",
       "\n",
       "    .dataframe tbody tr th {\n",
       "        vertical-align: top;\n",
       "    }\n",
       "\n",
       "    .dataframe thead th {\n",
       "        text-align: right;\n",
       "    }\n",
       "</style>\n",
       "<table border=\"1\" class=\"dataframe\">\n",
       "  <thead>\n",
       "    <tr style=\"text-align: right;\">\n",
       "      <th></th>\n",
       "      <th>model</th>\n",
       "      <th>train_score</th>\n",
       "      <th>test_score</th>\n",
       "      <th>best_params</th>\n",
       "    </tr>\n",
       "  </thead>\n",
       "  <tbody>\n",
       "    <tr>\n",
       "      <th>1</th>\n",
       "      <td>RandomForest_gs</td>\n",
       "      <td>1</td>\n",
       "      <td>0.895726</td>\n",
       "      <td>NaN</td>\n",
       "    </tr>\n",
       "    <tr>\n",
       "      <th>2</th>\n",
       "      <td>RandomForest_gs</td>\n",
       "      <td>1</td>\n",
       "      <td>0.895726</td>\n",
       "      <td>{'min_samples_leaf': 1, 'min_samples_split': 2...</td>\n",
       "    </tr>\n",
       "  </tbody>\n",
       "</table>\n",
       "</div>"
      ],
      "text/plain": [
       "             model train_score test_score  \\\n",
       "1  RandomForest_gs           1   0.895726   \n",
       "2  RandomForest_gs           1   0.895726   \n",
       "\n",
       "                                         best_params  \n",
       "1                                                NaN  \n",
       "2  {'min_samples_leaf': 1, 'min_samples_split': 2...  "
      ]
     },
     "execution_count": 94,
     "metadata": {},
     "output_type": "execute_result"
    }
   ],
   "source": [
    "results"
   ]
  },
  {
   "cell_type": "code",
   "execution_count": 63,
   "metadata": {},
   "outputs": [
    {
     "name": "stdout",
     "output_type": "stream",
     "text": [
      "Bag_Trees_gs          LogisticRegression_gs\r\n"
     ]
    }
   ],
   "source": [
    "!ls ../Models"
   ]
  },
  {
   "cell_type": "code",
   "execution_count": 84,
   "metadata": {},
   "outputs": [],
   "source": [
    "with open('../Models/RandomForest_gs.pkl', 'wb') as f:\n",
    "    pickle.dump(rf_gs, f)"
   ]
  },
  {
   "cell_type": "code",
   "execution_count": 85,
   "metadata": {},
   "outputs": [],
   "source": [
    "feature_importance = pd.DataFrame(rf_gs.best_estimator_.feature_importances_, \n",
    "                                  index=X_train.columns,\n",
    "                                  columns=['coefficients']).sort_values('coefficients', \n",
    "                                                                        ascending=False)"
   ]
  },
  {
   "cell_type": "code",
   "execution_count": 86,
   "metadata": {
    "collapsed": true
   },
   "outputs": [
    {
     "data": {
      "text/html": [
       "<div>\n",
       "<style scoped>\n",
       "    .dataframe tbody tr th:only-of-type {\n",
       "        vertical-align: middle;\n",
       "    }\n",
       "\n",
       "    .dataframe tbody tr th {\n",
       "        vertical-align: top;\n",
       "    }\n",
       "\n",
       "    .dataframe thead th {\n",
       "        text-align: right;\n",
       "    }\n",
       "</style>\n",
       "<table border=\"1\" class=\"dataframe\">\n",
       "  <thead>\n",
       "    <tr style=\"text-align: right;\">\n",
       "      <th></th>\n",
       "      <th>coefficients</th>\n",
       "    </tr>\n",
       "  </thead>\n",
       "  <tbody>\n",
       "    <tr>\n",
       "      <th>text_len</th>\n",
       "      <td>0.064923</td>\n",
       "    </tr>\n",
       "    <tr>\n",
       "      <th>title_only</th>\n",
       "      <td>0.028585</td>\n",
       "    </tr>\n",
       "    <tr>\n",
       "      <th>num_comments</th>\n",
       "      <td>0.026662</td>\n",
       "    </tr>\n",
       "    <tr>\n",
       "      <th>feel</th>\n",
       "      <td>0.016378</td>\n",
       "    </tr>\n",
       "    <tr>\n",
       "      <th>title_len</th>\n",
       "      <td>0.016139</td>\n",
       "    </tr>\n",
       "    <tr>\n",
       "      <th>like</th>\n",
       "      <td>0.015231</td>\n",
       "    </tr>\n",
       "    <tr>\n",
       "      <th>score</th>\n",
       "      <td>0.014129</td>\n",
       "    </tr>\n",
       "    <tr>\n",
       "      <th>year</th>\n",
       "      <td>0.011812</td>\n",
       "    </tr>\n",
       "    <tr>\n",
       "      <th>just</th>\n",
       "      <td>0.010705</td>\n",
       "    </tr>\n",
       "    <tr>\n",
       "      <th>know</th>\n",
       "      <td>0.010284</td>\n",
       "    </tr>\n",
       "  </tbody>\n",
       "</table>\n",
       "</div>"
      ],
      "text/plain": [
       "              coefficients\n",
       "text_len          0.064923\n",
       "title_only        0.028585\n",
       "num_comments      0.026662\n",
       "feel              0.016378\n",
       "title_len         0.016139\n",
       "like              0.015231\n",
       "score             0.014129\n",
       "year              0.011812\n",
       "just              0.010705\n",
       "know              0.010284"
      ]
     },
     "execution_count": 86,
     "metadata": {},
     "output_type": "execute_result"
    }
   ],
   "source": [
    "feature_importance.head(10)"
   ]
  },
  {
   "cell_type": "markdown",
   "metadata": {},
   "source": [
    "## Try SVM"
   ]
  },
  {
   "cell_type": "code",
   "execution_count": 14,
   "metadata": {},
   "outputs": [
    {
     "name": "stdout",
     "output_type": "stream",
     "text": [
      "Fitting 3 folds for each of 20 candidates, totalling 60 fits\n"
     ]
    },
    {
     "name": "stderr",
     "output_type": "stream",
     "text": [
      "[Parallel(n_jobs=3)]: Done  44 tasks      | elapsed:  5.4min\n",
      "[Parallel(n_jobs=3)]: Done  60 out of  60 | elapsed:  7.3min finished\n"
     ]
    },
    {
     "name": "stdout",
     "output_type": "stream",
     "text": [
      "Best Score: 0.8278388278388278\n",
      "Best Parameters: {'gamma': 0.6158482110660255}\n",
      "Test: 0.8444444444444444\n",
      "CPU times: user 56.7 s, sys: 943 ms, total: 57.6 s\n",
      "Wall time: 7min 39s\n"
     ]
    }
   ],
   "source": [
    "%%time\n",
    "sv = SVC()\n",
    "param_grid = {\n",
    "    'gamma': np.logspace(-5, 2, 20)\n",
    "}\n",
    "\n",
    "gs_sv = GridSearchCV(sv, param_grid,scoring='accuracy', verbose=1, n_jobs=3)\n",
    "gs_sv.fit(X_train, y_train)\n",
    "print('Best Score:', gs_sv.best_score_)\n",
    "print('Best Parameters:', gs_sv.best_params_)\n",
    "print('Test:',gs_sv.score(X_test,y_test))"
   ]
  },
  {
   "cell_type": "code",
   "execution_count": 35,
   "metadata": {},
   "outputs": [
    {
     "name": "stdout",
     "output_type": "stream",
     "text": [
      "Train: 0.5062271062271062\n",
      "Test: 0.5128205128205128\n",
      "CPU times: user 36.5 s, sys: 162 ms, total: 36.6 s\n",
      "Wall time: 36.6 s\n"
     ]
    }
   ],
   "source": [
    "%%time\n",
    "sv = SVC()\n",
    "sv.fit(X_train, y_train)\n",
    "print('Train:', sv.score(X_train,y_train))\n",
    "print('Test:', sv.score(X_test,y_test))"
   ]
  },
  {
   "cell_type": "code",
   "execution_count": 39,
   "metadata": {},
   "outputs": [],
   "source": [
    "#---"
   ]
  },
  {
   "cell_type": "markdown",
   "metadata": {},
   "source": [
    "## Logistic Regression with Grid Search"
   ]
  },
  {
   "cell_type": "code",
   "execution_count": 102,
   "metadata": {
    "scrolled": true
   },
   "outputs": [
    {
     "name": "stdout",
     "output_type": "stream",
     "text": [
      "Fitting 3 folds for each of 3 candidates, totalling 9 fits\n",
      "[CV] C=0.1, penalty=l2 ...............................................\n",
      "[CV] C=0.1, penalty=l2 ...............................................\n",
      "[CV] C=0.1, penalty=l2 ...............................................\n",
      "[CV] C=1, penalty=l2 .................................................\n",
      "[CV] C=1, penalty=l2 .................................................\n",
      "[CV] C=1, penalty=l2 .................................................\n"
     ]
    },
    {
     "name": "stderr",
     "output_type": "stream",
     "text": [
      "Process ForkPoolWorker-58:\n",
      "Process ForkPoolWorker-57:\n",
      "Process ForkPoolWorker-59:\n",
      "Traceback (most recent call last):\n",
      "Traceback (most recent call last):\n",
      "Traceback (most recent call last):\n",
      "  File \"/Users/yibingchen/anaconda3/lib/python3.6/multiprocessing/process.py\", line 258, in _bootstrap\n",
      "    self.run()\n",
      "  File \"/Users/yibingchen/anaconda3/lib/python3.6/multiprocessing/process.py\", line 258, in _bootstrap\n",
      "    self.run()\n",
      "  File \"/Users/yibingchen/anaconda3/lib/python3.6/multiprocessing/process.py\", line 93, in run\n",
      "    self._target(*self._args, **self._kwargs)\n",
      "  File \"/Users/yibingchen/anaconda3/lib/python3.6/multiprocessing/process.py\", line 258, in _bootstrap\n",
      "    self.run()\n",
      "  File \"/Users/yibingchen/anaconda3/lib/python3.6/multiprocessing/process.py\", line 93, in run\n",
      "    self._target(*self._args, **self._kwargs)\n",
      "  File \"/Users/yibingchen/anaconda3/lib/python3.6/multiprocessing/pool.py\", line 108, in worker\n",
      "    task = get()\n",
      "  File \"/Users/yibingchen/anaconda3/lib/python3.6/multiprocessing/process.py\", line 93, in run\n",
      "    self._target(*self._args, **self._kwargs)\n",
      "  File \"/Users/yibingchen/anaconda3/lib/python3.6/multiprocessing/pool.py\", line 108, in worker\n",
      "    task = get()\n",
      "  File \"/Users/yibingchen/anaconda3/lib/python3.6/multiprocessing/pool.py\", line 108, in worker\n",
      "    task = get()\n",
      "  File \"/Users/yibingchen/anaconda3/lib/python3.6/site-packages/sklearn/externals/joblib/pool.py\", line 360, in get\n",
      "    racquire()\n",
      "  File \"/Users/yibingchen/anaconda3/lib/python3.6/site-packages/sklearn/externals/joblib/pool.py\", line 360, in get\n",
      "    racquire()\n",
      "  File \"/Users/yibingchen/anaconda3/lib/python3.6/site-packages/sklearn/externals/joblib/pool.py\", line 362, in get\n",
      "    return recv()\n",
      "KeyboardInterrupt\n",
      "KeyboardInterrupt\n",
      "  File \"/Users/yibingchen/anaconda3/lib/python3.6/multiprocessing/connection.py\", line 250, in recv\n",
      "    buf = self._recv_bytes()\n",
      "  File \"/Users/yibingchen/anaconda3/lib/python3.6/multiprocessing/connection.py\", line 407, in _recv_bytes\n",
      "    buf = self._recv(4)\n",
      "  File \"/Users/yibingchen/anaconda3/lib/python3.6/multiprocessing/connection.py\", line 379, in _recv\n",
      "    chunk = read(handle, remaining)\n",
      "KeyboardInterrupt\n"
     ]
    },
    {
     "ename": "KeyboardInterrupt",
     "evalue": "",
     "output_type": "error",
     "traceback": [
      "\u001b[0;31m---------------------------------------------------------------------------\u001b[0m",
      "\u001b[0;31mKeyboardInterrupt\u001b[0m                         Traceback (most recent call last)",
      "\u001b[0;32m<timed exec>\u001b[0m in \u001b[0;36m<module>\u001b[0;34m()\u001b[0m\n",
      "\u001b[0;32m~/anaconda3/lib/python3.6/site-packages/sklearn/model_selection/_search.py\u001b[0m in \u001b[0;36mfit\u001b[0;34m(self, X, y, groups, **fit_params)\u001b[0m\n\u001b[1;32m    637\u001b[0m                                   error_score=self.error_score)\n\u001b[1;32m    638\u001b[0m           for parameters, (train, test) in product(candidate_params,\n\u001b[0;32m--> 639\u001b[0;31m                                                    cv.split(X, y, groups)))\n\u001b[0m\u001b[1;32m    640\u001b[0m \u001b[0;34m\u001b[0m\u001b[0m\n\u001b[1;32m    641\u001b[0m         \u001b[0;31m# if one choose to see train score, \"out\" will contain train score info\u001b[0m\u001b[0;34m\u001b[0m\u001b[0;34m\u001b[0m\u001b[0m\n",
      "\u001b[0;32m~/anaconda3/lib/python3.6/site-packages/sklearn/externals/joblib/parallel.py\u001b[0m in \u001b[0;36m__call__\u001b[0;34m(self, iterable)\u001b[0m\n\u001b[1;32m    787\u001b[0m                 \u001b[0;31m# consumption.\u001b[0m\u001b[0;34m\u001b[0m\u001b[0;34m\u001b[0m\u001b[0m\n\u001b[1;32m    788\u001b[0m                 \u001b[0mself\u001b[0m\u001b[0;34m.\u001b[0m\u001b[0m_iterating\u001b[0m \u001b[0;34m=\u001b[0m \u001b[0;32mFalse\u001b[0m\u001b[0;34m\u001b[0m\u001b[0m\n\u001b[0;32m--> 789\u001b[0;31m             \u001b[0mself\u001b[0m\u001b[0;34m.\u001b[0m\u001b[0mretrieve\u001b[0m\u001b[0;34m(\u001b[0m\u001b[0;34m)\u001b[0m\u001b[0;34m\u001b[0m\u001b[0m\n\u001b[0m\u001b[1;32m    790\u001b[0m             \u001b[0;31m# Make sure that we get a last message telling us we are done\u001b[0m\u001b[0;34m\u001b[0m\u001b[0;34m\u001b[0m\u001b[0m\n\u001b[1;32m    791\u001b[0m             \u001b[0melapsed_time\u001b[0m \u001b[0;34m=\u001b[0m \u001b[0mtime\u001b[0m\u001b[0;34m.\u001b[0m\u001b[0mtime\u001b[0m\u001b[0;34m(\u001b[0m\u001b[0;34m)\u001b[0m \u001b[0;34m-\u001b[0m \u001b[0mself\u001b[0m\u001b[0;34m.\u001b[0m\u001b[0m_start_time\u001b[0m\u001b[0;34m\u001b[0m\u001b[0m\n",
      "\u001b[0;32m~/anaconda3/lib/python3.6/site-packages/sklearn/externals/joblib/parallel.py\u001b[0m in \u001b[0;36mretrieve\u001b[0;34m(self)\u001b[0m\n\u001b[1;32m    697\u001b[0m             \u001b[0;32mtry\u001b[0m\u001b[0;34m:\u001b[0m\u001b[0;34m\u001b[0m\u001b[0m\n\u001b[1;32m    698\u001b[0m                 \u001b[0;32mif\u001b[0m \u001b[0mgetattr\u001b[0m\u001b[0;34m(\u001b[0m\u001b[0mself\u001b[0m\u001b[0;34m.\u001b[0m\u001b[0m_backend\u001b[0m\u001b[0;34m,\u001b[0m \u001b[0;34m'supports_timeout'\u001b[0m\u001b[0;34m,\u001b[0m \u001b[0;32mFalse\u001b[0m\u001b[0;34m)\u001b[0m\u001b[0;34m:\u001b[0m\u001b[0;34m\u001b[0m\u001b[0m\n\u001b[0;32m--> 699\u001b[0;31m                     \u001b[0mself\u001b[0m\u001b[0;34m.\u001b[0m\u001b[0m_output\u001b[0m\u001b[0;34m.\u001b[0m\u001b[0mextend\u001b[0m\u001b[0;34m(\u001b[0m\u001b[0mjob\u001b[0m\u001b[0;34m.\u001b[0m\u001b[0mget\u001b[0m\u001b[0;34m(\u001b[0m\u001b[0mtimeout\u001b[0m\u001b[0;34m=\u001b[0m\u001b[0mself\u001b[0m\u001b[0;34m.\u001b[0m\u001b[0mtimeout\u001b[0m\u001b[0;34m)\u001b[0m\u001b[0;34m)\u001b[0m\u001b[0;34m\u001b[0m\u001b[0m\n\u001b[0m\u001b[1;32m    700\u001b[0m                 \u001b[0;32melse\u001b[0m\u001b[0;34m:\u001b[0m\u001b[0;34m\u001b[0m\u001b[0m\n\u001b[1;32m    701\u001b[0m                     \u001b[0mself\u001b[0m\u001b[0;34m.\u001b[0m\u001b[0m_output\u001b[0m\u001b[0;34m.\u001b[0m\u001b[0mextend\u001b[0m\u001b[0;34m(\u001b[0m\u001b[0mjob\u001b[0m\u001b[0;34m.\u001b[0m\u001b[0mget\u001b[0m\u001b[0;34m(\u001b[0m\u001b[0;34m)\u001b[0m\u001b[0;34m)\u001b[0m\u001b[0;34m\u001b[0m\u001b[0m\n",
      "\u001b[0;32m~/anaconda3/lib/python3.6/multiprocessing/pool.py\u001b[0m in \u001b[0;36mget\u001b[0;34m(self, timeout)\u001b[0m\n\u001b[1;32m    636\u001b[0m \u001b[0;34m\u001b[0m\u001b[0m\n\u001b[1;32m    637\u001b[0m     \u001b[0;32mdef\u001b[0m \u001b[0mget\u001b[0m\u001b[0;34m(\u001b[0m\u001b[0mself\u001b[0m\u001b[0;34m,\u001b[0m \u001b[0mtimeout\u001b[0m\u001b[0;34m=\u001b[0m\u001b[0;32mNone\u001b[0m\u001b[0;34m)\u001b[0m\u001b[0;34m:\u001b[0m\u001b[0;34m\u001b[0m\u001b[0m\n\u001b[0;32m--> 638\u001b[0;31m         \u001b[0mself\u001b[0m\u001b[0;34m.\u001b[0m\u001b[0mwait\u001b[0m\u001b[0;34m(\u001b[0m\u001b[0mtimeout\u001b[0m\u001b[0;34m)\u001b[0m\u001b[0;34m\u001b[0m\u001b[0m\n\u001b[0m\u001b[1;32m    639\u001b[0m         \u001b[0;32mif\u001b[0m \u001b[0;32mnot\u001b[0m \u001b[0mself\u001b[0m\u001b[0;34m.\u001b[0m\u001b[0mready\u001b[0m\u001b[0;34m(\u001b[0m\u001b[0;34m)\u001b[0m\u001b[0;34m:\u001b[0m\u001b[0;34m\u001b[0m\u001b[0m\n\u001b[1;32m    640\u001b[0m             \u001b[0;32mraise\u001b[0m \u001b[0mTimeoutError\u001b[0m\u001b[0;34m\u001b[0m\u001b[0m\n",
      "\u001b[0;32m~/anaconda3/lib/python3.6/multiprocessing/pool.py\u001b[0m in \u001b[0;36mwait\u001b[0;34m(self, timeout)\u001b[0m\n\u001b[1;32m    633\u001b[0m \u001b[0;34m\u001b[0m\u001b[0m\n\u001b[1;32m    634\u001b[0m     \u001b[0;32mdef\u001b[0m \u001b[0mwait\u001b[0m\u001b[0;34m(\u001b[0m\u001b[0mself\u001b[0m\u001b[0;34m,\u001b[0m \u001b[0mtimeout\u001b[0m\u001b[0;34m=\u001b[0m\u001b[0;32mNone\u001b[0m\u001b[0;34m)\u001b[0m\u001b[0;34m:\u001b[0m\u001b[0;34m\u001b[0m\u001b[0m\n\u001b[0;32m--> 635\u001b[0;31m         \u001b[0mself\u001b[0m\u001b[0;34m.\u001b[0m\u001b[0m_event\u001b[0m\u001b[0;34m.\u001b[0m\u001b[0mwait\u001b[0m\u001b[0;34m(\u001b[0m\u001b[0mtimeout\u001b[0m\u001b[0;34m)\u001b[0m\u001b[0;34m\u001b[0m\u001b[0m\n\u001b[0m\u001b[1;32m    636\u001b[0m \u001b[0;34m\u001b[0m\u001b[0m\n\u001b[1;32m    637\u001b[0m     \u001b[0;32mdef\u001b[0m \u001b[0mget\u001b[0m\u001b[0;34m(\u001b[0m\u001b[0mself\u001b[0m\u001b[0;34m,\u001b[0m \u001b[0mtimeout\u001b[0m\u001b[0;34m=\u001b[0m\u001b[0;32mNone\u001b[0m\u001b[0;34m)\u001b[0m\u001b[0;34m:\u001b[0m\u001b[0;34m\u001b[0m\u001b[0m\n",
      "\u001b[0;32m~/anaconda3/lib/python3.6/threading.py\u001b[0m in \u001b[0;36mwait\u001b[0;34m(self, timeout)\u001b[0m\n\u001b[1;32m    549\u001b[0m             \u001b[0msignaled\u001b[0m \u001b[0;34m=\u001b[0m \u001b[0mself\u001b[0m\u001b[0;34m.\u001b[0m\u001b[0m_flag\u001b[0m\u001b[0;34m\u001b[0m\u001b[0m\n\u001b[1;32m    550\u001b[0m             \u001b[0;32mif\u001b[0m \u001b[0;32mnot\u001b[0m \u001b[0msignaled\u001b[0m\u001b[0;34m:\u001b[0m\u001b[0;34m\u001b[0m\u001b[0m\n\u001b[0;32m--> 551\u001b[0;31m                 \u001b[0msignaled\u001b[0m \u001b[0;34m=\u001b[0m \u001b[0mself\u001b[0m\u001b[0;34m.\u001b[0m\u001b[0m_cond\u001b[0m\u001b[0;34m.\u001b[0m\u001b[0mwait\u001b[0m\u001b[0;34m(\u001b[0m\u001b[0mtimeout\u001b[0m\u001b[0;34m)\u001b[0m\u001b[0;34m\u001b[0m\u001b[0m\n\u001b[0m\u001b[1;32m    552\u001b[0m             \u001b[0;32mreturn\u001b[0m \u001b[0msignaled\u001b[0m\u001b[0;34m\u001b[0m\u001b[0m\n\u001b[1;32m    553\u001b[0m \u001b[0;34m\u001b[0m\u001b[0m\n",
      "\u001b[0;32m~/anaconda3/lib/python3.6/threading.py\u001b[0m in \u001b[0;36mwait\u001b[0;34m(self, timeout)\u001b[0m\n\u001b[1;32m    293\u001b[0m         \u001b[0;32mtry\u001b[0m\u001b[0;34m:\u001b[0m    \u001b[0;31m# restore state no matter what (e.g., KeyboardInterrupt)\u001b[0m\u001b[0;34m\u001b[0m\u001b[0m\n\u001b[1;32m    294\u001b[0m             \u001b[0;32mif\u001b[0m \u001b[0mtimeout\u001b[0m \u001b[0;32mis\u001b[0m \u001b[0;32mNone\u001b[0m\u001b[0;34m:\u001b[0m\u001b[0;34m\u001b[0m\u001b[0m\n\u001b[0;32m--> 295\u001b[0;31m                 \u001b[0mwaiter\u001b[0m\u001b[0;34m.\u001b[0m\u001b[0macquire\u001b[0m\u001b[0;34m(\u001b[0m\u001b[0;34m)\u001b[0m\u001b[0;34m\u001b[0m\u001b[0m\n\u001b[0m\u001b[1;32m    296\u001b[0m                 \u001b[0mgotit\u001b[0m \u001b[0;34m=\u001b[0m \u001b[0;32mTrue\u001b[0m\u001b[0;34m\u001b[0m\u001b[0m\n\u001b[1;32m    297\u001b[0m             \u001b[0;32melse\u001b[0m\u001b[0;34m:\u001b[0m\u001b[0;34m\u001b[0m\u001b[0m\n",
      "\u001b[0;31mKeyboardInterrupt\u001b[0m: "
     ]
    }
   ],
   "source": [
    "%%time\n",
    "lr = LogisticRegression(random_state=42)\n",
    "lr_params = {\n",
    "    'C': [0.1, 1, 10],\n",
    "    'penalty': ['l2']\n",
    "}\n",
    "lr_gs = GridSearchCV(lr, param_grid=lr_params, verbose=2, n_jobs=3)\n",
    "lr_gs.fit(X_train, y_train)"
   ]
  },
  {
   "cell_type": "code",
   "execution_count": 44,
   "metadata": {},
   "outputs": [
    {
     "name": "stdout",
     "output_type": "stream",
     "text": [
      "Train: 0.9985347985347985\n",
      "Test: 0.8957264957264958\n"
     ]
    }
   ],
   "source": [
    "print('Train:', lr_gs.score(X_train,y_train))\n",
    "print('Test:', lr_gs.score(X_test,y_test))"
   ]
  },
  {
   "cell_type": "code",
   "execution_count": 45,
   "metadata": {},
   "outputs": [
    {
     "data": {
      "text/plain": [
       "{'C': 10, 'penalty': 'l2'}"
      ]
     },
     "execution_count": 45,
     "metadata": {},
     "output_type": "execute_result"
    }
   ],
   "source": [
    "lr_gs.best_params_"
   ]
  },
  {
   "cell_type": "code",
   "execution_count": 61,
   "metadata": {},
   "outputs": [
    {
     "name": "stdout",
     "output_type": "stream",
     "text": [
      "Bag_Trees_gs           LogisticRegression_gs  RandomForest_plain.pkl\r\n"
     ]
    }
   ],
   "source": [
    "!ls ../Models"
   ]
  },
  {
   "cell_type": "code",
   "execution_count": 59,
   "metadata": {},
   "outputs": [],
   "source": [
    "with open('../Models/LogisticRegression_gs', 'wb') as f:\n",
    "    pickle.dump(lr_gs, f)"
   ]
  },
  {
   "cell_type": "markdown",
   "metadata": {},
   "source": [
    "## Bagging Classifier with Decision Trees"
   ]
  },
  {
   "cell_type": "code",
   "execution_count": 53,
   "metadata": {
    "collapsed": true
   },
   "outputs": [
    {
     "name": "stdout",
     "output_type": "stream",
     "text": [
      "Fitting 3 folds for each of 36 candidates, totalling 108 fits\n",
      "[CV] base_estimator__max_depth=2, base_estimator__min_samples_split=2, n_estimators=10 \n",
      "[CV]  base_estimator__max_depth=2, base_estimator__min_samples_split=2, n_estimators=10, total=   3.7s\n",
      "[CV] base_estimator__max_depth=2, base_estimator__min_samples_split=2, n_estimators=10 \n"
     ]
    },
    {
     "name": "stderr",
     "output_type": "stream",
     "text": [
      "[Parallel(n_jobs=1)]: Done   1 out of   1 | elapsed:    4.4s remaining:    0.0s\n"
     ]
    },
    {
     "name": "stdout",
     "output_type": "stream",
     "text": [
      "[CV]  base_estimator__max_depth=2, base_estimator__min_samples_split=2, n_estimators=10, total=   3.5s\n",
      "[CV] base_estimator__max_depth=2, base_estimator__min_samples_split=2, n_estimators=10 \n",
      "[CV]  base_estimator__max_depth=2, base_estimator__min_samples_split=2, n_estimators=10, total=   3.8s\n",
      "[CV] base_estimator__max_depth=2, base_estimator__min_samples_split=2, n_estimators=50 \n",
      "[CV]  base_estimator__max_depth=2, base_estimator__min_samples_split=2, n_estimators=50, total=   6.7s\n",
      "[CV] base_estimator__max_depth=2, base_estimator__min_samples_split=2, n_estimators=50 \n",
      "[CV]  base_estimator__max_depth=2, base_estimator__min_samples_split=2, n_estimators=50, total=   6.8s\n",
      "[CV] base_estimator__max_depth=2, base_estimator__min_samples_split=2, n_estimators=50 \n",
      "[CV]  base_estimator__max_depth=2, base_estimator__min_samples_split=2, n_estimators=50, total=   6.6s\n",
      "[CV] base_estimator__max_depth=2, base_estimator__min_samples_split=2, n_estimators=150 \n",
      "[CV]  base_estimator__max_depth=2, base_estimator__min_samples_split=2, n_estimators=150, total=  14.9s\n",
      "[CV] base_estimator__max_depth=2, base_estimator__min_samples_split=2, n_estimators=150 \n",
      "[CV]  base_estimator__max_depth=2, base_estimator__min_samples_split=2, n_estimators=150, total=  14.5s\n",
      "[CV] base_estimator__max_depth=2, base_estimator__min_samples_split=2, n_estimators=150 \n",
      "[CV]  base_estimator__max_depth=2, base_estimator__min_samples_split=2, n_estimators=150, total=  14.3s\n",
      "[CV] base_estimator__max_depth=2, base_estimator__min_samples_split=3, n_estimators=10 \n",
      "[CV]  base_estimator__max_depth=2, base_estimator__min_samples_split=3, n_estimators=10, total=   3.8s\n",
      "[CV] base_estimator__max_depth=2, base_estimator__min_samples_split=3, n_estimators=10 \n",
      "[CV]  base_estimator__max_depth=2, base_estimator__min_samples_split=3, n_estimators=10, total=   3.4s\n",
      "[CV] base_estimator__max_depth=2, base_estimator__min_samples_split=3, n_estimators=10 \n",
      "[CV]  base_estimator__max_depth=2, base_estimator__min_samples_split=3, n_estimators=10, total=   3.7s\n",
      "[CV] base_estimator__max_depth=2, base_estimator__min_samples_split=3, n_estimators=50 \n",
      "[CV]  base_estimator__max_depth=2, base_estimator__min_samples_split=3, n_estimators=50, total=   6.7s\n",
      "[CV] base_estimator__max_depth=2, base_estimator__min_samples_split=3, n_estimators=50 \n",
      "[CV]  base_estimator__max_depth=2, base_estimator__min_samples_split=3, n_estimators=50, total=   6.9s\n",
      "[CV] base_estimator__max_depth=2, base_estimator__min_samples_split=3, n_estimators=50 \n",
      "[CV]  base_estimator__max_depth=2, base_estimator__min_samples_split=3, n_estimators=50, total=   6.5s\n",
      "[CV] base_estimator__max_depth=2, base_estimator__min_samples_split=3, n_estimators=150 \n",
      "[CV]  base_estimator__max_depth=2, base_estimator__min_samples_split=3, n_estimators=150, total=  15.2s\n",
      "[CV] base_estimator__max_depth=2, base_estimator__min_samples_split=3, n_estimators=150 \n",
      "[CV]  base_estimator__max_depth=2, base_estimator__min_samples_split=3, n_estimators=150, total=  14.2s\n",
      "[CV] base_estimator__max_depth=2, base_estimator__min_samples_split=3, n_estimators=150 \n",
      "[CV]  base_estimator__max_depth=2, base_estimator__min_samples_split=3, n_estimators=150, total=  14.8s\n",
      "[CV] base_estimator__max_depth=2, base_estimator__min_samples_split=5, n_estimators=10 \n",
      "[CV]  base_estimator__max_depth=2, base_estimator__min_samples_split=5, n_estimators=10, total=   3.4s\n",
      "[CV] base_estimator__max_depth=2, base_estimator__min_samples_split=5, n_estimators=10 \n",
      "[CV]  base_estimator__max_depth=2, base_estimator__min_samples_split=5, n_estimators=10, total=   3.5s\n",
      "[CV] base_estimator__max_depth=2, base_estimator__min_samples_split=5, n_estimators=10 \n",
      "[CV]  base_estimator__max_depth=2, base_estimator__min_samples_split=5, n_estimators=10, total=   3.7s\n",
      "[CV] base_estimator__max_depth=2, base_estimator__min_samples_split=5, n_estimators=50 \n",
      "[CV]  base_estimator__max_depth=2, base_estimator__min_samples_split=5, n_estimators=50, total=   7.0s\n",
      "[CV] base_estimator__max_depth=2, base_estimator__min_samples_split=5, n_estimators=50 \n",
      "[CV]  base_estimator__max_depth=2, base_estimator__min_samples_split=5, n_estimators=50, total=   6.5s\n",
      "[CV] base_estimator__max_depth=2, base_estimator__min_samples_split=5, n_estimators=50 \n",
      "[CV]  base_estimator__max_depth=2, base_estimator__min_samples_split=5, n_estimators=50, total=   6.7s\n",
      "[CV] base_estimator__max_depth=2, base_estimator__min_samples_split=5, n_estimators=150 \n",
      "[CV]  base_estimator__max_depth=2, base_estimator__min_samples_split=5, n_estimators=150, total=  15.7s\n",
      "[CV] base_estimator__max_depth=2, base_estimator__min_samples_split=5, n_estimators=150 \n",
      "[CV]  base_estimator__max_depth=2, base_estimator__min_samples_split=5, n_estimators=150, total=  14.9s\n",
      "[CV] base_estimator__max_depth=2, base_estimator__min_samples_split=5, n_estimators=150 \n",
      "[CV]  base_estimator__max_depth=2, base_estimator__min_samples_split=5, n_estimators=150, total=  15.1s\n",
      "[CV] base_estimator__max_depth=4, base_estimator__min_samples_split=2, n_estimators=10 \n",
      "[CV]  base_estimator__max_depth=4, base_estimator__min_samples_split=2, n_estimators=10, total=   3.6s\n",
      "[CV] base_estimator__max_depth=4, base_estimator__min_samples_split=2, n_estimators=10 \n",
      "[CV]  base_estimator__max_depth=4, base_estimator__min_samples_split=2, n_estimators=10, total=   3.9s\n",
      "[CV] base_estimator__max_depth=4, base_estimator__min_samples_split=2, n_estimators=10 \n",
      "[CV]  base_estimator__max_depth=4, base_estimator__min_samples_split=2, n_estimators=10, total=   3.7s\n",
      "[CV] base_estimator__max_depth=4, base_estimator__min_samples_split=2, n_estimators=50 \n",
      "[CV]  base_estimator__max_depth=4, base_estimator__min_samples_split=2, n_estimators=50, total=   8.0s\n",
      "[CV] base_estimator__max_depth=4, base_estimator__min_samples_split=2, n_estimators=50 \n",
      "[CV]  base_estimator__max_depth=4, base_estimator__min_samples_split=2, n_estimators=50, total=   7.5s\n",
      "[CV] base_estimator__max_depth=4, base_estimator__min_samples_split=2, n_estimators=50 \n",
      "[CV]  base_estimator__max_depth=4, base_estimator__min_samples_split=2, n_estimators=50, total=   7.7s\n",
      "[CV] base_estimator__max_depth=4, base_estimator__min_samples_split=2, n_estimators=150 \n",
      "[CV]  base_estimator__max_depth=4, base_estimator__min_samples_split=2, n_estimators=150, total=  17.8s\n",
      "[CV] base_estimator__max_depth=4, base_estimator__min_samples_split=2, n_estimators=150 \n",
      "[CV]  base_estimator__max_depth=4, base_estimator__min_samples_split=2, n_estimators=150, total=  17.1s\n",
      "[CV] base_estimator__max_depth=4, base_estimator__min_samples_split=2, n_estimators=150 \n",
      "[CV]  base_estimator__max_depth=4, base_estimator__min_samples_split=2, n_estimators=150, total=  17.2s\n",
      "[CV] base_estimator__max_depth=4, base_estimator__min_samples_split=3, n_estimators=10 \n",
      "[CV]  base_estimator__max_depth=4, base_estimator__min_samples_split=3, n_estimators=10, total=   3.8s\n",
      "[CV] base_estimator__max_depth=4, base_estimator__min_samples_split=3, n_estimators=10 \n",
      "[CV]  base_estimator__max_depth=4, base_estimator__min_samples_split=3, n_estimators=10, total=   3.9s\n",
      "[CV] base_estimator__max_depth=4, base_estimator__min_samples_split=3, n_estimators=10 \n",
      "[CV]  base_estimator__max_depth=4, base_estimator__min_samples_split=3, n_estimators=10, total=   3.6s\n",
      "[CV] base_estimator__max_depth=4, base_estimator__min_samples_split=3, n_estimators=50 \n",
      "[CV]  base_estimator__max_depth=4, base_estimator__min_samples_split=3, n_estimators=50, total=   7.8s\n",
      "[CV] base_estimator__max_depth=4, base_estimator__min_samples_split=3, n_estimators=50 \n",
      "[CV]  base_estimator__max_depth=4, base_estimator__min_samples_split=3, n_estimators=50, total=   7.3s\n",
      "[CV] base_estimator__max_depth=4, base_estimator__min_samples_split=3, n_estimators=50 \n",
      "[CV]  base_estimator__max_depth=4, base_estimator__min_samples_split=3, n_estimators=50, total=   8.0s\n",
      "[CV] base_estimator__max_depth=4, base_estimator__min_samples_split=3, n_estimators=150 \n",
      "[CV]  base_estimator__max_depth=4, base_estimator__min_samples_split=3, n_estimators=150, total=  17.5s\n",
      "[CV] base_estimator__max_depth=4, base_estimator__min_samples_split=3, n_estimators=150 \n",
      "[CV]  base_estimator__max_depth=4, base_estimator__min_samples_split=3, n_estimators=150, total=  17.0s\n",
      "[CV] base_estimator__max_depth=4, base_estimator__min_samples_split=3, n_estimators=150 \n"
     ]
    },
    {
     "name": "stdout",
     "output_type": "stream",
     "text": [
      "[CV]  base_estimator__max_depth=4, base_estimator__min_samples_split=3, n_estimators=150, total=  17.7s\n",
      "[CV] base_estimator__max_depth=4, base_estimator__min_samples_split=5, n_estimators=10 \n",
      "[CV]  base_estimator__max_depth=4, base_estimator__min_samples_split=5, n_estimators=10, total=   3.7s\n",
      "[CV] base_estimator__max_depth=4, base_estimator__min_samples_split=5, n_estimators=10 \n",
      "[CV]  base_estimator__max_depth=4, base_estimator__min_samples_split=5, n_estimators=10, total=   3.7s\n",
      "[CV] base_estimator__max_depth=4, base_estimator__min_samples_split=5, n_estimators=10 \n",
      "[CV]  base_estimator__max_depth=4, base_estimator__min_samples_split=5, n_estimators=10, total=   3.5s\n",
      "[CV] base_estimator__max_depth=4, base_estimator__min_samples_split=5, n_estimators=50 \n",
      "[CV]  base_estimator__max_depth=4, base_estimator__min_samples_split=5, n_estimators=50, total=   7.7s\n",
      "[CV] base_estimator__max_depth=4, base_estimator__min_samples_split=5, n_estimators=50 \n",
      "[CV]  base_estimator__max_depth=4, base_estimator__min_samples_split=5, n_estimators=50, total=   7.1s\n",
      "[CV] base_estimator__max_depth=4, base_estimator__min_samples_split=5, n_estimators=50 \n",
      "[CV]  base_estimator__max_depth=4, base_estimator__min_samples_split=5, n_estimators=50, total=   7.8s\n",
      "[CV] base_estimator__max_depth=4, base_estimator__min_samples_split=5, n_estimators=150 \n",
      "[CV]  base_estimator__max_depth=4, base_estimator__min_samples_split=5, n_estimators=150, total=  17.1s\n",
      "[CV] base_estimator__max_depth=4, base_estimator__min_samples_split=5, n_estimators=150 \n",
      "[CV]  base_estimator__max_depth=4, base_estimator__min_samples_split=5, n_estimators=150, total=  16.8s\n",
      "[CV] base_estimator__max_depth=4, base_estimator__min_samples_split=5, n_estimators=150 \n",
      "[CV]  base_estimator__max_depth=4, base_estimator__min_samples_split=5, n_estimators=150, total=  17.7s\n",
      "[CV] base_estimator__max_depth=6, base_estimator__min_samples_split=2, n_estimators=10 \n",
      "[CV]  base_estimator__max_depth=6, base_estimator__min_samples_split=2, n_estimators=10, total=   3.9s\n",
      "[CV] base_estimator__max_depth=6, base_estimator__min_samples_split=2, n_estimators=10 \n",
      "[CV]  base_estimator__max_depth=6, base_estimator__min_samples_split=2, n_estimators=10, total=   3.5s\n",
      "[CV] base_estimator__max_depth=6, base_estimator__min_samples_split=2, n_estimators=10 \n",
      "[CV]  base_estimator__max_depth=6, base_estimator__min_samples_split=2, n_estimators=10, total=   4.0s\n",
      "[CV] base_estimator__max_depth=6, base_estimator__min_samples_split=2, n_estimators=50 \n",
      "[CV]  base_estimator__max_depth=6, base_estimator__min_samples_split=2, n_estimators=50, total=   8.2s\n",
      "[CV] base_estimator__max_depth=6, base_estimator__min_samples_split=2, n_estimators=50 \n",
      "[CV]  base_estimator__max_depth=6, base_estimator__min_samples_split=2, n_estimators=50, total=   8.1s\n",
      "[CV] base_estimator__max_depth=6, base_estimator__min_samples_split=2, n_estimators=50 \n",
      "[CV]  base_estimator__max_depth=6, base_estimator__min_samples_split=2, n_estimators=50, total=   8.6s\n",
      "[CV] base_estimator__max_depth=6, base_estimator__min_samples_split=2, n_estimators=150 \n",
      "[CV]  base_estimator__max_depth=6, base_estimator__min_samples_split=2, n_estimators=150, total=  19.5s\n",
      "[CV] base_estimator__max_depth=6, base_estimator__min_samples_split=2, n_estimators=150 \n",
      "[CV]  base_estimator__max_depth=6, base_estimator__min_samples_split=2, n_estimators=150, total=  19.0s\n",
      "[CV] base_estimator__max_depth=6, base_estimator__min_samples_split=2, n_estimators=150 \n",
      "[CV]  base_estimator__max_depth=6, base_estimator__min_samples_split=2, n_estimators=150, total=  20.1s\n",
      "[CV] base_estimator__max_depth=6, base_estimator__min_samples_split=3, n_estimators=10 \n",
      "[CV]  base_estimator__max_depth=6, base_estimator__min_samples_split=3, n_estimators=10, total=   3.9s\n",
      "[CV] base_estimator__max_depth=6, base_estimator__min_samples_split=3, n_estimators=10 \n",
      "[CV]  base_estimator__max_depth=6, base_estimator__min_samples_split=3, n_estimators=10, total=   3.6s\n",
      "[CV] base_estimator__max_depth=6, base_estimator__min_samples_split=3, n_estimators=10 \n",
      "[CV]  base_estimator__max_depth=6, base_estimator__min_samples_split=3, n_estimators=10, total=   3.9s\n",
      "[CV] base_estimator__max_depth=6, base_estimator__min_samples_split=3, n_estimators=50 \n",
      "[CV]  base_estimator__max_depth=6, base_estimator__min_samples_split=3, n_estimators=50, total=   8.2s\n",
      "[CV] base_estimator__max_depth=6, base_estimator__min_samples_split=3, n_estimators=50 \n",
      "[CV]  base_estimator__max_depth=6, base_estimator__min_samples_split=3, n_estimators=50, total=   8.2s\n",
      "[CV] base_estimator__max_depth=6, base_estimator__min_samples_split=3, n_estimators=50 \n",
      "[CV]  base_estimator__max_depth=6, base_estimator__min_samples_split=3, n_estimators=50, total=   8.4s\n",
      "[CV] base_estimator__max_depth=6, base_estimator__min_samples_split=3, n_estimators=150 \n",
      "[CV]  base_estimator__max_depth=6, base_estimator__min_samples_split=3, n_estimators=150, total=  19.9s\n",
      "[CV] base_estimator__max_depth=6, base_estimator__min_samples_split=3, n_estimators=150 \n",
      "[CV]  base_estimator__max_depth=6, base_estimator__min_samples_split=3, n_estimators=150, total=  18.7s\n",
      "[CV] base_estimator__max_depth=6, base_estimator__min_samples_split=3, n_estimators=150 \n",
      "[CV]  base_estimator__max_depth=6, base_estimator__min_samples_split=3, n_estimators=150, total=  20.3s\n",
      "[CV] base_estimator__max_depth=6, base_estimator__min_samples_split=5, n_estimators=10 \n",
      "[CV]  base_estimator__max_depth=6, base_estimator__min_samples_split=5, n_estimators=10, total=   4.1s\n",
      "[CV] base_estimator__max_depth=6, base_estimator__min_samples_split=5, n_estimators=10 \n",
      "[CV]  base_estimator__max_depth=6, base_estimator__min_samples_split=5, n_estimators=10, total=   3.7s\n",
      "[CV] base_estimator__max_depth=6, base_estimator__min_samples_split=5, n_estimators=10 \n",
      "[CV]  base_estimator__max_depth=6, base_estimator__min_samples_split=5, n_estimators=10, total=   3.8s\n",
      "[CV] base_estimator__max_depth=6, base_estimator__min_samples_split=5, n_estimators=50 \n",
      "[CV]  base_estimator__max_depth=6, base_estimator__min_samples_split=5, n_estimators=50, total=   8.6s\n",
      "[CV] base_estimator__max_depth=6, base_estimator__min_samples_split=5, n_estimators=50 \n",
      "[CV]  base_estimator__max_depth=6, base_estimator__min_samples_split=5, n_estimators=50, total=   8.2s\n",
      "[CV] base_estimator__max_depth=6, base_estimator__min_samples_split=5, n_estimators=50 \n",
      "[CV]  base_estimator__max_depth=6, base_estimator__min_samples_split=5, n_estimators=50, total=   8.4s\n",
      "[CV] base_estimator__max_depth=6, base_estimator__min_samples_split=5, n_estimators=150 \n",
      "[CV]  base_estimator__max_depth=6, base_estimator__min_samples_split=5, n_estimators=150, total=  19.9s\n",
      "[CV] base_estimator__max_depth=6, base_estimator__min_samples_split=5, n_estimators=150 \n",
      "[CV]  base_estimator__max_depth=6, base_estimator__min_samples_split=5, n_estimators=150, total=  18.8s\n",
      "[CV] base_estimator__max_depth=6, base_estimator__min_samples_split=5, n_estimators=150 \n",
      "[CV]  base_estimator__max_depth=6, base_estimator__min_samples_split=5, n_estimators=150, total=  20.1s\n",
      "[CV] base_estimator__max_depth=8, base_estimator__min_samples_split=2, n_estimators=10 \n",
      "[CV]  base_estimator__max_depth=8, base_estimator__min_samples_split=2, n_estimators=10, total=   3.8s\n",
      "[CV] base_estimator__max_depth=8, base_estimator__min_samples_split=2, n_estimators=10 \n",
      "[CV]  base_estimator__max_depth=8, base_estimator__min_samples_split=2, n_estimators=10, total=   3.9s\n",
      "[CV] base_estimator__max_depth=8, base_estimator__min_samples_split=2, n_estimators=10 \n",
      "[CV]  base_estimator__max_depth=8, base_estimator__min_samples_split=2, n_estimators=10, total=   3.8s\n",
      "[CV] base_estimator__max_depth=8, base_estimator__min_samples_split=2, n_estimators=50 \n",
      "[CV]  base_estimator__max_depth=8, base_estimator__min_samples_split=2, n_estimators=50, total=   8.9s\n",
      "[CV] base_estimator__max_depth=8, base_estimator__min_samples_split=2, n_estimators=50 \n",
      "[CV]  base_estimator__max_depth=8, base_estimator__min_samples_split=2, n_estimators=50, total=   8.7s\n",
      "[CV] base_estimator__max_depth=8, base_estimator__min_samples_split=2, n_estimators=50 \n",
      "[CV]  base_estimator__max_depth=8, base_estimator__min_samples_split=2, n_estimators=50, total=   9.0s\n",
      "[CV] base_estimator__max_depth=8, base_estimator__min_samples_split=2, n_estimators=150 \n"
     ]
    },
    {
     "name": "stdout",
     "output_type": "stream",
     "text": [
      "[CV]  base_estimator__max_depth=8, base_estimator__min_samples_split=2, n_estimators=150, total=  21.6s\n",
      "[CV] base_estimator__max_depth=8, base_estimator__min_samples_split=2, n_estimators=150 \n",
      "[CV]  base_estimator__max_depth=8, base_estimator__min_samples_split=2, n_estimators=150, total=  20.4s\n",
      "[CV] base_estimator__max_depth=8, base_estimator__min_samples_split=2, n_estimators=150 \n",
      "[CV]  base_estimator__max_depth=8, base_estimator__min_samples_split=2, n_estimators=150, total=  22.1s\n",
      "[CV] base_estimator__max_depth=8, base_estimator__min_samples_split=3, n_estimators=10 \n",
      "[CV]  base_estimator__max_depth=8, base_estimator__min_samples_split=3, n_estimators=10, total=   3.8s\n",
      "[CV] base_estimator__max_depth=8, base_estimator__min_samples_split=3, n_estimators=10 \n",
      "[CV]  base_estimator__max_depth=8, base_estimator__min_samples_split=3, n_estimators=10, total=   4.0s\n",
      "[CV] base_estimator__max_depth=8, base_estimator__min_samples_split=3, n_estimators=10 \n",
      "[CV]  base_estimator__max_depth=8, base_estimator__min_samples_split=3, n_estimators=10, total=   3.8s\n",
      "[CV] base_estimator__max_depth=8, base_estimator__min_samples_split=3, n_estimators=50 \n",
      "[CV]  base_estimator__max_depth=8, base_estimator__min_samples_split=3, n_estimators=50, total=   9.1s\n",
      "[CV] base_estimator__max_depth=8, base_estimator__min_samples_split=3, n_estimators=50 \n",
      "[CV]  base_estimator__max_depth=8, base_estimator__min_samples_split=3, n_estimators=50, total=   8.4s\n",
      "[CV] base_estimator__max_depth=8, base_estimator__min_samples_split=3, n_estimators=50 \n",
      "[CV]  base_estimator__max_depth=8, base_estimator__min_samples_split=3, n_estimators=50, total=   9.3s\n",
      "[CV] base_estimator__max_depth=8, base_estimator__min_samples_split=3, n_estimators=150 \n",
      "[CV]  base_estimator__max_depth=8, base_estimator__min_samples_split=3, n_estimators=150, total=  21.4s\n",
      "[CV] base_estimator__max_depth=8, base_estimator__min_samples_split=3, n_estimators=150 \n",
      "[CV]  base_estimator__max_depth=8, base_estimator__min_samples_split=3, n_estimators=150, total=  20.6s\n",
      "[CV] base_estimator__max_depth=8, base_estimator__min_samples_split=3, n_estimators=150 \n",
      "[CV]  base_estimator__max_depth=8, base_estimator__min_samples_split=3, n_estimators=150, total=  22.1s\n",
      "[CV] base_estimator__max_depth=8, base_estimator__min_samples_split=5, n_estimators=10 \n",
      "[CV]  base_estimator__max_depth=8, base_estimator__min_samples_split=5, n_estimators=10, total=   3.9s\n",
      "[CV] base_estimator__max_depth=8, base_estimator__min_samples_split=5, n_estimators=10 \n",
      "[CV]  base_estimator__max_depth=8, base_estimator__min_samples_split=5, n_estimators=10, total=   3.7s\n",
      "[CV] base_estimator__max_depth=8, base_estimator__min_samples_split=5, n_estimators=10 \n",
      "[CV]  base_estimator__max_depth=8, base_estimator__min_samples_split=5, n_estimators=10, total=   3.9s\n",
      "[CV] base_estimator__max_depth=8, base_estimator__min_samples_split=5, n_estimators=50 \n",
      "[CV]  base_estimator__max_depth=8, base_estimator__min_samples_split=5, n_estimators=50, total=   9.0s\n",
      "[CV] base_estimator__max_depth=8, base_estimator__min_samples_split=5, n_estimators=50 \n",
      "[CV]  base_estimator__max_depth=8, base_estimator__min_samples_split=5, n_estimators=50, total=   8.4s\n",
      "[CV] base_estimator__max_depth=8, base_estimator__min_samples_split=5, n_estimators=50 \n",
      "[CV]  base_estimator__max_depth=8, base_estimator__min_samples_split=5, n_estimators=50, total=   9.2s\n",
      "[CV] base_estimator__max_depth=8, base_estimator__min_samples_split=5, n_estimators=150 \n",
      "[CV]  base_estimator__max_depth=8, base_estimator__min_samples_split=5, n_estimators=150, total=  21.4s\n",
      "[CV] base_estimator__max_depth=8, base_estimator__min_samples_split=5, n_estimators=150 \n",
      "[CV]  base_estimator__max_depth=8, base_estimator__min_samples_split=5, n_estimators=150, total=  20.6s\n",
      "[CV] base_estimator__max_depth=8, base_estimator__min_samples_split=5, n_estimators=150 \n",
      "[CV]  base_estimator__max_depth=8, base_estimator__min_samples_split=5, n_estimators=150, total=  21.7s\n"
     ]
    },
    {
     "name": "stderr",
     "output_type": "stream",
     "text": [
      "[Parallel(n_jobs=1)]: Done 108 out of 108 | elapsed: 22.7min finished\n"
     ]
    },
    {
     "data": {
      "text/plain": [
       "GridSearchCV(cv=None, error_score='raise',\n",
       "       estimator=BaggingClassifier(base_estimator=DecisionTreeClassifier(class_weight=None, criterion='gini', max_depth=None,\n",
       "            max_features=None, max_leaf_nodes=None,\n",
       "            min_impurity_decrease=0.0, min_impurity_split=None,\n",
       "            min_samples_leaf=1, min_samples_split=2,\n",
       "            ..., n_estimators=10, n_jobs=1, oob_score=False,\n",
       "         random_state=42, verbose=0, warm_start=False),\n",
       "       fit_params=None, iid=True, n_jobs=1,\n",
       "       param_grid={'n_estimators': [10, 50, 150], 'base_estimator__max_depth': [2, 4, 6, 8], 'base_estimator__min_samples_split': [2, 3, 5]},\n",
       "       pre_dispatch='2*n_jobs', refit=True, return_train_score='warn',\n",
       "       scoring=None, verbose=2)"
      ]
     },
     "execution_count": 53,
     "metadata": {},
     "output_type": "execute_result"
    }
   ],
   "source": [
    "bag = BaggingClassifier(random_state=42, base_estimator=DecisionTreeClassifier())\n",
    "bag_params = {\n",
    "    'n_estimators':[10, 50, 150],\n",
    "    'base_estimator__max_depth': list(range(2,10,2)),\n",
    "    'base_estimator__min_samples_split': [2,3,5]\n",
    "}\n",
    "bag_gs = GridSearchCV(bag, param_grid=bag_params, verbose=2, n_jobs=3)\n",
    "bag_gs.fit(X_train, y_train)"
   ]
  },
  {
   "cell_type": "code",
   "execution_count": 54,
   "metadata": {},
   "outputs": [
    {
     "name": "stdout",
     "output_type": "stream",
     "text": [
      "Best Params: {'base_estimator__max_depth': 8, 'base_estimator__min_samples_split': 2, 'n_estimators': 10}\n",
      "Train: 0.9465201465201465\n",
      "Test: 0.8769230769230769\n"
     ]
    }
   ],
   "source": [
    "print('Best Params:', bag_gs.best_params_)\n",
    "print('Train:', bag_gs.score(X_train,y_train))\n",
    "print('Test:', bag_gs.score(X_test,y_test))"
   ]
  },
  {
   "cell_type": "code",
   "execution_count": 60,
   "metadata": {},
   "outputs": [],
   "source": [
    "with open('../Models/Bag_Trees_gs', 'wb') as f:\n",
    "    pickle.dump(bag_gs, f)"
   ]
  },
  {
   "cell_type": "markdown",
   "metadata": {},
   "source": [
    "## Gradient Boosting with Grid Search"
   ]
  },
  {
   "cell_type": "code",
   "execution_count": 95,
   "metadata": {},
   "outputs": [
    {
     "name": "stdout",
     "output_type": "stream",
     "text": [
      "Fitting 3 folds for each of 9 candidates, totalling 27 fits\n",
      "[CV] learning_rate=0.05, max_depth=3 .................................\n",
      "[CV] learning_rate=0.05, max_depth=3 .................................\n",
      "[CV] learning_rate=0.05, max_depth=3 .................................\n",
      "[CV] .................. learning_rate=0.05, max_depth=3, total=  15.4s\n",
      "[CV] .................. learning_rate=0.05, max_depth=3, total=  15.5s\n",
      "[CV] learning_rate=0.05, max_depth=4 .................................\n",
      "[CV] .................. learning_rate=0.05, max_depth=3, total=  15.7s\n",
      "[CV] learning_rate=0.05, max_depth=4 .................................\n",
      "[CV] learning_rate=0.05, max_depth=4 .................................\n",
      "[CV] .................. learning_rate=0.05, max_depth=4, total=  19.8s\n",
      "[CV] learning_rate=0.05, max_depth=5 .................................\n",
      "[CV] .................. learning_rate=0.05, max_depth=4, total=  19.8s\n",
      "[CV] learning_rate=0.05, max_depth=5 .................................\n",
      "[CV] .................. learning_rate=0.05, max_depth=4, total=  20.0s\n",
      "[CV] learning_rate=0.05, max_depth=5 .................................\n",
      "[CV] .................. learning_rate=0.05, max_depth=5, total=  23.4s\n",
      "[CV] learning_rate=0.1, max_depth=3 ..................................\n",
      "[CV] .................. learning_rate=0.05, max_depth=5, total=  23.7s\n",
      "[CV] learning_rate=0.1, max_depth=3 ..................................\n",
      "[CV] .................. learning_rate=0.05, max_depth=5, total=  24.0s\n",
      "[CV] learning_rate=0.1, max_depth=3 ..................................\n",
      "[CV] ................... learning_rate=0.1, max_depth=3, total=  12.8s\n",
      "[CV] learning_rate=0.1, max_depth=4 ..................................\n",
      "[CV] ................... learning_rate=0.1, max_depth=3, total=  12.9s\n",
      "[CV] learning_rate=0.1, max_depth=4 ..................................\n",
      "[CV] ................... learning_rate=0.1, max_depth=3, total=  12.9s\n",
      "[CV] learning_rate=0.1, max_depth=4 ..................................\n",
      "[CV] ................... learning_rate=0.1, max_depth=4, total=  17.5s\n",
      "[CV] learning_rate=0.1, max_depth=5 ..................................\n",
      "[CV] ................... learning_rate=0.1, max_depth=4, total=  17.0s\n",
      "[CV] learning_rate=0.1, max_depth=5 ..................................\n",
      "[CV] ................... learning_rate=0.1, max_depth=4, total=  16.9s\n",
      "[CV] learning_rate=0.1, max_depth=5 ..................................\n",
      "[CV] ................... learning_rate=0.1, max_depth=5, total=  21.1s\n",
      "[CV] ................... learning_rate=0.1, max_depth=5, total=  20.6s\n",
      "[CV] learning_rate=0.3, max_depth=3 ..................................\n",
      "[CV] learning_rate=0.3, max_depth=3 ..................................\n",
      "[CV] ................... learning_rate=0.1, max_depth=5, total=  20.7s\n",
      "[CV] learning_rate=0.3, max_depth=3 ..................................\n",
      "[CV] ................... learning_rate=0.3, max_depth=3, total=  12.4s\n",
      "[CV] learning_rate=0.3, max_depth=4 ..................................\n",
      "[CV] ................... learning_rate=0.3, max_depth=3, total=  12.3s\n",
      "[CV] learning_rate=0.3, max_depth=4 ..................................\n",
      "[CV] ................... learning_rate=0.3, max_depth=3, total=  12.3s\n",
      "[CV] learning_rate=0.3, max_depth=4 ..................................\n",
      "[CV] ................... learning_rate=0.3, max_depth=4, total=  16.2s\n",
      "[CV] ................... learning_rate=0.3, max_depth=4, total=  15.8s\n",
      "[CV] learning_rate=0.3, max_depth=5 ..................................\n",
      "[CV] learning_rate=0.3, max_depth=5 ..................................\n",
      "[CV] ................... learning_rate=0.3, max_depth=4, total=  15.9s\n",
      "[CV] learning_rate=0.3, max_depth=5 ..................................\n",
      "[CV] ................... learning_rate=0.3, max_depth=5, total=  18.4s\n",
      "[CV] ................... learning_rate=0.3, max_depth=5, total=  18.5s\n",
      "[CV] ................... learning_rate=0.3, max_depth=5, total=  18.1s\n"
     ]
    },
    {
     "name": "stderr",
     "output_type": "stream",
     "text": [
      "[Parallel(n_jobs=3)]: Done  27 out of  27 | elapsed:  2.8min finished\n"
     ]
    },
    {
     "name": "stdout",
     "output_type": "stream",
     "text": [
      "CPU times: user 38.9 s, sys: 597 ms, total: 39.5 s\n",
      "Wall time: 3min 12s\n"
     ]
    }
   ],
   "source": [
    "%%time\n",
    "gb = GradientBoostingClassifier(random_state=42)\n",
    "gb_params = {\n",
    "    'learning_rate': [0.05, 0.1, 0.3],\n",
    "    'max_depth': [3,4,5]\n",
    "}\n",
    "gb_gs = GridSearchCV(gb, param_grid=gb_params, verbose=2, n_jobs=3 )\n",
    "gb_gs.fit(X_train, y_train)"
   ]
  },
  {
   "cell_type": "code",
   "execution_count": 99,
   "metadata": {},
   "outputs": [
    {
     "name": "stdout",
     "output_type": "stream",
     "text": [
      "Best Params: {'learning_rate': 0.1, 'max_depth': 4}\n",
      "Train: 1.0\n",
      "Test: 0.9145299145299145\n"
     ]
    }
   ],
   "source": [
    "print('Best Params:', gb_gs.best_params_)\n",
    "print('Train:', gb_gs.score(X_train,y_train))\n",
    "print('Test:', gb_gs.score(X_test,y_test))"
   ]
  },
  {
   "cell_type": "code",
   "execution_count": 100,
   "metadata": {},
   "outputs": [],
   "source": [
    "with open('../Models/GradientBoost_gs.pkl', 'wb') as f:\n",
    "    pickle.dump(gb_gs, f)"
   ]
  },
  {
   "cell_type": "markdown",
   "metadata": {},
   "source": [
    "## AdaBoost with Grid Search"
   ]
  },
  {
   "cell_type": "code",
   "execution_count": 71,
   "metadata": {
    "collapsed": true
   },
   "outputs": [
    {
     "name": "stdout",
     "output_type": "stream",
     "text": [
      "Fitting 3 folds for each of 9 candidates, totalling 27 fits\n",
      "[CV] learning_rate=0.5, n_estimators=50 ..............................\n",
      "[CV] learning_rate=0.5, n_estimators=50 ..............................\n",
      "[CV] learning_rate=0.5, n_estimators=50 ..............................\n",
      "[CV] ............... learning_rate=0.5, n_estimators=50, total=   4.7s\n",
      "[CV] learning_rate=0.5, n_estimators=100 .............................\n",
      "[CV] ............... learning_rate=0.5, n_estimators=50, total=   4.9s\n",
      "[CV] learning_rate=0.5, n_estimators=100 .............................\n",
      "[CV] ............... learning_rate=0.5, n_estimators=50, total=   5.2s\n",
      "[CV] learning_rate=0.5, n_estimators=100 .............................\n",
      "[CV] .............. learning_rate=0.5, n_estimators=100, total=   6.3s\n",
      "[CV] learning_rate=0.5, n_estimators=150 .............................\n",
      "[CV] .............. learning_rate=0.5, n_estimators=100, total=   6.2s\n",
      "[CV] learning_rate=0.5, n_estimators=150 .............................\n",
      "[CV] .............. learning_rate=0.5, n_estimators=100, total=   6.3s\n",
      "[CV] learning_rate=0.5, n_estimators=150 .............................\n",
      "[CV] .............. learning_rate=0.5, n_estimators=150, total=   7.7s\n",
      "[CV] learning_rate=1.0, n_estimators=50 ..............................\n",
      "[CV] .............. learning_rate=0.5, n_estimators=150, total=   7.8s\n",
      "[CV] learning_rate=1.0, n_estimators=50 ..............................\n",
      "[CV] .............. learning_rate=0.5, n_estimators=150, total=   8.0s\n",
      "[CV] learning_rate=1.0, n_estimators=50 ..............................\n",
      "[CV] ............... learning_rate=1.0, n_estimators=50, total=   4.6s\n",
      "[CV] learning_rate=1.0, n_estimators=100 .............................\n",
      "[CV] ............... learning_rate=1.0, n_estimators=50, total=   4.7s\n",
      "[CV] learning_rate=1.0, n_estimators=100 .............................\n",
      "[CV] ............... learning_rate=1.0, n_estimators=50, total=   4.7s\n",
      "[CV] learning_rate=1.0, n_estimators=100 .............................\n",
      "[CV] .............. learning_rate=1.0, n_estimators=100, total=   6.3s\n",
      "[CV] learning_rate=1.0, n_estimators=150 .............................\n",
      "[CV] .............. learning_rate=1.0, n_estimators=100, total=   6.3s\n",
      "[CV] learning_rate=1.0, n_estimators=150 .............................\n",
      "[CV] .............. learning_rate=1.0, n_estimators=100, total=   6.3s\n",
      "[CV] learning_rate=1.0, n_estimators=150 .............................\n",
      "[CV] .............. learning_rate=1.0, n_estimators=150, total=   7.9s\n",
      "[CV] learning_rate=1.5, n_estimators=50 ..............................\n",
      "[CV] .............. learning_rate=1.0, n_estimators=150, total=   7.9s\n",
      "[CV] learning_rate=1.5, n_estimators=50 ..............................\n",
      "[CV] .............. learning_rate=1.0, n_estimators=150, total=   8.0s\n",
      "[CV] learning_rate=1.5, n_estimators=50 ..............................\n",
      "[CV] ............... learning_rate=1.5, n_estimators=50, total=   4.7s\n",
      "[CV] learning_rate=1.5, n_estimators=100 .............................\n",
      "[CV] ............... learning_rate=1.5, n_estimators=50, total=   4.7s\n",
      "[CV] learning_rate=1.5, n_estimators=100 .............................\n",
      "[CV] ............... learning_rate=1.5, n_estimators=50, total=   4.8s\n",
      "[CV] learning_rate=1.5, n_estimators=100 .............................\n",
      "[CV] .............. learning_rate=1.5, n_estimators=100, total=   6.3s\n",
      "[CV] .............. learning_rate=1.5, n_estimators=100, total=   6.3s\n",
      "[CV] learning_rate=1.5, n_estimators=150 .............................\n",
      "[CV] learning_rate=1.5, n_estimators=150 .............................\n",
      "[CV] .............. learning_rate=1.5, n_estimators=100, total=   6.5s\n",
      "[CV] learning_rate=1.5, n_estimators=150 .............................\n",
      "[CV] .............. learning_rate=1.5, n_estimators=150, total=   8.3s\n",
      "[CV] .............. learning_rate=1.5, n_estimators=150, total=   8.2s\n",
      "[CV] .............. learning_rate=1.5, n_estimators=150, total=   8.2s\n"
     ]
    },
    {
     "name": "stderr",
     "output_type": "stream",
     "text": [
      "[Parallel(n_jobs=3)]: Done  27 out of  27 | elapsed:  1.2min finished\n"
     ]
    },
    {
     "data": {
      "text/plain": [
       "GridSearchCV(cv=None, error_score='raise',\n",
       "       estimator=AdaBoostClassifier(algorithm='SAMME.R', base_estimator=None,\n",
       "          learning_rate=1.0, n_estimators=50, random_state=42),\n",
       "       fit_params=None, iid=True, n_jobs=3,\n",
       "       param_grid={'n_estimators': [50, 100, 150], 'learning_rate': [0.5, 1.0, 1.5]},\n",
       "       pre_dispatch='2*n_jobs', refit=True, return_train_score='warn',\n",
       "       scoring=None, verbose=2)"
      ]
     },
     "execution_count": 71,
     "metadata": {},
     "output_type": "execute_result"
    }
   ],
   "source": [
    "%%time\n",
    "ada = AdaBoostClassifier(random_state=42)\n",
    "ada_params = {\n",
    "    'n_estimators':[50,100,150],\n",
    "    'learning_rate': [0.5, 1.0, 1.5]\n",
    "}\n",
    "ada_gs = GridSearchCV(ada, param_grid=ada_params, verbose=2, n_jobs=3)\n",
    "ada_gs.fit(X_train, y_train)\n"
   ]
  },
  {
   "cell_type": "code",
   "execution_count": 72,
   "metadata": {},
   "outputs": [
    {
     "name": "stdout",
     "output_type": "stream",
     "text": [
      "Best Score: 0.906959706959707\n",
      "Best Parameters: {'learning_rate': 0.5, 'n_estimators': 50}\n",
      "Test: 0.9472527472527472\n",
      "Test: 0.9128205128205128\n"
     ]
    }
   ],
   "source": [
    "print('Best Score:', ada_gs.best_score_)\n",
    "print('Best Parameters:', ada_gs.best_params_)\n",
    "print('Train:',ada_gs.score(X_train,y_train))\n",
    "print('Test:',ada_gs.score(X_test,y_test))"
   ]
  },
  {
   "cell_type": "code",
   "execution_count": 73,
   "metadata": {},
   "outputs": [],
   "source": [
    "with open('../Models/AdaBoost_gs','wb') as f:\n",
    "    pickle.dump(ada_gs, f)"
   ]
  },
  {
   "cell_type": "markdown",
   "metadata": {},
   "source": [
    "## Final Try Before Moving On:  Voting Classifier with the best Models"
   ]
  },
  {
   "cell_type": "code",
   "execution_count": 76,
   "metadata": {
    "scrolled": true
   },
   "outputs": [
    {
     "name": "stdout",
     "output_type": "stream",
     "text": [
      "Fitting 3 folds for each of 3 candidates, totalling 9 fits\n",
      "[CV] weights=[0.25, 0.25, 0.25, 0.25] ................................\n",
      "[CV] weights=[0.25, 0.25, 0.25, 0.25] ................................\n",
      "[CV] weights=[0.25, 0.25, 0.25, 0.25] ................................\n",
      "[CV] weights=[0.4, 0.4, 0.1, 0.1] ....................................\n"
     ]
    },
    {
     "name": "stderr",
     "output_type": "stream",
     "text": [
      "Process ForkPoolWorker-17:\n",
      "Process ForkPoolWorker-16:\n",
      "Traceback (most recent call last):\n",
      "Traceback (most recent call last):\n",
      "  File \"/Users/yibingchen/anaconda3/lib/python3.6/multiprocessing/process.py\", line 258, in _bootstrap\n",
      "    self.run()\n",
      "  File \"/Users/yibingchen/anaconda3/lib/python3.6/multiprocessing/process.py\", line 258, in _bootstrap\n",
      "    self.run()\n",
      "  File \"/Users/yibingchen/anaconda3/lib/python3.6/multiprocessing/process.py\", line 93, in run\n",
      "    self._target(*self._args, **self._kwargs)\n",
      "  File \"/Users/yibingchen/anaconda3/lib/python3.6/multiprocessing/process.py\", line 93, in run\n",
      "    self._target(*self._args, **self._kwargs)\n",
      "  File \"/Users/yibingchen/anaconda3/lib/python3.6/multiprocessing/pool.py\", line 108, in worker\n",
      "    task = get()\n",
      "  File \"/Users/yibingchen/anaconda3/lib/python3.6/multiprocessing/pool.py\", line 108, in worker\n",
      "    task = get()\n",
      "  File \"/Users/yibingchen/anaconda3/lib/python3.6/site-packages/sklearn/externals/joblib/pool.py\", line 360, in get\n",
      "    racquire()\n",
      "  File \"/Users/yibingchen/anaconda3/lib/python3.6/site-packages/sklearn/externals/joblib/pool.py\", line 362, in get\n",
      "    return recv()\n",
      "KeyboardInterrupt\n",
      "  File \"/Users/yibingchen/anaconda3/lib/python3.6/multiprocessing/connection.py\", line 250, in recv\n",
      "    buf = self._recv_bytes()\n",
      "  File \"/Users/yibingchen/anaconda3/lib/python3.6/multiprocessing/connection.py\", line 407, in _recv_bytes\n",
      "    buf = self._recv(4)\n",
      "  File \"/Users/yibingchen/anaconda3/lib/python3.6/multiprocessing/connection.py\", line 379, in _recv\n",
      "    chunk = read(handle, remaining)\n",
      "KeyboardInterrupt\n"
     ]
    },
    {
     "ename": "KeyboardInterrupt",
     "evalue": "",
     "output_type": "error",
     "traceback": [
      "\u001b[0;31m---------------------------------------------------------------------------\u001b[0m",
      "\u001b[0;31mKeyboardInterrupt\u001b[0m                         Traceback (most recent call last)",
      "\u001b[0;32m<timed exec>\u001b[0m in \u001b[0;36m<module>\u001b[0;34m()\u001b[0m\n",
      "\u001b[0;32m~/anaconda3/lib/python3.6/site-packages/sklearn/model_selection/_search.py\u001b[0m in \u001b[0;36mfit\u001b[0;34m(self, X, y, groups, **fit_params)\u001b[0m\n\u001b[1;32m    637\u001b[0m                                   error_score=self.error_score)\n\u001b[1;32m    638\u001b[0m           for parameters, (train, test) in product(candidate_params,\n\u001b[0;32m--> 639\u001b[0;31m                                                    cv.split(X, y, groups)))\n\u001b[0m\u001b[1;32m    640\u001b[0m \u001b[0;34m\u001b[0m\u001b[0m\n\u001b[1;32m    641\u001b[0m         \u001b[0;31m# if one choose to see train score, \"out\" will contain train score info\u001b[0m\u001b[0;34m\u001b[0m\u001b[0;34m\u001b[0m\u001b[0m\n",
      "\u001b[0;32m~/anaconda3/lib/python3.6/site-packages/sklearn/externals/joblib/parallel.py\u001b[0m in \u001b[0;36m__call__\u001b[0;34m(self, iterable)\u001b[0m\n\u001b[1;32m    787\u001b[0m                 \u001b[0;31m# consumption.\u001b[0m\u001b[0;34m\u001b[0m\u001b[0;34m\u001b[0m\u001b[0m\n\u001b[1;32m    788\u001b[0m                 \u001b[0mself\u001b[0m\u001b[0;34m.\u001b[0m\u001b[0m_iterating\u001b[0m \u001b[0;34m=\u001b[0m \u001b[0;32mFalse\u001b[0m\u001b[0;34m\u001b[0m\u001b[0m\n\u001b[0;32m--> 789\u001b[0;31m             \u001b[0mself\u001b[0m\u001b[0;34m.\u001b[0m\u001b[0mretrieve\u001b[0m\u001b[0;34m(\u001b[0m\u001b[0;34m)\u001b[0m\u001b[0;34m\u001b[0m\u001b[0m\n\u001b[0m\u001b[1;32m    790\u001b[0m             \u001b[0;31m# Make sure that we get a last message telling us we are done\u001b[0m\u001b[0;34m\u001b[0m\u001b[0;34m\u001b[0m\u001b[0m\n\u001b[1;32m    791\u001b[0m             \u001b[0melapsed_time\u001b[0m \u001b[0;34m=\u001b[0m \u001b[0mtime\u001b[0m\u001b[0;34m.\u001b[0m\u001b[0mtime\u001b[0m\u001b[0;34m(\u001b[0m\u001b[0;34m)\u001b[0m \u001b[0;34m-\u001b[0m \u001b[0mself\u001b[0m\u001b[0;34m.\u001b[0m\u001b[0m_start_time\u001b[0m\u001b[0;34m\u001b[0m\u001b[0m\n",
      "\u001b[0;32m~/anaconda3/lib/python3.6/site-packages/sklearn/externals/joblib/parallel.py\u001b[0m in \u001b[0;36mretrieve\u001b[0;34m(self)\u001b[0m\n\u001b[1;32m    697\u001b[0m             \u001b[0;32mtry\u001b[0m\u001b[0;34m:\u001b[0m\u001b[0;34m\u001b[0m\u001b[0m\n\u001b[1;32m    698\u001b[0m                 \u001b[0;32mif\u001b[0m \u001b[0mgetattr\u001b[0m\u001b[0;34m(\u001b[0m\u001b[0mself\u001b[0m\u001b[0;34m.\u001b[0m\u001b[0m_backend\u001b[0m\u001b[0;34m,\u001b[0m \u001b[0;34m'supports_timeout'\u001b[0m\u001b[0;34m,\u001b[0m \u001b[0;32mFalse\u001b[0m\u001b[0;34m)\u001b[0m\u001b[0;34m:\u001b[0m\u001b[0;34m\u001b[0m\u001b[0m\n\u001b[0;32m--> 699\u001b[0;31m                     \u001b[0mself\u001b[0m\u001b[0;34m.\u001b[0m\u001b[0m_output\u001b[0m\u001b[0;34m.\u001b[0m\u001b[0mextend\u001b[0m\u001b[0;34m(\u001b[0m\u001b[0mjob\u001b[0m\u001b[0;34m.\u001b[0m\u001b[0mget\u001b[0m\u001b[0;34m(\u001b[0m\u001b[0mtimeout\u001b[0m\u001b[0;34m=\u001b[0m\u001b[0mself\u001b[0m\u001b[0;34m.\u001b[0m\u001b[0mtimeout\u001b[0m\u001b[0;34m)\u001b[0m\u001b[0;34m)\u001b[0m\u001b[0;34m\u001b[0m\u001b[0m\n\u001b[0m\u001b[1;32m    700\u001b[0m                 \u001b[0;32melse\u001b[0m\u001b[0;34m:\u001b[0m\u001b[0;34m\u001b[0m\u001b[0m\n\u001b[1;32m    701\u001b[0m                     \u001b[0mself\u001b[0m\u001b[0;34m.\u001b[0m\u001b[0m_output\u001b[0m\u001b[0;34m.\u001b[0m\u001b[0mextend\u001b[0m\u001b[0;34m(\u001b[0m\u001b[0mjob\u001b[0m\u001b[0;34m.\u001b[0m\u001b[0mget\u001b[0m\u001b[0;34m(\u001b[0m\u001b[0;34m)\u001b[0m\u001b[0;34m)\u001b[0m\u001b[0;34m\u001b[0m\u001b[0m\n",
      "\u001b[0;32m~/anaconda3/lib/python3.6/multiprocessing/pool.py\u001b[0m in \u001b[0;36mget\u001b[0;34m(self, timeout)\u001b[0m\n\u001b[1;32m    636\u001b[0m \u001b[0;34m\u001b[0m\u001b[0m\n\u001b[1;32m    637\u001b[0m     \u001b[0;32mdef\u001b[0m \u001b[0mget\u001b[0m\u001b[0;34m(\u001b[0m\u001b[0mself\u001b[0m\u001b[0;34m,\u001b[0m \u001b[0mtimeout\u001b[0m\u001b[0;34m=\u001b[0m\u001b[0;32mNone\u001b[0m\u001b[0;34m)\u001b[0m\u001b[0;34m:\u001b[0m\u001b[0;34m\u001b[0m\u001b[0m\n\u001b[0;32m--> 638\u001b[0;31m         \u001b[0mself\u001b[0m\u001b[0;34m.\u001b[0m\u001b[0mwait\u001b[0m\u001b[0;34m(\u001b[0m\u001b[0mtimeout\u001b[0m\u001b[0;34m)\u001b[0m\u001b[0;34m\u001b[0m\u001b[0m\n\u001b[0m\u001b[1;32m    639\u001b[0m         \u001b[0;32mif\u001b[0m \u001b[0;32mnot\u001b[0m \u001b[0mself\u001b[0m\u001b[0;34m.\u001b[0m\u001b[0mready\u001b[0m\u001b[0;34m(\u001b[0m\u001b[0;34m)\u001b[0m\u001b[0;34m:\u001b[0m\u001b[0;34m\u001b[0m\u001b[0m\n\u001b[1;32m    640\u001b[0m             \u001b[0;32mraise\u001b[0m \u001b[0mTimeoutError\u001b[0m\u001b[0;34m\u001b[0m\u001b[0m\n",
      "\u001b[0;32m~/anaconda3/lib/python3.6/multiprocessing/pool.py\u001b[0m in \u001b[0;36mwait\u001b[0;34m(self, timeout)\u001b[0m\n\u001b[1;32m    633\u001b[0m \u001b[0;34m\u001b[0m\u001b[0m\n\u001b[1;32m    634\u001b[0m     \u001b[0;32mdef\u001b[0m \u001b[0mwait\u001b[0m\u001b[0;34m(\u001b[0m\u001b[0mself\u001b[0m\u001b[0;34m,\u001b[0m \u001b[0mtimeout\u001b[0m\u001b[0;34m=\u001b[0m\u001b[0;32mNone\u001b[0m\u001b[0;34m)\u001b[0m\u001b[0;34m:\u001b[0m\u001b[0;34m\u001b[0m\u001b[0m\n\u001b[0;32m--> 635\u001b[0;31m         \u001b[0mself\u001b[0m\u001b[0;34m.\u001b[0m\u001b[0m_event\u001b[0m\u001b[0;34m.\u001b[0m\u001b[0mwait\u001b[0m\u001b[0;34m(\u001b[0m\u001b[0mtimeout\u001b[0m\u001b[0;34m)\u001b[0m\u001b[0;34m\u001b[0m\u001b[0m\n\u001b[0m\u001b[1;32m    636\u001b[0m \u001b[0;34m\u001b[0m\u001b[0m\n\u001b[1;32m    637\u001b[0m     \u001b[0;32mdef\u001b[0m \u001b[0mget\u001b[0m\u001b[0;34m(\u001b[0m\u001b[0mself\u001b[0m\u001b[0;34m,\u001b[0m \u001b[0mtimeout\u001b[0m\u001b[0;34m=\u001b[0m\u001b[0;32mNone\u001b[0m\u001b[0;34m)\u001b[0m\u001b[0;34m:\u001b[0m\u001b[0;34m\u001b[0m\u001b[0m\n",
      "\u001b[0;32m~/anaconda3/lib/python3.6/threading.py\u001b[0m in \u001b[0;36mwait\u001b[0;34m(self, timeout)\u001b[0m\n\u001b[1;32m    549\u001b[0m             \u001b[0msignaled\u001b[0m \u001b[0;34m=\u001b[0m \u001b[0mself\u001b[0m\u001b[0;34m.\u001b[0m\u001b[0m_flag\u001b[0m\u001b[0;34m\u001b[0m\u001b[0m\n\u001b[1;32m    550\u001b[0m             \u001b[0;32mif\u001b[0m \u001b[0;32mnot\u001b[0m \u001b[0msignaled\u001b[0m\u001b[0;34m:\u001b[0m\u001b[0;34m\u001b[0m\u001b[0m\n\u001b[0;32m--> 551\u001b[0;31m                 \u001b[0msignaled\u001b[0m \u001b[0;34m=\u001b[0m \u001b[0mself\u001b[0m\u001b[0;34m.\u001b[0m\u001b[0m_cond\u001b[0m\u001b[0;34m.\u001b[0m\u001b[0mwait\u001b[0m\u001b[0;34m(\u001b[0m\u001b[0mtimeout\u001b[0m\u001b[0;34m)\u001b[0m\u001b[0;34m\u001b[0m\u001b[0m\n\u001b[0m\u001b[1;32m    552\u001b[0m             \u001b[0;32mreturn\u001b[0m \u001b[0msignaled\u001b[0m\u001b[0;34m\u001b[0m\u001b[0m\n\u001b[1;32m    553\u001b[0m \u001b[0;34m\u001b[0m\u001b[0m\n",
      "\u001b[0;32m~/anaconda3/lib/python3.6/threading.py\u001b[0m in \u001b[0;36mwait\u001b[0;34m(self, timeout)\u001b[0m\n\u001b[1;32m    293\u001b[0m         \u001b[0;32mtry\u001b[0m\u001b[0;34m:\u001b[0m    \u001b[0;31m# restore state no matter what (e.g., KeyboardInterrupt)\u001b[0m\u001b[0;34m\u001b[0m\u001b[0m\n\u001b[1;32m    294\u001b[0m             \u001b[0;32mif\u001b[0m \u001b[0mtimeout\u001b[0m \u001b[0;32mis\u001b[0m \u001b[0;32mNone\u001b[0m\u001b[0;34m:\u001b[0m\u001b[0;34m\u001b[0m\u001b[0m\n\u001b[0;32m--> 295\u001b[0;31m                 \u001b[0mwaiter\u001b[0m\u001b[0;34m.\u001b[0m\u001b[0macquire\u001b[0m\u001b[0;34m(\u001b[0m\u001b[0;34m)\u001b[0m\u001b[0;34m\u001b[0m\u001b[0m\n\u001b[0m\u001b[1;32m    296\u001b[0m                 \u001b[0mgotit\u001b[0m \u001b[0;34m=\u001b[0m \u001b[0;32mTrue\u001b[0m\u001b[0;34m\u001b[0m\u001b[0m\n\u001b[1;32m    297\u001b[0m             \u001b[0;32melse\u001b[0m\u001b[0;34m:\u001b[0m\u001b[0;34m\u001b[0m\u001b[0m\n",
      "\u001b[0;31mKeyboardInterrupt\u001b[0m: "
     ]
    }
   ],
   "source": [
    "%%time\n",
    "vote = VotingClassifier([\n",
    "    ('ada', AdaBoostClassifier(learning_rate=0.5)),\n",
    "    ('rf', RandomForestClassifier(n_estimators=100)),\n",
    "    ('lr', LogisticRegression(C=10)),\n",
    "    ('gb', GradientBoostingClassifier(max_depth=5))\n",
    "])\n",
    "vote_params = {\n",
    "    'weights': [[0.25,0.25,0.25, 0.25],\n",
    "                [0.4, 0.4, 0.1, 0.1],\n",
    "                [0.1, 0.1, 0.4, 0.4]]\n",
    "}\n",
    "vote_gs = GridSearchCV(vote, param_grid=vote_params, verbose=2, n_jobs=2)\n",
    "vote_gs.fit(X_train, y_train)"
   ]
  },
  {
   "cell_type": "code",
   "execution_count": 75,
   "metadata": {},
   "outputs": [
    {
     "name": "stdout",
     "output_type": "stream",
     "text": [
      "Best Score: 0.906959706959707\n",
      "Best Parameters: {'learning_rate': 0.5, 'n_estimators': 50}\n",
      "Test: 0.9472527472527472\n",
      "Test: 0.9128205128205128\n"
     ]
    }
   ],
   "source": [
    "print('Best Score:', vote_gs.best_score_)\n",
    "print('Best Parameters:', vote_gs.best_params_)\n",
    "print('Test:',vote_gs.score(X_train,y_train))\n",
    "print('Test:',vote_gs.score(X_test,y_test))"
   ]
  },
  {
   "cell_type": "code",
   "execution_count": 79,
   "metadata": {},
   "outputs": [
    {
     "data": {
      "text/plain": [
       "(585, 8709)"
      ]
     },
     "execution_count": 79,
     "metadata": {},
     "output_type": "execute_result"
    }
   ],
   "source": [
    "X_test.shape"
   ]
  },
  {
   "cell_type": "code",
   "execution_count": null,
   "metadata": {},
   "outputs": [],
   "source": []
  }
 ],
 "metadata": {
  "kernelspec": {
   "display_name": "Python 3",
   "language": "python",
   "name": "python3"
  },
  "language_info": {
   "codemirror_mode": {
    "name": "ipython",
    "version": 3
   },
   "file_extension": ".py",
   "mimetype": "text/x-python",
   "name": "python",
   "nbconvert_exporter": "python",
   "pygments_lexer": "ipython3",
   "version": "3.6.4"
  }
 },
 "nbformat": 4,
 "nbformat_minor": 2
}
