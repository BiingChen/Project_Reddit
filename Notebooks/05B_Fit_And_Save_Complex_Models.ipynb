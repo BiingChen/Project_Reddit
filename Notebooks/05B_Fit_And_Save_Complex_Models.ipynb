{
 "cells": [
  {
   "cell_type": "markdown",
   "metadata": {},
   "source": [
    "# 05 Fit and Save Complex Models Separately"
   ]
  },
  {
   "cell_type": "markdown",
   "metadata": {},
   "source": [
    "### Purpose of Notebook\n",
    "- Try some of the more complex models:\n",
    "- Export fit models for later review"
   ]
  },
  {
   "cell_type": "markdown",
   "metadata": {},
   "source": [
    "## Imports"
   ]
  },
  {
   "cell_type": "code",
   "execution_count": 2,
   "metadata": {},
   "outputs": [],
   "source": [
    "import pandas as pd\n",
    "import numpy as np\n",
    "import pickle\n",
    "from sklearn.model_selection import train_test_split, GridSearchCV, RandomizedSearchCV\n",
    "from sklearn.linear_model import LogisticRegressionCV, LogisticRegression\n",
    "from sklearn.neighbors import KNeighborsClassifier\n",
    "from sklearn.ensemble import RandomForestClassifier, BaggingClassifier\n",
    "from sklearn.ensemble import GradientBoostingClassifier, VotingClassifier\n",
    "from sklearn.tree import DecisionTreeClassifier\n",
    "import random\n",
    "from matplotlib import pyplot as plt\n",
    "from sklearn.metrics import confusion_matrix\n",
    "from sklearn.ensemble import AdaBoostClassifier, GradientBoostingClassifier, VotingClassifier\n",
    "from sklearn.svm import SVC\n",
    "import pickle\n",
    "\n",
    "random.seed(42)"
   ]
  },
  {
   "cell_type": "markdown",
   "metadata": {},
   "source": [
    "## Pull in train and test data"
   ]
  },
  {
   "cell_type": "code",
   "execution_count": 10,
   "metadata": {},
   "outputs": [],
   "source": [
    "with open('../Data/X_train_clean.pkl', 'rb') as f:\n",
    "    X_train = pickle.load(f)\n",
    "    \n",
    "with open('../Data/X_test_clean.pkl', 'rb') as f:\n",
    "    X_test = pickle.load(f)\n",
    "    \n",
    "with open('../Data/y_train.pkl', 'rb') as f:\n",
    "    y_train = pickle.load(f)\n",
    "    \n",
    "with open('../Data/y_test.pkl', 'rb') as f:\n",
    "    y_test = pickle.load(f)"
   ]
  },
  {
   "cell_type": "markdown",
   "metadata": {},
   "source": [
    "## Random Forest with GridSearch"
   ]
  },
  {
   "cell_type": "code",
   "execution_count": 80,
   "metadata": {
    "collapsed": true
   },
   "outputs": [
    {
     "name": "stdout",
     "output_type": "stream",
     "text": [
      "Fitting 3 folds for each of 16 candidates, totalling 48 fits\n",
      "[CV] min_samples_leaf=1, min_samples_split=2, n_estimators=10 ........\n",
      "[CV] min_samples_leaf=1, min_samples_split=2, n_estimators=10 ........\n",
      "[CV] min_samples_leaf=1, min_samples_split=2, n_estimators=10 ........\n",
      "[CV]  min_samples_leaf=1, min_samples_split=2, n_estimators=10, total=   3.3s\n",
      "[CV]  min_samples_leaf=1, min_samples_split=2, n_estimators=10, total=   3.4s\n",
      "[CV] min_samples_leaf=1, min_samples_split=2, n_estimators=30 ........\n",
      "[CV]  min_samples_leaf=1, min_samples_split=2, n_estimators=10, total=   3.4s\n",
      "[CV] min_samples_leaf=1, min_samples_split=2, n_estimators=30 ........\n",
      "[CV] min_samples_leaf=1, min_samples_split=2, n_estimators=30 ........\n",
      "[CV]  min_samples_leaf=1, min_samples_split=2, n_estimators=30, total=   3.1s\n",
      "[CV]  min_samples_leaf=1, min_samples_split=2, n_estimators=30, total=   3.1s\n",
      "[CV] min_samples_leaf=1, min_samples_split=2, n_estimators=50 ........\n",
      "[CV]  min_samples_leaf=1, min_samples_split=2, n_estimators=30, total=   3.2s\n",
      "[CV] min_samples_leaf=1, min_samples_split=2, n_estimators=50 ........\n",
      "[CV] min_samples_leaf=1, min_samples_split=2, n_estimators=50 ........\n",
      "[CV]  min_samples_leaf=1, min_samples_split=2, n_estimators=50, total=   3.6s\n",
      "[CV] min_samples_leaf=1, min_samples_split=2, n_estimators=100 .......\n",
      "[CV]  min_samples_leaf=1, min_samples_split=2, n_estimators=50, total=   3.6s\n",
      "[CV] min_samples_leaf=1, min_samples_split=2, n_estimators=100 .......\n",
      "[CV]  min_samples_leaf=1, min_samples_split=2, n_estimators=50, total=   3.6s\n",
      "[CV] min_samples_leaf=1, min_samples_split=2, n_estimators=100 .......\n",
      "[CV]  min_samples_leaf=1, min_samples_split=2, n_estimators=100, total=   4.0s\n",
      "[CV] min_samples_leaf=1, min_samples_split=3, n_estimators=10 ........\n",
      "[CV]  min_samples_leaf=1, min_samples_split=2, n_estimators=100, total=   4.1s\n",
      "[CV] min_samples_leaf=1, min_samples_split=3, n_estimators=10 ........\n",
      "[CV]  min_samples_leaf=1, min_samples_split=2, n_estimators=100, total=   4.1s\n",
      "[CV] min_samples_leaf=1, min_samples_split=3, n_estimators=10 ........\n",
      "[CV]  min_samples_leaf=1, min_samples_split=3, n_estimators=10, total=   3.2s\n",
      "[CV]  min_samples_leaf=1, min_samples_split=3, n_estimators=10, total=   3.2s\n",
      "[CV] min_samples_leaf=1, min_samples_split=3, n_estimators=30 ........\n",
      "[CV]  min_samples_leaf=1, min_samples_split=3, n_estimators=10, total=   3.2s\n",
      "[CV] min_samples_leaf=1, min_samples_split=3, n_estimators=30 ........\n",
      "[CV] min_samples_leaf=1, min_samples_split=3, n_estimators=30 ........\n",
      "[CV]  min_samples_leaf=1, min_samples_split=3, n_estimators=30, total=   3.2s\n",
      "[CV] min_samples_leaf=1, min_samples_split=3, n_estimators=50 ........\n",
      "[CV]  min_samples_leaf=1, min_samples_split=3, n_estimators=30, total=   3.2s\n",
      "[CV]  min_samples_leaf=1, min_samples_split=3, n_estimators=30, total=   3.4s\n",
      "[CV] min_samples_leaf=1, min_samples_split=3, n_estimators=50 ........\n",
      "[CV] min_samples_leaf=1, min_samples_split=3, n_estimators=50 ........\n",
      "[CV]  min_samples_leaf=1, min_samples_split=3, n_estimators=50, total=   3.4s\n",
      "[CV] min_samples_leaf=1, min_samples_split=3, n_estimators=100 .......\n",
      "[CV]  min_samples_leaf=1, min_samples_split=3, n_estimators=50, total=   3.4s\n",
      "[CV] min_samples_leaf=1, min_samples_split=3, n_estimators=100 .......\n",
      "[CV]  min_samples_leaf=1, min_samples_split=3, n_estimators=50, total=   3.3s\n",
      "[CV] min_samples_leaf=1, min_samples_split=3, n_estimators=100 .......\n",
      "[CV]  min_samples_leaf=1, min_samples_split=3, n_estimators=100, total=   4.0s\n",
      "[CV] min_samples_leaf=2, min_samples_split=2, n_estimators=10 ........\n",
      "[CV]  min_samples_leaf=1, min_samples_split=3, n_estimators=100, total=   4.0s\n",
      "[CV] min_samples_leaf=2, min_samples_split=2, n_estimators=10 ........\n",
      "[CV]  min_samples_leaf=1, min_samples_split=3, n_estimators=100, total=   4.0s\n",
      "[CV] min_samples_leaf=2, min_samples_split=2, n_estimators=10 ........\n",
      "[CV]  min_samples_leaf=2, min_samples_split=2, n_estimators=10, total=   3.2s\n",
      "[CV] min_samples_leaf=2, min_samples_split=2, n_estimators=30 ........\n",
      "[CV]  min_samples_leaf=2, min_samples_split=2, n_estimators=10, total=   3.2s\n",
      "[CV]  min_samples_leaf=2, min_samples_split=2, n_estimators=10, total=   3.2s\n",
      "[CV] min_samples_leaf=2, min_samples_split=2, n_estimators=30 ........\n",
      "[CV] min_samples_leaf=2, min_samples_split=2, n_estimators=30 ........\n",
      "[CV]  min_samples_leaf=2, min_samples_split=2, n_estimators=30, total=   3.3s\n",
      "[CV] min_samples_leaf=2, min_samples_split=2, n_estimators=50 ........\n",
      "[CV]  min_samples_leaf=2, min_samples_split=2, n_estimators=30, total=   3.1s\n",
      "[CV]  min_samples_leaf=2, min_samples_split=2, n_estimators=30, total=   3.1s\n",
      "[CV] min_samples_leaf=2, min_samples_split=2, n_estimators=50 ........\n",
      "[CV] min_samples_leaf=2, min_samples_split=2, n_estimators=50 ........\n",
      "[CV]  min_samples_leaf=2, min_samples_split=2, n_estimators=50, total=   3.2s\n",
      "[CV] min_samples_leaf=2, min_samples_split=2, n_estimators=100 .......\n",
      "[CV]  min_samples_leaf=2, min_samples_split=2, n_estimators=50, total=   3.3s\n",
      "[CV] min_samples_leaf=2, min_samples_split=2, n_estimators=100 .......\n",
      "[CV]  min_samples_leaf=2, min_samples_split=2, n_estimators=50, total=   3.3s\n",
      "[CV] min_samples_leaf=2, min_samples_split=2, n_estimators=100 .......\n",
      "[CV]  min_samples_leaf=2, min_samples_split=2, n_estimators=100, total=   3.6s\n",
      "[CV] min_samples_leaf=2, min_samples_split=3, n_estimators=10 ........\n",
      "[CV]  min_samples_leaf=2, min_samples_split=2, n_estimators=100, total=   3.7s\n"
     ]
    },
    {
     "name": "stderr",
     "output_type": "stream",
     "text": [
      "[Parallel(n_jobs=3)]: Done  35 tasks      | elapsed:   55.8s\n"
     ]
    },
    {
     "name": "stdout",
     "output_type": "stream",
     "text": [
      "[CV] min_samples_leaf=2, min_samples_split=3, n_estimators=10 ........\n",
      "[CV]  min_samples_leaf=2, min_samples_split=2, n_estimators=100, total=   3.7s\n",
      "[CV] min_samples_leaf=2, min_samples_split=3, n_estimators=10 ........\n",
      "[CV]  min_samples_leaf=2, min_samples_split=3, n_estimators=10, total=   3.2s\n",
      "[CV] min_samples_leaf=2, min_samples_split=3, n_estimators=30 ........\n",
      "[CV]  min_samples_leaf=2, min_samples_split=3, n_estimators=10, total=   3.2s\n",
      "[CV] min_samples_leaf=2, min_samples_split=3, n_estimators=30 ........\n",
      "[CV]  min_samples_leaf=2, min_samples_split=3, n_estimators=10, total=   2.9s\n",
      "[CV] min_samples_leaf=2, min_samples_split=3, n_estimators=30 ........\n",
      "[CV]  min_samples_leaf=2, min_samples_split=3, n_estimators=30, total=   3.3s\n",
      "[CV] min_samples_leaf=2, min_samples_split=3, n_estimators=50 ........\n",
      "[CV]  min_samples_leaf=2, min_samples_split=3, n_estimators=30, total=   3.3s\n",
      "[CV] min_samples_leaf=2, min_samples_split=3, n_estimators=50 ........\n",
      "[CV]  min_samples_leaf=2, min_samples_split=3, n_estimators=30, total=   3.2s\n",
      "[CV] min_samples_leaf=2, min_samples_split=3, n_estimators=50 ........\n",
      "[CV]  min_samples_leaf=2, min_samples_split=3, n_estimators=50, total=   3.4s\n",
      "[CV] min_samples_leaf=2, min_samples_split=3, n_estimators=100 .......\n",
      "[CV]  min_samples_leaf=2, min_samples_split=3, n_estimators=50, total=   3.4s\n",
      "[CV] min_samples_leaf=2, min_samples_split=3, n_estimators=100 .......\n",
      "[CV]  min_samples_leaf=2, min_samples_split=3, n_estimators=50, total=   3.4s\n",
      "[CV] min_samples_leaf=2, min_samples_split=3, n_estimators=100 .......\n",
      "[CV]  min_samples_leaf=2, min_samples_split=3, n_estimators=100, total=   3.7s\n",
      "[CV]  min_samples_leaf=2, min_samples_split=3, n_estimators=100, total=   3.6s\n",
      "[CV]  min_samples_leaf=2, min_samples_split=3, n_estimators=100, total=   3.7s\n"
     ]
    },
    {
     "name": "stderr",
     "output_type": "stream",
     "text": [
      "[Parallel(n_jobs=3)]: Done  48 out of  48 | elapsed:  1.2min finished\n"
     ]
    },
    {
     "name": "stdout",
     "output_type": "stream",
     "text": [
      "CPU times: user 29.6 s, sys: 767 ms, total: 30.4 s\n",
      "Wall time: 1min 16s\n"
     ]
    }
   ],
   "source": [
    "%%time\n",
    "rf = RandomForestClassifier(random_state=42, min_samples_split=2, min_samples_leaf=1)\n",
    "rf_params = {\n",
    "    'n_estimators': [10, 30, 50, 100],\n",
    "    'min_samples_split': [2,3],\n",
    "    'min_samples_leaf': [1,2]\n",
    "}\n",
    "rf_gs = GridSearchCV(rf, param_grid=rf_params, verbose=2, n_jobs=3)\n",
    "rf_gs.fit(X_train, y_train)"
   ]
  },
  {
   "cell_type": "code",
   "execution_count": 84,
   "metadata": {},
   "outputs": [],
   "source": [
    "with open('../Models/RandomForest_gs.pkl', 'wb') as f:\n",
    "    pickle.dump(rf_gs, f)"
   ]
  },
  {
   "cell_type": "markdown",
   "metadata": {},
   "source": [
    "## Try SVM"
   ]
  },
  {
   "cell_type": "code",
   "execution_count": 14,
   "metadata": {},
   "outputs": [
    {
     "name": "stdout",
     "output_type": "stream",
     "text": [
      "Fitting 3 folds for each of 20 candidates, totalling 60 fits\n"
     ]
    },
    {
     "name": "stderr",
     "output_type": "stream",
     "text": [
      "[Parallel(n_jobs=3)]: Done  44 tasks      | elapsed:  5.4min\n",
      "[Parallel(n_jobs=3)]: Done  60 out of  60 | elapsed:  7.3min finished\n"
     ]
    },
    {
     "name": "stdout",
     "output_type": "stream",
     "text": [
      "Best Score: 0.8278388278388278\n",
      "Best Parameters: {'gamma': 0.6158482110660255}\n",
      "Test: 0.8444444444444444\n",
      "CPU times: user 56.7 s, sys: 943 ms, total: 57.6 s\n",
      "Wall time: 7min 39s\n"
     ]
    }
   ],
   "source": [
    "%%time\n",
    "sv = SVC()\n",
    "param_grid = {\n",
    "    'gamma': np.logspace(-5, 2, 20)\n",
    "}\n",
    "\n",
    "gs_sv = GridSearchCV(sv, param_grid,scoring='accuracy', verbose=1, n_jobs=3)\n",
    "gs_sv.fit(X_train, y_train)\n",
    "print('Best Score:', gs_sv.best_score_)\n",
    "print('Best Parameters:', gs_sv.best_params_)\n",
    "print('Test:',gs_sv.score(X_test,y_test))"
   ]
  },
  {
   "cell_type": "markdown",
   "metadata": {},
   "source": [
    "## Logistic Regression with Grid Search"
   ]
  },
  {
   "cell_type": "code",
   "execution_count": 15,
   "metadata": {
    "collapsed": true
   },
   "outputs": [
    {
     "name": "stdout",
     "output_type": "stream",
     "text": [
      "Fitting 3 folds for each of 3 candidates, totalling 9 fits\n",
      "[CV] C=0.1, penalty=l2 ...............................................\n",
      "[CV] C=0.1, penalty=l2 ...............................................\n",
      "[CV] C=0.1, penalty=l2 ...............................................\n",
      "[CV] ................................ C=0.1, penalty=l2, total=   3.3s\n",
      "[CV] ................................ C=0.1, penalty=l2, total=   3.2s\n",
      "[CV] C=1, penalty=l2 .................................................\n",
      "[CV] C=1, penalty=l2 .................................................\n",
      "[CV] ................................ C=0.1, penalty=l2, total=   3.2s\n",
      "[CV] C=1, penalty=l2 .................................................\n",
      "[CV] .................................. C=1, penalty=l2, total=   3.1s\n",
      "[CV] .................................. C=1, penalty=l2, total=   3.1s\n",
      "[CV] C=10, penalty=l2 ................................................\n",
      "[CV] C=10, penalty=l2 ................................................\n",
      "[CV] .................................. C=1, penalty=l2, total=   3.1s\n",
      "[CV] C=10, penalty=l2 ................................................\n",
      "[CV] ................................. C=10, penalty=l2, total=   3.1s\n",
      "[CV] ................................. C=10, penalty=l2, total=   3.1s\n",
      "[CV] ................................. C=10, penalty=l2, total=   3.1s\n"
     ]
    },
    {
     "name": "stderr",
     "output_type": "stream",
     "text": [
      "[Parallel(n_jobs=3)]: Done   9 out of   9 | elapsed:   15.1s remaining:    0.0s\n",
      "[Parallel(n_jobs=3)]: Done   9 out of   9 | elapsed:   15.1s finished\n"
     ]
    },
    {
     "name": "stdout",
     "output_type": "stream",
     "text": [
      "CPU times: user 5.59 s, sys: 268 ms, total: 5.86 s\n",
      "Wall time: 15.9 s\n"
     ]
    }
   ],
   "source": [
    "%%time\n",
    "lr = LogisticRegression(random_state=42)\n",
    "lr_params = {\n",
    "    'C': [0.1, 1, 10],\n",
    "    'penalty': ['l2']\n",
    "}\n",
    "lr_gs = GridSearchCV(lr, param_grid=lr_params, verbose=2, n_jobs=3)\n",
    "lr_gs.fit(X_train, y_train)"
   ]
  },
  {
   "cell_type": "code",
   "execution_count": 16,
   "metadata": {},
   "outputs": [
    {
     "name": "stdout",
     "output_type": "stream",
     "text": [
      "Train: 1.0\n",
      "Test: 0.9094017094017094\n"
     ]
    }
   ],
   "source": [
    "print('Train:', lr_gs.score(X_train,y_train))\n",
    "print('Test:', lr_gs.score(X_test,y_test))"
   ]
  },
  {
   "cell_type": "code",
   "execution_count": 17,
   "metadata": {},
   "outputs": [
    {
     "data": {
      "text/plain": [
       "{'C': 10, 'penalty': 'l2'}"
      ]
     },
     "execution_count": 17,
     "metadata": {},
     "output_type": "execute_result"
    }
   ],
   "source": [
    "lr_gs.best_params_"
   ]
  },
  {
   "cell_type": "code",
   "execution_count": 18,
   "metadata": {},
   "outputs": [],
   "source": [
    "with open('../Models/LogisticRegression_gs.pkl', 'wb') as f:\n",
    "    pickle.dump(lr_gs, f)"
   ]
  },
  {
   "cell_type": "markdown",
   "metadata": {},
   "source": [
    "## Bagging Classifier with Decision Trees"
   ]
  },
  {
   "cell_type": "code",
   "execution_count": 4,
   "metadata": {
    "collapsed": true
   },
   "outputs": [
    {
     "name": "stdout",
     "output_type": "stream",
     "text": [
      "Fitting 3 folds for each of 12 candidates, totalling 36 fits\n",
      "[CV] base_estimator__max_depth=4, base_estimator__min_samples_split=2, n_estimators=10 \n",
      "[CV] base_estimator__max_depth=4, base_estimator__min_samples_split=2, n_estimators=10 \n",
      "[CV] base_estimator__max_depth=4, base_estimator__min_samples_split=2, n_estimators=10 \n",
      "[CV]  base_estimator__max_depth=4, base_estimator__min_samples_split=2, n_estimators=10, total=   4.1s\n",
      "[CV]  base_estimator__max_depth=4, base_estimator__min_samples_split=2, n_estimators=10, total=   4.2s\n",
      "[CV] base_estimator__max_depth=4, base_estimator__min_samples_split=2, n_estimators=15 \n",
      "[CV]  base_estimator__max_depth=4, base_estimator__min_samples_split=2, n_estimators=10, total=   4.3s\n",
      "[CV] base_estimator__max_depth=4, base_estimator__min_samples_split=2, n_estimators=15 \n",
      "[CV] base_estimator__max_depth=4, base_estimator__min_samples_split=2, n_estimators=15 \n",
      "[CV]  base_estimator__max_depth=4, base_estimator__min_samples_split=2, n_estimators=15, total=   4.6s\n",
      "[CV]  base_estimator__max_depth=4, base_estimator__min_samples_split=2, n_estimators=15, total=   4.7s\n",
      "[CV] base_estimator__max_depth=4, base_estimator__min_samples_split=3, n_estimators=10 \n",
      "[CV] base_estimator__max_depth=4, base_estimator__min_samples_split=3, n_estimators=10 \n",
      "[CV]  base_estimator__max_depth=4, base_estimator__min_samples_split=2, n_estimators=15, total=   4.9s\n",
      "[CV] base_estimator__max_depth=4, base_estimator__min_samples_split=3, n_estimators=10 \n",
      "[CV]  base_estimator__max_depth=4, base_estimator__min_samples_split=3, n_estimators=10, total=   4.6s\n",
      "[CV]  base_estimator__max_depth=4, base_estimator__min_samples_split=3, n_estimators=10, total=   4.6s\n",
      "[CV] base_estimator__max_depth=4, base_estimator__min_samples_split=3, n_estimators=15 \n",
      "[CV]  base_estimator__max_depth=4, base_estimator__min_samples_split=3, n_estimators=10, total=   4.7s\n",
      "[CV] base_estimator__max_depth=4, base_estimator__min_samples_split=3, n_estimators=15 \n",
      "[CV] base_estimator__max_depth=4, base_estimator__min_samples_split=3, n_estimators=15 \n",
      "[CV]  base_estimator__max_depth=4, base_estimator__min_samples_split=3, n_estimators=15, total=   4.8s\n",
      "[CV]  base_estimator__max_depth=4, base_estimator__min_samples_split=3, n_estimators=15, total=   4.9s\n",
      "[CV] base_estimator__max_depth=6, base_estimator__min_samples_split=2, n_estimators=10 \n",
      "[CV]  base_estimator__max_depth=4, base_estimator__min_samples_split=3, n_estimators=15, total=   5.1s\n",
      "[CV] base_estimator__max_depth=6, base_estimator__min_samples_split=2, n_estimators=10 \n",
      "[CV] base_estimator__max_depth=6, base_estimator__min_samples_split=2, n_estimators=10 \n",
      "[CV]  base_estimator__max_depth=6, base_estimator__min_samples_split=2, n_estimators=10, total=   4.2s\n",
      "[CV]  base_estimator__max_depth=6, base_estimator__min_samples_split=2, n_estimators=10, total=   4.3s\n",
      "[CV] base_estimator__max_depth=6, base_estimator__min_samples_split=2, n_estimators=15 \n",
      "[CV] base_estimator__max_depth=6, base_estimator__min_samples_split=2, n_estimators=15 \n",
      "[CV]  base_estimator__max_depth=6, base_estimator__min_samples_split=2, n_estimators=10, total=   4.4s\n",
      "[CV] base_estimator__max_depth=6, base_estimator__min_samples_split=2, n_estimators=15 \n",
      "[CV]  base_estimator__max_depth=6, base_estimator__min_samples_split=2, n_estimators=15, total=   5.1s\n",
      "[CV]  base_estimator__max_depth=6, base_estimator__min_samples_split=2, n_estimators=15, total=   5.2s\n",
      "[CV] base_estimator__max_depth=6, base_estimator__min_samples_split=3, n_estimators=10 \n",
      "[CV]  base_estimator__max_depth=6, base_estimator__min_samples_split=2, n_estimators=15, total=   5.4s\n",
      "[CV] base_estimator__max_depth=6, base_estimator__min_samples_split=3, n_estimators=10 \n",
      "[CV] base_estimator__max_depth=6, base_estimator__min_samples_split=3, n_estimators=10 \n",
      "[CV]  base_estimator__max_depth=6, base_estimator__min_samples_split=3, n_estimators=10, total=   4.4s\n",
      "[CV]  base_estimator__max_depth=6, base_estimator__min_samples_split=3, n_estimators=10, total=   4.4s\n",
      "[CV] base_estimator__max_depth=6, base_estimator__min_samples_split=3, n_estimators=15 \n",
      "[CV]  base_estimator__max_depth=6, base_estimator__min_samples_split=3, n_estimators=10, total=   4.5s\n",
      "[CV] base_estimator__max_depth=6, base_estimator__min_samples_split=3, n_estimators=15 \n",
      "[CV] base_estimator__max_depth=6, base_estimator__min_samples_split=3, n_estimators=15 \n",
      "[CV]  base_estimator__max_depth=6, base_estimator__min_samples_split=3, n_estimators=15, total=   5.2s\n",
      "[CV]  base_estimator__max_depth=6, base_estimator__min_samples_split=3, n_estimators=15, total=   5.1s\n",
      "[CV] base_estimator__max_depth=8, base_estimator__min_samples_split=2, n_estimators=10 \n",
      "[CV]  base_estimator__max_depth=6, base_estimator__min_samples_split=3, n_estimators=15, total=   5.1s\n",
      "[CV] base_estimator__max_depth=8, base_estimator__min_samples_split=2, n_estimators=10 \n",
      "[CV] base_estimator__max_depth=8, base_estimator__min_samples_split=2, n_estimators=10 \n",
      "[CV]  base_estimator__max_depth=8, base_estimator__min_samples_split=2, n_estimators=10, total=   4.4s\n",
      "[CV]  base_estimator__max_depth=8, base_estimator__min_samples_split=2, n_estimators=10, total=   4.3s\n",
      "[CV] base_estimator__max_depth=8, base_estimator__min_samples_split=2, n_estimators=15 \n",
      "[CV]  base_estimator__max_depth=8, base_estimator__min_samples_split=2, n_estimators=10, total=   4.4s\n",
      "[CV] base_estimator__max_depth=8, base_estimator__min_samples_split=2, n_estimators=15 \n",
      "[CV] base_estimator__max_depth=8, base_estimator__min_samples_split=2, n_estimators=15 \n",
      "[CV]  base_estimator__max_depth=8, base_estimator__min_samples_split=2, n_estimators=15, total=   5.2s\n",
      "[CV]  base_estimator__max_depth=8, base_estimator__min_samples_split=2, n_estimators=15, total=   5.2s\n",
      "[CV] base_estimator__max_depth=8, base_estimator__min_samples_split=3, n_estimators=10 \n",
      "[CV]  base_estimator__max_depth=8, base_estimator__min_samples_split=2, n_estimators=15, total=   5.4s\n",
      "[CV] base_estimator__max_depth=8, base_estimator__min_samples_split=3, n_estimators=10 \n",
      "[CV] base_estimator__max_depth=8, base_estimator__min_samples_split=3, n_estimators=10 \n",
      "[CV]  base_estimator__max_depth=8, base_estimator__min_samples_split=3, n_estimators=10, total=   4.4s\n",
      "[CV]  base_estimator__max_depth=8, base_estimator__min_samples_split=3, n_estimators=10, total=   4.6s\n",
      "[CV] base_estimator__max_depth=8, base_estimator__min_samples_split=3, n_estimators=15 \n",
      "[CV] base_estimator__max_depth=8, base_estimator__min_samples_split=3, n_estimators=15 \n",
      "[CV]  base_estimator__max_depth=8, base_estimator__min_samples_split=3, n_estimators=10, total=   5.0s\n",
      "[CV] base_estimator__max_depth=8, base_estimator__min_samples_split=3, n_estimators=15 \n",
      "[CV]  base_estimator__max_depth=8, base_estimator__min_samples_split=3, n_estimators=15, total=   5.1s\n",
      "[CV]  base_estimator__max_depth=8, base_estimator__min_samples_split=3, n_estimators=15, total=   5.2s\n",
      "[CV]  base_estimator__max_depth=8, base_estimator__min_samples_split=3, n_estimators=15, total=   5.2s\n"
     ]
    },
    {
     "name": "stderr",
     "output_type": "stream",
     "text": [
      "[Parallel(n_jobs=3)]: Done  36 out of  36 | elapsed:  1.3min finished\n"
     ]
    },
    {
     "name": "stdout",
     "output_type": "stream",
     "text": [
      "CPU times: user 23.7 s, sys: 704 ms, total: 24.4 s\n",
      "Wall time: 1min 21s\n"
     ]
    }
   ],
   "source": [
    "%%time\n",
    "bag = BaggingClassifier(random_state=42, base_estimator=DecisionTreeClassifier())\n",
    "bag_params = {\n",
    "    'n_estimators':[10, 15],\n",
    "    'base_estimator__max_depth': list(range(4,10,2)),\n",
    "    'base_estimator__min_samples_split': [2,3]\n",
    "}\n",
    "bag_gs = GridSearchCV(bag, param_grid=bag_params, verbose=2, n_jobs=3)\n",
    "bag_gs.fit(X_train, y_train)"
   ]
  },
  {
   "cell_type": "code",
   "execution_count": 5,
   "metadata": {},
   "outputs": [
    {
     "name": "stdout",
     "output_type": "stream",
     "text": [
      "Best Params: {'base_estimator__max_depth': 8, 'base_estimator__min_samples_split': 2, 'n_estimators': 10}\n",
      "Train: 0.9457875457875458\n",
      "Test: 0.8854700854700854\n"
     ]
    }
   ],
   "source": [
    "print('Best Params:', bag_gs.best_params_)\n",
    "print('Train:', bag_gs.score(X_train,y_train))\n",
    "print('Test:', bag_gs.score(X_test,y_test))"
   ]
  },
  {
   "cell_type": "code",
   "execution_count": 7,
   "metadata": {},
   "outputs": [],
   "source": [
    "with open('../Models/Bag_Trees_gs.pkl', 'wb') as f:\n",
    "    pickle.dump(bag_gs, f)"
   ]
  },
  {
   "cell_type": "markdown",
   "metadata": {},
   "source": [
    "## Gradient Boosting with Grid Search"
   ]
  },
  {
   "cell_type": "code",
   "execution_count": 95,
   "metadata": {
    "collapsed": true
   },
   "outputs": [
    {
     "name": "stdout",
     "output_type": "stream",
     "text": [
      "Fitting 3 folds for each of 9 candidates, totalling 27 fits\n",
      "[CV] learning_rate=0.05, max_depth=3 .................................\n",
      "[CV] learning_rate=0.05, max_depth=3 .................................\n",
      "[CV] learning_rate=0.05, max_depth=3 .................................\n",
      "[CV] .................. learning_rate=0.05, max_depth=3, total=  15.4s\n",
      "[CV] .................. learning_rate=0.05, max_depth=3, total=  15.5s\n",
      "[CV] learning_rate=0.05, max_depth=4 .................................\n",
      "[CV] .................. learning_rate=0.05, max_depth=3, total=  15.7s\n",
      "[CV] learning_rate=0.05, max_depth=4 .................................\n",
      "[CV] learning_rate=0.05, max_depth=4 .................................\n",
      "[CV] .................. learning_rate=0.05, max_depth=4, total=  19.8s\n",
      "[CV] learning_rate=0.05, max_depth=5 .................................\n",
      "[CV] .................. learning_rate=0.05, max_depth=4, total=  19.8s\n",
      "[CV] learning_rate=0.05, max_depth=5 .................................\n",
      "[CV] .................. learning_rate=0.05, max_depth=4, total=  20.0s\n",
      "[CV] learning_rate=0.05, max_depth=5 .................................\n",
      "[CV] .................. learning_rate=0.05, max_depth=5, total=  23.4s\n",
      "[CV] learning_rate=0.1, max_depth=3 ..................................\n",
      "[CV] .................. learning_rate=0.05, max_depth=5, total=  23.7s\n",
      "[CV] learning_rate=0.1, max_depth=3 ..................................\n",
      "[CV] .................. learning_rate=0.05, max_depth=5, total=  24.0s\n",
      "[CV] learning_rate=0.1, max_depth=3 ..................................\n",
      "[CV] ................... learning_rate=0.1, max_depth=3, total=  12.8s\n",
      "[CV] learning_rate=0.1, max_depth=4 ..................................\n",
      "[CV] ................... learning_rate=0.1, max_depth=3, total=  12.9s\n",
      "[CV] learning_rate=0.1, max_depth=4 ..................................\n",
      "[CV] ................... learning_rate=0.1, max_depth=3, total=  12.9s\n",
      "[CV] learning_rate=0.1, max_depth=4 ..................................\n",
      "[CV] ................... learning_rate=0.1, max_depth=4, total=  17.5s\n",
      "[CV] learning_rate=0.1, max_depth=5 ..................................\n",
      "[CV] ................... learning_rate=0.1, max_depth=4, total=  17.0s\n",
      "[CV] learning_rate=0.1, max_depth=5 ..................................\n",
      "[CV] ................... learning_rate=0.1, max_depth=4, total=  16.9s\n",
      "[CV] learning_rate=0.1, max_depth=5 ..................................\n",
      "[CV] ................... learning_rate=0.1, max_depth=5, total=  21.1s\n",
      "[CV] ................... learning_rate=0.1, max_depth=5, total=  20.6s\n",
      "[CV] learning_rate=0.3, max_depth=3 ..................................\n",
      "[CV] learning_rate=0.3, max_depth=3 ..................................\n",
      "[CV] ................... learning_rate=0.1, max_depth=5, total=  20.7s\n",
      "[CV] learning_rate=0.3, max_depth=3 ..................................\n",
      "[CV] ................... learning_rate=0.3, max_depth=3, total=  12.4s\n",
      "[CV] learning_rate=0.3, max_depth=4 ..................................\n",
      "[CV] ................... learning_rate=0.3, max_depth=3, total=  12.3s\n",
      "[CV] learning_rate=0.3, max_depth=4 ..................................\n",
      "[CV] ................... learning_rate=0.3, max_depth=3, total=  12.3s\n",
      "[CV] learning_rate=0.3, max_depth=4 ..................................\n",
      "[CV] ................... learning_rate=0.3, max_depth=4, total=  16.2s\n",
      "[CV] ................... learning_rate=0.3, max_depth=4, total=  15.8s\n",
      "[CV] learning_rate=0.3, max_depth=5 ..................................\n",
      "[CV] learning_rate=0.3, max_depth=5 ..................................\n",
      "[CV] ................... learning_rate=0.3, max_depth=4, total=  15.9s\n",
      "[CV] learning_rate=0.3, max_depth=5 ..................................\n",
      "[CV] ................... learning_rate=0.3, max_depth=5, total=  18.4s\n",
      "[CV] ................... learning_rate=0.3, max_depth=5, total=  18.5s\n",
      "[CV] ................... learning_rate=0.3, max_depth=5, total=  18.1s\n"
     ]
    },
    {
     "name": "stderr",
     "output_type": "stream",
     "text": [
      "[Parallel(n_jobs=3)]: Done  27 out of  27 | elapsed:  2.8min finished\n"
     ]
    },
    {
     "name": "stdout",
     "output_type": "stream",
     "text": [
      "CPU times: user 38.9 s, sys: 597 ms, total: 39.5 s\n",
      "Wall time: 3min 12s\n"
     ]
    }
   ],
   "source": [
    "%%time\n",
    "gb = GradientBoostingClassifier(random_state=42)\n",
    "gb_params = {\n",
    "    'learning_rate': [0.05, 0.1, 0.3],\n",
    "    'max_depth': [3,4,5]\n",
    "}\n",
    "gb_gs = GridSearchCV(gb, param_grid=gb_params, verbose=2, n_jobs=3 )\n",
    "gb_gs.fit(X_train, y_train)"
   ]
  },
  {
   "cell_type": "code",
   "execution_count": 99,
   "metadata": {},
   "outputs": [
    {
     "name": "stdout",
     "output_type": "stream",
     "text": [
      "Best Params: {'learning_rate': 0.1, 'max_depth': 4}\n",
      "Train: 1.0\n",
      "Test: 0.9145299145299145\n"
     ]
    }
   ],
   "source": [
    "print('Best Params:', gb_gs.best_params_)\n",
    "print('Train:', gb_gs.score(X_train,y_train))\n",
    "print('Test:', gb_gs.score(X_test,y_test))"
   ]
  },
  {
   "cell_type": "code",
   "execution_count": 100,
   "metadata": {},
   "outputs": [],
   "source": [
    "with open('../Models/GradientBoost_gs.pkl', 'wb') as f:\n",
    "    pickle.dump(gb_gs, f)"
   ]
  },
  {
   "cell_type": "markdown",
   "metadata": {},
   "source": [
    "## AdaBoost with Grid Search"
   ]
  },
  {
   "cell_type": "code",
   "execution_count": 11,
   "metadata": {
    "collapsed": true
   },
   "outputs": [
    {
     "name": "stdout",
     "output_type": "stream",
     "text": [
      "Fitting 3 folds for each of 4 candidates, totalling 12 fits\n",
      "[CV] learning_rate=0.5, n_estimators=50 ..............................\n",
      "[CV] learning_rate=0.5, n_estimators=50 ..............................\n",
      "[CV] learning_rate=0.5, n_estimators=50 ..............................\n",
      "[CV] ............... learning_rate=0.5, n_estimators=50, total=   4.6s\n",
      "[CV] learning_rate=0.5, n_estimators=100 .............................\n",
      "[CV] ............... learning_rate=0.5, n_estimators=50, total=   4.6s\n",
      "[CV] learning_rate=0.5, n_estimators=100 .............................\n",
      "[CV] ............... learning_rate=0.5, n_estimators=50, total=   4.7s\n",
      "[CV] learning_rate=0.5, n_estimators=100 .............................\n",
      "[CV] .............. learning_rate=0.5, n_estimators=100, total=   6.2s\n",
      "[CV] .............. learning_rate=0.5, n_estimators=100, total=   6.2s\n",
      "[CV] learning_rate=1.0, n_estimators=50 ..............................\n",
      "[CV] learning_rate=1.0, n_estimators=50 ..............................\n",
      "[CV] .............. learning_rate=0.5, n_estimators=100, total=   6.3s\n",
      "[CV] learning_rate=1.0, n_estimators=50 ..............................\n",
      "[CV] ............... learning_rate=1.0, n_estimators=50, total=   4.6s\n",
      "[CV] learning_rate=1.0, n_estimators=100 .............................\n",
      "[CV] ............... learning_rate=1.0, n_estimators=50, total=   4.6s\n",
      "[CV] learning_rate=1.0, n_estimators=100 .............................\n",
      "[CV] ............... learning_rate=1.0, n_estimators=50, total=   4.6s\n",
      "[CV] learning_rate=1.0, n_estimators=100 .............................\n",
      "[CV] .............. learning_rate=1.0, n_estimators=100, total=   6.2s\n",
      "[CV] .............. learning_rate=1.0, n_estimators=100, total=   6.3s\n",
      "[CV] .............. learning_rate=1.0, n_estimators=100, total=   6.3s\n"
     ]
    },
    {
     "name": "stderr",
     "output_type": "stream",
     "text": [
      "[Parallel(n_jobs=3)]: Done  12 out of  12 | elapsed:   29.4s finished\n"
     ]
    },
    {
     "name": "stdout",
     "output_type": "stream",
     "text": [
      "CPU times: user 9.29 s, sys: 272 ms, total: 9.56 s\n",
      "Wall time: 32.3 s\n"
     ]
    }
   ],
   "source": [
    "%%time\n",
    "ada = AdaBoostClassifier(random_state=42)\n",
    "ada_params = {\n",
    "    'n_estimators':[50,100],\n",
    "    'learning_rate': [0.5, 1.0]\n",
    "}\n",
    "ada_gs = GridSearchCV(ada, param_grid=ada_params, verbose=2, n_jobs=3)\n",
    "ada_gs.fit(X_train, y_train)\n"
   ]
  },
  {
   "cell_type": "code",
   "execution_count": 12,
   "metadata": {},
   "outputs": [
    {
     "name": "stdout",
     "output_type": "stream",
     "text": [
      "Best Score: 0.906959706959707\n",
      "Best Parameters: {'learning_rate': 0.5, 'n_estimators': 50}\n",
      "Train: 0.9472527472527472\n",
      "Test: 0.9128205128205128\n"
     ]
    }
   ],
   "source": [
    "print('Best Score:', ada_gs.best_score_)\n",
    "print('Best Parameters:', ada_gs.best_params_)\n",
    "print('Train:',ada_gs.score(X_train,y_train))\n",
    "print('Test:',ada_gs.score(X_test,y_test))"
   ]
  },
  {
   "cell_type": "code",
   "execution_count": 14,
   "metadata": {},
   "outputs": [],
   "source": [
    "with open('../Models/AdaBoost_gs.pkl','wb') as f:\n",
    "    pickle.dump(ada_gs, f)"
   ]
  },
  {
   "cell_type": "markdown",
   "metadata": {},
   "source": [
    "## Final Try Before Moving On:  Voting Classifier with the best Models"
   ]
  },
  {
   "cell_type": "code",
   "execution_count": 76,
   "metadata": {
    "collapsed": true
   },
   "outputs": [
    {
     "name": "stdout",
     "output_type": "stream",
     "text": [
      "Fitting 3 folds for each of 3 candidates, totalling 9 fits\n",
      "[CV] weights=[0.25, 0.25, 0.25, 0.25] ................................\n",
      "[CV] weights=[0.25, 0.25, 0.25, 0.25] ................................\n",
      "[CV] weights=[0.25, 0.25, 0.25, 0.25] ................................\n",
      "[CV] weights=[0.4, 0.4, 0.1, 0.1] ....................................\n"
     ]
    },
    {
     "name": "stderr",
     "output_type": "stream",
     "text": [
      "Process ForkPoolWorker-17:\n",
      "Process ForkPoolWorker-16:\n",
      "Traceback (most recent call last):\n",
      "Traceback (most recent call last):\n",
      "  File \"/Users/yibingchen/anaconda3/lib/python3.6/multiprocessing/process.py\", line 258, in _bootstrap\n",
      "    self.run()\n",
      "  File \"/Users/yibingchen/anaconda3/lib/python3.6/multiprocessing/process.py\", line 258, in _bootstrap\n",
      "    self.run()\n",
      "  File \"/Users/yibingchen/anaconda3/lib/python3.6/multiprocessing/process.py\", line 93, in run\n",
      "    self._target(*self._args, **self._kwargs)\n",
      "  File \"/Users/yibingchen/anaconda3/lib/python3.6/multiprocessing/process.py\", line 93, in run\n",
      "    self._target(*self._args, **self._kwargs)\n",
      "  File \"/Users/yibingchen/anaconda3/lib/python3.6/multiprocessing/pool.py\", line 108, in worker\n",
      "    task = get()\n",
      "  File \"/Users/yibingchen/anaconda3/lib/python3.6/multiprocessing/pool.py\", line 108, in worker\n",
      "    task = get()\n",
      "  File \"/Users/yibingchen/anaconda3/lib/python3.6/site-packages/sklearn/externals/joblib/pool.py\", line 360, in get\n",
      "    racquire()\n",
      "  File \"/Users/yibingchen/anaconda3/lib/python3.6/site-packages/sklearn/externals/joblib/pool.py\", line 362, in get\n",
      "    return recv()\n",
      "KeyboardInterrupt\n",
      "  File \"/Users/yibingchen/anaconda3/lib/python3.6/multiprocessing/connection.py\", line 250, in recv\n",
      "    buf = self._recv_bytes()\n",
      "  File \"/Users/yibingchen/anaconda3/lib/python3.6/multiprocessing/connection.py\", line 407, in _recv_bytes\n",
      "    buf = self._recv(4)\n",
      "  File \"/Users/yibingchen/anaconda3/lib/python3.6/multiprocessing/connection.py\", line 379, in _recv\n",
      "    chunk = read(handle, remaining)\n",
      "KeyboardInterrupt\n"
     ]
    },
    {
     "ename": "KeyboardInterrupt",
     "evalue": "",
     "output_type": "error",
     "traceback": [
      "\u001b[0;31m---------------------------------------------------------------------------\u001b[0m",
      "\u001b[0;31mKeyboardInterrupt\u001b[0m                         Traceback (most recent call last)",
      "\u001b[0;32m<timed exec>\u001b[0m in \u001b[0;36m<module>\u001b[0;34m()\u001b[0m\n",
      "\u001b[0;32m~/anaconda3/lib/python3.6/site-packages/sklearn/model_selection/_search.py\u001b[0m in \u001b[0;36mfit\u001b[0;34m(self, X, y, groups, **fit_params)\u001b[0m\n\u001b[1;32m    637\u001b[0m                                   error_score=self.error_score)\n\u001b[1;32m    638\u001b[0m           for parameters, (train, test) in product(candidate_params,\n\u001b[0;32m--> 639\u001b[0;31m                                                    cv.split(X, y, groups)))\n\u001b[0m\u001b[1;32m    640\u001b[0m \u001b[0;34m\u001b[0m\u001b[0m\n\u001b[1;32m    641\u001b[0m         \u001b[0;31m# if one choose to see train score, \"out\" will contain train score info\u001b[0m\u001b[0;34m\u001b[0m\u001b[0;34m\u001b[0m\u001b[0m\n",
      "\u001b[0;32m~/anaconda3/lib/python3.6/site-packages/sklearn/externals/joblib/parallel.py\u001b[0m in \u001b[0;36m__call__\u001b[0;34m(self, iterable)\u001b[0m\n\u001b[1;32m    787\u001b[0m                 \u001b[0;31m# consumption.\u001b[0m\u001b[0;34m\u001b[0m\u001b[0;34m\u001b[0m\u001b[0m\n\u001b[1;32m    788\u001b[0m                 \u001b[0mself\u001b[0m\u001b[0;34m.\u001b[0m\u001b[0m_iterating\u001b[0m \u001b[0;34m=\u001b[0m \u001b[0;32mFalse\u001b[0m\u001b[0;34m\u001b[0m\u001b[0m\n\u001b[0;32m--> 789\u001b[0;31m             \u001b[0mself\u001b[0m\u001b[0;34m.\u001b[0m\u001b[0mretrieve\u001b[0m\u001b[0;34m(\u001b[0m\u001b[0;34m)\u001b[0m\u001b[0;34m\u001b[0m\u001b[0m\n\u001b[0m\u001b[1;32m    790\u001b[0m             \u001b[0;31m# Make sure that we get a last message telling us we are done\u001b[0m\u001b[0;34m\u001b[0m\u001b[0;34m\u001b[0m\u001b[0m\n\u001b[1;32m    791\u001b[0m             \u001b[0melapsed_time\u001b[0m \u001b[0;34m=\u001b[0m \u001b[0mtime\u001b[0m\u001b[0;34m.\u001b[0m\u001b[0mtime\u001b[0m\u001b[0;34m(\u001b[0m\u001b[0;34m)\u001b[0m \u001b[0;34m-\u001b[0m \u001b[0mself\u001b[0m\u001b[0;34m.\u001b[0m\u001b[0m_start_time\u001b[0m\u001b[0;34m\u001b[0m\u001b[0m\n",
      "\u001b[0;32m~/anaconda3/lib/python3.6/site-packages/sklearn/externals/joblib/parallel.py\u001b[0m in \u001b[0;36mretrieve\u001b[0;34m(self)\u001b[0m\n\u001b[1;32m    697\u001b[0m             \u001b[0;32mtry\u001b[0m\u001b[0;34m:\u001b[0m\u001b[0;34m\u001b[0m\u001b[0m\n\u001b[1;32m    698\u001b[0m                 \u001b[0;32mif\u001b[0m \u001b[0mgetattr\u001b[0m\u001b[0;34m(\u001b[0m\u001b[0mself\u001b[0m\u001b[0;34m.\u001b[0m\u001b[0m_backend\u001b[0m\u001b[0;34m,\u001b[0m \u001b[0;34m'supports_timeout'\u001b[0m\u001b[0;34m,\u001b[0m \u001b[0;32mFalse\u001b[0m\u001b[0;34m)\u001b[0m\u001b[0;34m:\u001b[0m\u001b[0;34m\u001b[0m\u001b[0m\n\u001b[0;32m--> 699\u001b[0;31m                     \u001b[0mself\u001b[0m\u001b[0;34m.\u001b[0m\u001b[0m_output\u001b[0m\u001b[0;34m.\u001b[0m\u001b[0mextend\u001b[0m\u001b[0;34m(\u001b[0m\u001b[0mjob\u001b[0m\u001b[0;34m.\u001b[0m\u001b[0mget\u001b[0m\u001b[0;34m(\u001b[0m\u001b[0mtimeout\u001b[0m\u001b[0;34m=\u001b[0m\u001b[0mself\u001b[0m\u001b[0;34m.\u001b[0m\u001b[0mtimeout\u001b[0m\u001b[0;34m)\u001b[0m\u001b[0;34m)\u001b[0m\u001b[0;34m\u001b[0m\u001b[0m\n\u001b[0m\u001b[1;32m    700\u001b[0m                 \u001b[0;32melse\u001b[0m\u001b[0;34m:\u001b[0m\u001b[0;34m\u001b[0m\u001b[0m\n\u001b[1;32m    701\u001b[0m                     \u001b[0mself\u001b[0m\u001b[0;34m.\u001b[0m\u001b[0m_output\u001b[0m\u001b[0;34m.\u001b[0m\u001b[0mextend\u001b[0m\u001b[0;34m(\u001b[0m\u001b[0mjob\u001b[0m\u001b[0;34m.\u001b[0m\u001b[0mget\u001b[0m\u001b[0;34m(\u001b[0m\u001b[0;34m)\u001b[0m\u001b[0;34m)\u001b[0m\u001b[0;34m\u001b[0m\u001b[0m\n",
      "\u001b[0;32m~/anaconda3/lib/python3.6/multiprocessing/pool.py\u001b[0m in \u001b[0;36mget\u001b[0;34m(self, timeout)\u001b[0m\n\u001b[1;32m    636\u001b[0m \u001b[0;34m\u001b[0m\u001b[0m\n\u001b[1;32m    637\u001b[0m     \u001b[0;32mdef\u001b[0m \u001b[0mget\u001b[0m\u001b[0;34m(\u001b[0m\u001b[0mself\u001b[0m\u001b[0;34m,\u001b[0m \u001b[0mtimeout\u001b[0m\u001b[0;34m=\u001b[0m\u001b[0;32mNone\u001b[0m\u001b[0;34m)\u001b[0m\u001b[0;34m:\u001b[0m\u001b[0;34m\u001b[0m\u001b[0m\n\u001b[0;32m--> 638\u001b[0;31m         \u001b[0mself\u001b[0m\u001b[0;34m.\u001b[0m\u001b[0mwait\u001b[0m\u001b[0;34m(\u001b[0m\u001b[0mtimeout\u001b[0m\u001b[0;34m)\u001b[0m\u001b[0;34m\u001b[0m\u001b[0m\n\u001b[0m\u001b[1;32m    639\u001b[0m         \u001b[0;32mif\u001b[0m \u001b[0;32mnot\u001b[0m \u001b[0mself\u001b[0m\u001b[0;34m.\u001b[0m\u001b[0mready\u001b[0m\u001b[0;34m(\u001b[0m\u001b[0;34m)\u001b[0m\u001b[0;34m:\u001b[0m\u001b[0;34m\u001b[0m\u001b[0m\n\u001b[1;32m    640\u001b[0m             \u001b[0;32mraise\u001b[0m \u001b[0mTimeoutError\u001b[0m\u001b[0;34m\u001b[0m\u001b[0m\n",
      "\u001b[0;32m~/anaconda3/lib/python3.6/multiprocessing/pool.py\u001b[0m in \u001b[0;36mwait\u001b[0;34m(self, timeout)\u001b[0m\n\u001b[1;32m    633\u001b[0m \u001b[0;34m\u001b[0m\u001b[0m\n\u001b[1;32m    634\u001b[0m     \u001b[0;32mdef\u001b[0m \u001b[0mwait\u001b[0m\u001b[0;34m(\u001b[0m\u001b[0mself\u001b[0m\u001b[0;34m,\u001b[0m \u001b[0mtimeout\u001b[0m\u001b[0;34m=\u001b[0m\u001b[0;32mNone\u001b[0m\u001b[0;34m)\u001b[0m\u001b[0;34m:\u001b[0m\u001b[0;34m\u001b[0m\u001b[0m\n\u001b[0;32m--> 635\u001b[0;31m         \u001b[0mself\u001b[0m\u001b[0;34m.\u001b[0m\u001b[0m_event\u001b[0m\u001b[0;34m.\u001b[0m\u001b[0mwait\u001b[0m\u001b[0;34m(\u001b[0m\u001b[0mtimeout\u001b[0m\u001b[0;34m)\u001b[0m\u001b[0;34m\u001b[0m\u001b[0m\n\u001b[0m\u001b[1;32m    636\u001b[0m \u001b[0;34m\u001b[0m\u001b[0m\n\u001b[1;32m    637\u001b[0m     \u001b[0;32mdef\u001b[0m \u001b[0mget\u001b[0m\u001b[0;34m(\u001b[0m\u001b[0mself\u001b[0m\u001b[0;34m,\u001b[0m \u001b[0mtimeout\u001b[0m\u001b[0;34m=\u001b[0m\u001b[0;32mNone\u001b[0m\u001b[0;34m)\u001b[0m\u001b[0;34m:\u001b[0m\u001b[0;34m\u001b[0m\u001b[0m\n",
      "\u001b[0;32m~/anaconda3/lib/python3.6/threading.py\u001b[0m in \u001b[0;36mwait\u001b[0;34m(self, timeout)\u001b[0m\n\u001b[1;32m    549\u001b[0m             \u001b[0msignaled\u001b[0m \u001b[0;34m=\u001b[0m \u001b[0mself\u001b[0m\u001b[0;34m.\u001b[0m\u001b[0m_flag\u001b[0m\u001b[0;34m\u001b[0m\u001b[0m\n\u001b[1;32m    550\u001b[0m             \u001b[0;32mif\u001b[0m \u001b[0;32mnot\u001b[0m \u001b[0msignaled\u001b[0m\u001b[0;34m:\u001b[0m\u001b[0;34m\u001b[0m\u001b[0m\n\u001b[0;32m--> 551\u001b[0;31m                 \u001b[0msignaled\u001b[0m \u001b[0;34m=\u001b[0m \u001b[0mself\u001b[0m\u001b[0;34m.\u001b[0m\u001b[0m_cond\u001b[0m\u001b[0;34m.\u001b[0m\u001b[0mwait\u001b[0m\u001b[0;34m(\u001b[0m\u001b[0mtimeout\u001b[0m\u001b[0;34m)\u001b[0m\u001b[0;34m\u001b[0m\u001b[0m\n\u001b[0m\u001b[1;32m    552\u001b[0m             \u001b[0;32mreturn\u001b[0m \u001b[0msignaled\u001b[0m\u001b[0;34m\u001b[0m\u001b[0m\n\u001b[1;32m    553\u001b[0m \u001b[0;34m\u001b[0m\u001b[0m\n",
      "\u001b[0;32m~/anaconda3/lib/python3.6/threading.py\u001b[0m in \u001b[0;36mwait\u001b[0;34m(self, timeout)\u001b[0m\n\u001b[1;32m    293\u001b[0m         \u001b[0;32mtry\u001b[0m\u001b[0;34m:\u001b[0m    \u001b[0;31m# restore state no matter what (e.g., KeyboardInterrupt)\u001b[0m\u001b[0;34m\u001b[0m\u001b[0m\n\u001b[1;32m    294\u001b[0m             \u001b[0;32mif\u001b[0m \u001b[0mtimeout\u001b[0m \u001b[0;32mis\u001b[0m \u001b[0;32mNone\u001b[0m\u001b[0;34m:\u001b[0m\u001b[0;34m\u001b[0m\u001b[0m\n\u001b[0;32m--> 295\u001b[0;31m                 \u001b[0mwaiter\u001b[0m\u001b[0;34m.\u001b[0m\u001b[0macquire\u001b[0m\u001b[0;34m(\u001b[0m\u001b[0;34m)\u001b[0m\u001b[0;34m\u001b[0m\u001b[0m\n\u001b[0m\u001b[1;32m    296\u001b[0m                 \u001b[0mgotit\u001b[0m \u001b[0;34m=\u001b[0m \u001b[0;32mTrue\u001b[0m\u001b[0;34m\u001b[0m\u001b[0m\n\u001b[1;32m    297\u001b[0m             \u001b[0;32melse\u001b[0m\u001b[0;34m:\u001b[0m\u001b[0;34m\u001b[0m\u001b[0m\n",
      "\u001b[0;31mKeyboardInterrupt\u001b[0m: "
     ]
    }
   ],
   "source": [
    "%%time\n",
    "vote = VotingClassifier([\n",
    "    ('ada', AdaBoostClassifier(learning_rate=0.5)),\n",
    "    ('rf', RandomForestClassifier(n_estimators=100)),\n",
    "    ('lr', LogisticRegression(C=10)),\n",
    "    ('gb', GradientBoostingClassifier(max_depth=5))\n",
    "])\n",
    "vote_params = {\n",
    "    'weights': [[0.25,0.25,0.25, 0.25],\n",
    "                [0.4, 0.4, 0.1, 0.1],\n",
    "                [0.1, 0.1, 0.4, 0.4]]\n",
    "}\n",
    "vote_gs = GridSearchCV(vote, param_grid=vote_params, verbose=2, n_jobs=2)\n",
    "vote_gs.fit(X_train, y_train)"
   ]
  },
  {
   "cell_type": "code",
   "execution_count": 75,
   "metadata": {},
   "outputs": [
    {
     "name": "stdout",
     "output_type": "stream",
     "text": [
      "Best Score: 0.906959706959707\n",
      "Best Parameters: {'learning_rate': 0.5, 'n_estimators': 50}\n",
      "Test: 0.9472527472527472\n",
      "Test: 0.9128205128205128\n"
     ]
    }
   ],
   "source": [
    "print('Best Score:', vote_gs.best_score_)\n",
    "print('Best Parameters:', vote_gs.best_params_)\n",
    "print('Test:',vote_gs.score(X_train,y_train))\n",
    "print('Test:',vote_gs.score(X_test,y_test))"
   ]
  },
  {
   "cell_type": "code",
   "execution_count": null,
   "metadata": {},
   "outputs": [],
   "source": []
  }
 ],
 "metadata": {
  "kernelspec": {
   "display_name": "Python 3",
   "language": "python",
   "name": "python3"
  },
  "language_info": {
   "codemirror_mode": {
    "name": "ipython",
    "version": 3
   },
   "file_extension": ".py",
   "mimetype": "text/x-python",
   "name": "python",
   "nbconvert_exporter": "python",
   "pygments_lexer": "ipython3",
   "version": "3.6.4"
  }
 },
 "nbformat": 4,
 "nbformat_minor": 2
}
