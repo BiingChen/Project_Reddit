{
 "cells": [
  {
   "cell_type": "code",
   "execution_count": 1,
   "metadata": {},
   "outputs": [],
   "source": [
    "import requests\n",
    "import time\n",
    "import pandas as pd"
   ]
  },
  {
   "cell_type": "code",
   "execution_count": 2,
   "metadata": {},
   "outputs": [],
   "source": [
    "url = 'https://www.reddit.com/hot.json'"
   ]
  },
  {
   "cell_type": "code",
   "execution_count": 7,
   "metadata": {},
   "outputs": [],
   "source": [
    "headers = {'User-agent':'something something somethingggggg'}"
   ]
  },
  {
   "cell_type": "code",
   "execution_count": 8,
   "metadata": {},
   "outputs": [],
   "source": [
    "res = requests.get(url, 'lxml', headers=headers)"
   ]
  },
  {
   "cell_type": "code",
   "execution_count": 9,
   "metadata": {},
   "outputs": [
    {
     "data": {
      "text/plain": [
       "200"
      ]
     },
     "execution_count": 9,
     "metadata": {},
     "output_type": "execute_result"
    }
   ],
   "source": [
    "res.status_code # Code 429 - "
   ]
  },
  {
   "cell_type": "code",
   "execution_count": 11,
   "metadata": {},
   "outputs": [],
   "source": [
    "the_json = res.json()"
   ]
  },
  {
   "cell_type": "code",
   "execution_count": 13,
   "metadata": {},
   "outputs": [
    {
     "data": {
      "text/plain": [
       "['data', 'kind']"
      ]
     },
     "execution_count": 13,
     "metadata": {},
     "output_type": "execute_result"
    }
   ],
   "source": [
    "sorted(the_json.keys())"
   ]
  },
  {
   "cell_type": "code",
   "execution_count": 17,
   "metadata": {},
   "outputs": [
    {
     "data": {
      "text/plain": [
       "['after', 'before', 'children', 'dist', 'modhash']"
      ]
     },
     "execution_count": 17,
     "metadata": {},
     "output_type": "execute_result"
    }
   ],
   "source": [
    "sorted(the_json.get('data').keys())"
   ]
  },
  {
   "cell_type": "code",
   "execution_count": 19,
   "metadata": {},
   "outputs": [
    {
     "data": {
      "text/plain": [
       "25"
      ]
     },
     "execution_count": 19,
     "metadata": {},
     "output_type": "execute_result"
    }
   ],
   "source": [
    "len(the_json['data']['children'])"
   ]
  },
  {
   "cell_type": "code",
   "execution_count": 24,
   "metadata": {},
   "outputs": [
    {
     "data": {
      "text/plain": [
       "['t3_8m3lqu',\n",
       " 't3_8m2r1l',\n",
       " 't3_8m2sfu',\n",
       " 't3_8m2fgj',\n",
       " 't3_8m2sd5',\n",
       " 't3_8m27fi',\n",
       " 't3_8m1wov',\n",
       " 't3_8m27ih',\n",
       " 't3_8m1wl1',\n",
       " 't3_8m1zda',\n",
       " 't3_8m377u',\n",
       " 't3_8m2d5j',\n",
       " 't3_8m2dk9',\n",
       " 't3_8m1qu1',\n",
       " 't3_8m275f',\n",
       " 't3_8m1mba',\n",
       " 't3_8m2st6',\n",
       " 't3_8m1jee',\n",
       " 't3_8m2lqn',\n",
       " 't3_8m2z71',\n",
       " 't3_8m1rlo',\n",
       " 't3_8m19ri',\n",
       " 't3_8m1uhn',\n",
       " 't3_8m1cnu',\n",
       " 't3_8m1gat']"
      ]
     },
     "execution_count": 24,
     "metadata": {},
     "output_type": "execute_result"
    }
   ],
   "source": [
    "[post['data']['name'] for post in the_json['data']['children'] ]"
   ]
  },
  {
   "cell_type": "code",
   "execution_count": 23,
   "metadata": {},
   "outputs": [
    {
     "data": {
      "text/plain": [
       "{'approved_at_utc': None,\n",
       " 'approved_by': None,\n",
       " 'archived': False,\n",
       " 'author': 'EvilGlitter',\n",
       " 'author_flair_css_class': None,\n",
       " 'author_flair_template_id': None,\n",
       " 'author_flair_text': None,\n",
       " 'banned_at_utc': None,\n",
       " 'banned_by': None,\n",
       " 'can_gild': False,\n",
       " 'can_mod_post': False,\n",
       " 'clicked': False,\n",
       " 'contest_mode': False,\n",
       " 'created': 1527298548.0,\n",
       " 'created_utc': 1527269748.0,\n",
       " 'distinguished': None,\n",
       " 'domain': 'upi.com',\n",
       " 'downs': 0,\n",
       " 'edited': False,\n",
       " 'gilded': 0,\n",
       " 'hidden': False,\n",
       " 'hide_score': False,\n",
       " 'id': '8m3lqu',\n",
       " 'is_crosspostable': False,\n",
       " 'is_reddit_media_domain': False,\n",
       " 'is_self': False,\n",
       " 'is_video': False,\n",
       " 'likes': None,\n",
       " 'link_flair_css_class': None,\n",
       " 'link_flair_text': None,\n",
       " 'locked': False,\n",
       " 'media': None,\n",
       " 'media_embed': {},\n",
       " 'media_only': False,\n",
       " 'mod_note': None,\n",
       " 'mod_reason_by': None,\n",
       " 'mod_reason_title': None,\n",
       " 'mod_reports': [],\n",
       " 'name': 't3_8m3lqu',\n",
       " 'no_follow': False,\n",
       " 'num_comments': 629,\n",
       " 'num_crossposts': 2,\n",
       " 'num_reports': None,\n",
       " 'over_18': False,\n",
       " 'parent_whitelist_status': 'all_ads',\n",
       " 'permalink': '/r/todayilearned/comments/8m3lqu/til_that_prince_william_and_prince_harry_pulled_a/',\n",
       " 'pinned': False,\n",
       " 'post_categories': None,\n",
       " 'pwls': 6,\n",
       " 'quarantine': False,\n",
       " 'removal_reason': None,\n",
       " 'report_reasons': None,\n",
       " 'saved': False,\n",
       " 'score': 21075,\n",
       " 'secure_media': None,\n",
       " 'secure_media_embed': {},\n",
       " 'selftext': '',\n",
       " 'selftext_html': None,\n",
       " 'send_replies': True,\n",
       " 'spoiler': False,\n",
       " 'stickied': False,\n",
       " 'subreddit': 'todayilearned',\n",
       " 'subreddit_id': 't5_2qqjc',\n",
       " 'subreddit_name_prefixed': 'r/todayilearned',\n",
       " 'subreddit_subscribers': 18811246,\n",
       " 'subreddit_type': 'public',\n",
       " 'suggested_sort': None,\n",
       " 'thumbnail': 'default',\n",
       " 'thumbnail_height': None,\n",
       " 'thumbnail_width': None,\n",
       " 'title': 'TIL that Prince William and Prince Harry pulled a prank on their grandmother the Queen, by changing her voicemail answering message to say, \"Hey wassup! This is Liz. Sorry I\\'m away from the throne. For a hotline to Philip, press one. For Charles, press two. And for the corgis, press three.\"',\n",
       " 'ups': 21075,\n",
       " 'url': 'https://www.upi.com/The-Princes-voicemail-prank-on-the-Queen/89071173131507/',\n",
       " 'user_reports': [],\n",
       " 'view_count': None,\n",
       " 'visited': False,\n",
       " 'whitelist_status': 'all_ads',\n",
       " 'wls': 6}"
      ]
     },
     "execution_count": 23,
     "metadata": {},
     "output_type": "execute_result"
    }
   ],
   "source": [
    "the_json['data']['children'][0]['data']"
   ]
  },
  {
   "cell_type": "code",
   "execution_count": 25,
   "metadata": {},
   "outputs": [],
   "source": [
    "param = {'after':'t3_8m1gat'}"
   ]
  },
  {
   "cell_type": "code",
   "execution_count": 26,
   "metadata": {},
   "outputs": [
    {
     "data": {
      "text/plain": [
       "<Response [200]>"
      ]
     },
     "execution_count": 26,
     "metadata": {},
     "output_type": "execute_result"
    }
   ],
   "source": [
    "requests.get(url, params=param, headers=headers)"
   ]
  },
  {
   "cell_type": "code",
   "execution_count": 29,
   "metadata": {},
   "outputs": [
    {
     "name": "stdout",
     "output_type": "stream",
     "text": [
      "0\n",
      "1\n",
      "2\n",
      "3\n"
     ]
    }
   ],
   "source": [
    "post = []\n",
    "after = None\n",
    "for i in range(4):\n",
    "    print(i)\n",
    "    if after == None:\n",
    "        params = {}\n",
    "    else:\n",
    "        params = {'after': after}\n",
    "    url = 'https://www.reddit.com/hot.json'\n",
    "    res = requests.get(url,params=params, headers=headers)\n",
    "    if res.status_code == 200:\n",
    "        the_json = res.json()\n",
    "        post.extend(the_json['data']['children'])\n",
    "        after = the_json['data']['after']\n",
    "    else:\n",
    "        print(res.status_code)\n",
    "        break\n",
    "    time.sleep(1)\n",
    "    "
   ]
  },
  {
   "cell_type": "code",
   "execution_count": 30,
   "metadata": {},
   "outputs": [],
   "source": [
    "# shoot for something in few thousands..."
   ]
  },
  {
   "cell_type": "markdown",
   "metadata": {},
   "source": [
    "Take entire dataset and get median # of comments then with new posts see if it will be higher or lower than median..."
   ]
  },
  {
   "cell_type": "markdown",
   "metadata": {},
   "source": [
    "Took posts from republican and democratic subreddit - guess which sub reddit it came from"
   ]
  },
  {
   "cell_type": "code",
   "execution_count": null,
   "metadata": {},
   "outputs": [],
   "source": []
  }
 ],
 "metadata": {
  "kernelspec": {
   "display_name": "Python 3",
   "language": "python",
   "name": "python3"
  },
  "language_info": {
   "codemirror_mode": {
    "name": "ipython",
    "version": 3
   },
   "file_extension": ".py",
   "mimetype": "text/x-python",
   "name": "python",
   "nbconvert_exporter": "python",
   "pygments_lexer": "ipython3",
   "version": "3.6.4"
  }
 },
 "nbformat": 4,
 "nbformat_minor": 2
}
