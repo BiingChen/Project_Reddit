{
 "cells": [
  {
   "cell_type": "code",
   "execution_count": 1,
   "metadata": {},
   "outputs": [],
   "source": [
    "import requests\n",
    "import json"
   ]
  },
  {
   "cell_type": "code",
   "execution_count": 2,
   "metadata": {},
   "outputs": [],
   "source": [
    "URL = \"http://www.reddit.com/hot.json\""
   ]
  },
  {
   "cell_type": "code",
   "execution_count": 3,
   "metadata": {},
   "outputs": [],
   "source": [
    "res = requests.get(URL, headers={'User-agent': 'bingchendsi'})"
   ]
  },
  {
   "cell_type": "code",
   "execution_count": 4,
   "metadata": {},
   "outputs": [],
   "source": [
    "data = res.json()"
   ]
  },
  {
   "cell_type": "code",
   "execution_count": 5,
   "metadata": {},
   "outputs": [
    {
     "data": {
      "text/plain": [
       "dict_keys(['kind', 'data'])"
      ]
     },
     "execution_count": 5,
     "metadata": {},
     "output_type": "execute_result"
    }
   ],
   "source": [
    "data.keys()"
   ]
  },
  {
   "cell_type": "code",
   "execution_count": 10,
   "metadata": {},
   "outputs": [],
   "source": [
    "onepost = data['data']['children'][1]['data']"
   ]
  },
  {
   "cell_type": "code",
   "execution_count": 13,
   "metadata": {},
   "outputs": [],
   "source": [
    "title = onepost['title']\n",
    "subreddit = onepost['subreddit']\n",
    "num_comments = onepost['num_comments']\n",
    "score = onepost['score']\n",
    "created_utc = onepost['created_utc']"
   ]
  },
  {
   "cell_type": "code",
   "execution_count": 14,
   "metadata": {},
   "outputs": [
    {
     "data": {
      "text/plain": [
       "'Spider Girl'"
      ]
     },
     "execution_count": 14,
     "metadata": {},
     "output_type": "execute_result"
    }
   ],
   "source": [
    "title"
   ]
  },
  {
   "cell_type": "code",
   "execution_count": 37,
   "metadata": {},
   "outputs": [
    {
     "data": {
      "text/plain": [
       "17675.00091435185"
      ]
     },
     "execution_count": 37,
     "metadata": {},
     "output_type": "execute_result"
    }
   ],
   "source": [
    "# Seconds\n",
    "# 60 seconds per minute\n",
    "# 60 minutes per hour\n",
    "# 24 hours per day\n",
    "\n",
    "seconds_per_day = 60*60*24\n",
    "\n",
    "created_utc/seconds_per_day"
   ]
  },
  {
   "cell_type": "code",
   "execution_count": 38,
   "metadata": {},
   "outputs": [
    {
     "data": {
      "text/plain": [
       "48.42465753424658"
      ]
     },
     "execution_count": 38,
     "metadata": {},
     "output_type": "execute_result"
    }
   ],
   "source": [
    "17675/365"
   ]
  },
  {
   "cell_type": "code",
   "execution_count": 39,
   "metadata": {},
   "outputs": [
    {
     "data": {
      "text/plain": [
       "2018"
      ]
     },
     "execution_count": 39,
     "metadata": {},
     "output_type": "execute_result"
    }
   ],
   "source": [
    "1970+48"
   ]
  },
  {
   "cell_type": "code",
   "execution_count": 11,
   "metadata": {},
   "outputs": [
    {
     "data": {
      "text/plain": [
       "''"
      ]
     },
     "execution_count": 11,
     "metadata": {},
     "output_type": "execute_result"
    }
   ],
   "source": [
    "onepost['selftext']"
   ]
  },
  {
   "cell_type": "code",
   "execution_count": 24,
   "metadata": {},
   "outputs": [
    {
     "data": {
      "text/plain": [
       "dict_keys(['is_crosspostable', 'subreddit_id', 'approved_at_utc', 'wls', 'mod_reason_by', 'banned_by', 'num_reports', 'removal_reason', 'thumbnail_width', 'subreddit', 'selftext_html', 'author_flair_template_id', 'selftext', 'likes', 'suggested_sort', 'user_reports', 'secure_media', 'is_reddit_media_domain', 'saved', 'id', 'banned_at_utc', 'mod_reason_title', 'gilded', 'archived', 'clicked', 'no_follow', 'author', 'num_crossposts', 'link_flair_text', 'can_mod_post', 'send_replies', 'pinned', 'score', 'approved_by', 'over_18', 'report_reasons', 'domain', 'hidden', 'preview', 'pwls', 'thumbnail', 'edited', 'link_flair_css_class', 'media_only', 'author_flair_css_class', 'contest_mode', 'view_count', 'locked', 'downs', 'mod_reports', 'subreddit_subscribers', 'secure_media_embed', 'media_embed', 'post_hint', 'stickied', 'visited', 'can_gild', 'thumbnail_height', 'name', 'spoiler', 'permalink', 'subreddit_type', 'parent_whitelist_status', 'hide_score', 'created', 'url', 'author_flair_text', 'quarantine', 'title', 'created_utc', 'previous_visits', 'subreddit_name_prefixed', 'ups', 'num_comments', 'media', 'is_self', 'whitelist_status', 'mod_note', 'is_video', 'distinguished', 'post_categories'])"
      ]
     },
     "execution_count": 24,
     "metadata": {},
     "output_type": "execute_result"
    }
   ],
   "source": [
    "onepost.keys()`"
   ]
  },
  {
   "cell_type": "code",
   "execution_count": 30,
   "metadata": {},
   "outputs": [
    {
     "data": {
      "text/plain": [
       "{'approved_at_utc': None,\n",
       " 'approved_by': None,\n",
       " 'archived': False,\n",
       " 'author': 'WilliamHarry',\n",
       " 'author_flair_css_class': None,\n",
       " 'author_flair_template_id': None,\n",
       " 'author_flair_text': None,\n",
       " 'banned_at_utc': None,\n",
       " 'banned_by': None,\n",
       " 'can_gild': False,\n",
       " 'can_mod_post': False,\n",
       " 'clicked': False,\n",
       " 'contest_mode': False,\n",
       " 'created': 1527148879.0,\n",
       " 'created_utc': 1527120079.0,\n",
       " 'distinguished': None,\n",
       " 'domain': 'i.redd.it',\n",
       " 'downs': 0,\n",
       " 'edited': False,\n",
       " 'gilded': 0,\n",
       " 'hidden': False,\n",
       " 'hide_score': False,\n",
       " 'id': '8lo6tc',\n",
       " 'is_crosspostable': False,\n",
       " 'is_reddit_media_domain': True,\n",
       " 'is_self': False,\n",
       " 'is_video': False,\n",
       " 'likes': None,\n",
       " 'link_flair_css_class': '1m',\n",
       " 'link_flair_text': 'backstory',\n",
       " 'locked': False,\n",
       " 'media': None,\n",
       " 'media_embed': {},\n",
       " 'media_only': False,\n",
       " 'mod_note': None,\n",
       " 'mod_reason_by': None,\n",
       " 'mod_reason_title': None,\n",
       " 'mod_reports': [],\n",
       " 'name': 't3_8lo6tc',\n",
       " 'no_follow': False,\n",
       " 'num_comments': 455,\n",
       " 'num_crossposts': 3,\n",
       " 'num_reports': None,\n",
       " 'over_18': False,\n",
       " 'parent_whitelist_status': 'all_ads',\n",
       " 'permalink': '/r/pics/comments/8lo6tc/i_was_walking_my_dog_around_the_block_tonight_and/',\n",
       " 'pinned': False,\n",
       " 'post_categories': None,\n",
       " 'post_hint': 'image',\n",
       " 'preview': {'enabled': True,\n",
       "  'images': [{'id': 'NHrFvjpgW3j9I4BI3E0AlskGhPiNUncQw73ETLvq62A',\n",
       "    'resolutions': [{'height': 144,\n",
       "      'url': 'https://i.redditmedia.com/5RatpDyeXmvGwp2FURgX11dODr0LgrVu2vYBGRT3Lq8.jpg?fit=crop&amp;crop=faces%2Centropy&amp;arh=2&amp;w=108&amp;s=7267882ca94cbe955e4e980c5dabc347',\n",
       "      'width': 108},\n",
       "     {'height': 288,\n",
       "      'url': 'https://i.redditmedia.com/5RatpDyeXmvGwp2FURgX11dODr0LgrVu2vYBGRT3Lq8.jpg?fit=crop&amp;crop=faces%2Centropy&amp;arh=2&amp;w=216&amp;s=99cc44b9f05c93bc99dc009f14576015',\n",
       "      'width': 216},\n",
       "     {'height': 426,\n",
       "      'url': 'https://i.redditmedia.com/5RatpDyeXmvGwp2FURgX11dODr0LgrVu2vYBGRT3Lq8.jpg?fit=crop&amp;crop=faces%2Centropy&amp;arh=2&amp;w=320&amp;s=26590835f935c16874968013fcd1ddc0',\n",
       "      'width': 320},\n",
       "     {'height': 853,\n",
       "      'url': 'https://i.redditmedia.com/5RatpDyeXmvGwp2FURgX11dODr0LgrVu2vYBGRT3Lq8.jpg?fit=crop&amp;crop=faces%2Centropy&amp;arh=2&amp;w=640&amp;s=8fb476b87f65d550e67df9c945968fac',\n",
       "      'width': 640}],\n",
       "    'source': {'height': 960,\n",
       "     'url': 'https://i.redditmedia.com/5RatpDyeXmvGwp2FURgX11dODr0LgrVu2vYBGRT3Lq8.jpg?s=7e4aac180bd56139e92a99265d4f90cb',\n",
       "     'width': 720},\n",
       "    'variants': {}}]},\n",
       " 'previous_visits': [],\n",
       " 'pwls': 6,\n",
       " 'quarantine': False,\n",
       " 'removal_reason': None,\n",
       " 'report_reasons': None,\n",
       " 'saved': False,\n",
       " 'score': 17012,\n",
       " 'secure_media': None,\n",
       " 'secure_media_embed': {},\n",
       " 'selftext': '',\n",
       " 'selftext_html': None,\n",
       " 'send_replies': True,\n",
       " 'spoiler': False,\n",
       " 'stickied': False,\n",
       " 'subreddit': 'pics',\n",
       " 'subreddit_id': 't5_2qh0u',\n",
       " 'subreddit_name_prefixed': 'r/pics',\n",
       " 'subreddit_subscribers': 18654147,\n",
       " 'subreddit_type': 'public',\n",
       " 'suggested_sort': None,\n",
       " 'thumbnail': 'https://a.thumbs.redditmedia.com/sRpTvLDWpbAQiBDCjkN7ZkhxWCI8qS2zFQkFsG7ztz0.jpg',\n",
       " 'thumbnail_height': 140,\n",
       " 'thumbnail_width': 140,\n",
       " 'title': 'I was walking my dog around the block tonight and this guy stops me. He asks if I live in the house that recently had the tree cut down. I say yes and he tells me to hang tight. He comes out of his house with this. Says he made it from one of the logs of that tree! What a great gift and a great guy.',\n",
       " 'ups': 17012,\n",
       " 'url': 'https://i.redd.it/0mx8aqry1pz01.jpg',\n",
       " 'user_reports': [],\n",
       " 'view_count': None,\n",
       " 'visited': False,\n",
       " 'whitelist_status': 'all_ads',\n",
       " 'wls': 6}"
      ]
     },
     "execution_count": 30,
     "metadata": {},
     "output_type": "execute_result"
    }
   ],
   "source": [
    "onepost"
   ]
  },
  {
   "cell_type": "code",
   "execution_count": null,
   "metadata": {},
   "outputs": [],
   "source": []
  }
 ],
 "metadata": {
  "kernelspec": {
   "display_name": "Python 3",
   "language": "python",
   "name": "python3"
  },
  "language_info": {
   "codemirror_mode": {
    "name": "ipython",
    "version": 3
   },
   "file_extension": ".py",
   "mimetype": "text/x-python",
   "name": "python",
   "nbconvert_exporter": "python",
   "pygments_lexer": "ipython3",
   "version": "3.6.4"
  }
 },
 "nbformat": 4,
 "nbformat_minor": 2
}
