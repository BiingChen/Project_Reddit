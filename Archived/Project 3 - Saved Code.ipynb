{
 "cells": [
  {
   "cell_type": "code",
   "execution_count": 2,
   "metadata": {},
   "outputs": [],
   "source": [
    "import requests\n",
    "import time\n",
    "import json"
   ]
  },
  {
   "cell_type": "code",
   "execution_count": 5,
   "metadata": {},
   "outputs": [
    {
     "data": {
      "text/plain": [
       "200"
      ]
     },
     "execution_count": 5,
     "metadata": {},
     "output_type": "execute_result"
    }
   ],
   "source": [
    "headers = {'User-agent':'bing .1'}\n",
    "res = requests.get('https://reddit.com/r/jokes.json',headers=headers)\n",
    "res.status_code"
   ]
  },
  {
   "cell_type": "code",
   "execution_count": 17,
   "metadata": {},
   "outputs": [],
   "source": [
    "the_json = res.json()"
   ]
  },
  {
   "cell_type": "code",
   "execution_count": 10,
   "metadata": {},
   "outputs": [
    {
     "data": {
      "text/plain": [
       "dict_keys(['modhash', 'dist', 'children', 'after', 'before'])"
      ]
     },
     "execution_count": 10,
     "metadata": {},
     "output_type": "execute_result"
    }
   ],
   "source": [
    "page_data['data'].keys()"
   ]
  },
  {
   "cell_type": "code",
   "execution_count": 16,
   "metadata": {},
   "outputs": [
    {
     "data": {
      "text/plain": [
       "True"
      ]
     },
     "execution_count": 16,
     "metadata": {},
     "output_type": "execute_result"
    }
   ],
   "source": [
    "page_data['data']['children'][0]['data']['stickied']"
   ]
  },
  {
   "cell_type": "code",
   "execution_count": 28,
   "metadata": {
    "collapsed": true
   },
   "outputs": [
    {
     "data": {
      "text/plain": [
       "{'data': {'approved_at_utc': None,\n",
       "  'approved_by': None,\n",
       "  'archived': True,\n",
       "  'author': 'love_the_heat',\n",
       "  'author_flair_css_class': None,\n",
       "  'author_flair_template_id': None,\n",
       "  'author_flair_text': 'Discord Admin and completely unfair',\n",
       "  'banned_at_utc': None,\n",
       "  'banned_by': None,\n",
       "  'can_gild': False,\n",
       "  'can_mod_post': False,\n",
       "  'clicked': False,\n",
       "  'contest_mode': False,\n",
       "  'created': 1510371001.0,\n",
       "  'created_utc': 1510342201.0,\n",
       "  'distinguished': 'moderator',\n",
       "  'domain': 'self.Jokes',\n",
       "  'downs': 0,\n",
       "  'edited': 1510965682.0,\n",
       "  'gilded': 1,\n",
       "  'hidden': False,\n",
       "  'hide_score': False,\n",
       "  'id': '7c3dev',\n",
       "  'is_crosspostable': False,\n",
       "  'is_reddit_media_domain': False,\n",
       "  'is_self': True,\n",
       "  'is_video': False,\n",
       "  'likes': None,\n",
       "  'link_flair_css_class': None,\n",
       "  'link_flair_text': None,\n",
       "  'locked': False,\n",
       "  'media': None,\n",
       "  'media_embed': {},\n",
       "  'media_only': False,\n",
       "  'mod_note': None,\n",
       "  'mod_reason_by': None,\n",
       "  'mod_reason_title': None,\n",
       "  'mod_reports': [],\n",
       "  'name': 't3_7c3dev',\n",
       "  'no_follow': False,\n",
       "  'num_comments': 270,\n",
       "  'num_crossposts': 2,\n",
       "  'num_reports': None,\n",
       "  'over_18': False,\n",
       "  'parent_whitelist_status': 'all_ads',\n",
       "  'permalink': '/r/Jokes/comments/7c3dev/by_popular_demand_we_now_have_a_discord_server/',\n",
       "  'pinned': False,\n",
       "  'post_categories': None,\n",
       "  'pwls': 6,\n",
       "  'quarantine': False,\n",
       "  'removal_reason': None,\n",
       "  'report_reasons': None,\n",
       "  'saved': False,\n",
       "  'score': 3412,\n",
       "  'secure_media': None,\n",
       "  'secure_media_embed': {},\n",
       "  'selftext': '**Guaranteed reposts.** \\n\\nhttps://discord.gg/66qyTgJ  or https://discord.gg/jokes',\n",
       "  'selftext_html': '&lt;!-- SC_OFF --&gt;&lt;div class=\"md\"&gt;&lt;p&gt;&lt;strong&gt;Guaranteed reposts.&lt;/strong&gt; &lt;/p&gt;\\n\\n&lt;p&gt;&lt;a href=\"https://discord.gg/66qyTgJ\"&gt;https://discord.gg/66qyTgJ&lt;/a&gt;  or &lt;a href=\"https://discord.gg/jokes\"&gt;https://discord.gg/jokes&lt;/a&gt;&lt;/p&gt;\\n&lt;/div&gt;&lt;!-- SC_ON --&gt;',\n",
       "  'send_replies': True,\n",
       "  'spoiler': False,\n",
       "  'stickied': True,\n",
       "  'subreddit': 'Jokes',\n",
       "  'subreddit_id': 't5_2qh72',\n",
       "  'subreddit_name_prefixed': 'r/Jokes',\n",
       "  'subreddit_subscribers': 13632508,\n",
       "  'subreddit_type': 'public',\n",
       "  'suggested_sort': None,\n",
       "  'thumbnail': '',\n",
       "  'title': 'By popular demand, we now have a discord server. Join this',\n",
       "  'ups': 3412,\n",
       "  'url': 'https://www.reddit.com/r/Jokes/comments/7c3dev/by_popular_demand_we_now_have_a_discord_server/',\n",
       "  'user_reports': [],\n",
       "  'view_count': None,\n",
       "  'visited': False,\n",
       "  'whitelist_status': 'all_ads',\n",
       "  'wls': 6},\n",
       " 'kind': 't3'}"
      ]
     },
     "execution_count": 28,
     "metadata": {},
     "output_type": "execute_result"
    }
   ],
   "source": [
    "the_json['data']['children'] #List of posts, each post is a dictionary\n",
    "the_json['data']['children'][0] #1 post which is a dictionary with a single key - data"
   ]
  },
  {
   "cell_type": "markdown",
   "metadata": {},
   "source": [
    "I need to iterate through the list of posts, which will give me a dictionary for each post.\n",
    "\n",
    "I need to decide if I want to keep the dictionary by checking inside the data, stickied value"
   ]
  },
  {
   "cell_type": "code",
   "execution_count": 34,
   "metadata": {},
   "outputs": [
    {
     "name": "stdout",
     "output_type": "stream",
     "text": [
      "False\n",
      "False\n",
      "False\n",
      "False\n",
      "False\n",
      "False\n",
      "False\n",
      "False\n",
      "False\n",
      "False\n",
      "False\n",
      "False\n",
      "False\n",
      "False\n",
      "False\n",
      "False\n",
      "False\n",
      "False\n",
      "False\n",
      "False\n",
      "False\n",
      "False\n",
      "False\n",
      "False\n",
      "False\n"
     ]
    }
   ],
   "source": [
    "for post_dic in the_json['data']['children']:\n",
    "    print(post_dic['data']['stickied'])"
   ]
  },
  {
   "cell_type": "code",
   "execution_count": 31,
   "metadata": {},
   "outputs": [],
   "source": [
    "after = the_json['data']['after']"
   ]
  },
  {
   "cell_type": "code",
   "execution_count": 33,
   "metadata": {},
   "outputs": [],
   "source": [
    "params = {'after':after}\n",
    "res = requests.get('https://reddit.com/r/Jokes.json', params ,headers=headers)\n",
    "the_json = res.json()"
   ]
  },
  {
   "cell_type": "code",
   "execution_count": null,
   "metadata": {},
   "outputs": [],
   "source": [
    "with open('./Data/y_train.pkl', 'rb') as f:\n",
    "    y_train_loaded = pickle.load(f)"
   ]
  },
  {
   "cell_type": "code",
   "execution_count": null,
   "metadata": {},
   "outputs": [],
   "source": [
    "with open('./Data/df_features_sc.pkl', 'rb') as f:\n",
    "    df_features_sc = pickle.load(f)"
   ]
  },
  {
   "cell_type": "code",
   "execution_count": null,
   "metadata": {},
   "outputs": [],
   "source": [
    "cvec = CountVectorizer(stop_words='english')\n",
    "X_text_c = cvec.fit_transform(X_text_raw)"
   ]
  },
  {
   "cell_type": "code",
   "execution_count": null,
   "metadata": {},
   "outputs": [],
   "source": [
    "pd.DataFrame(X_text_c.todense(), columns=cvec.get_feature_names())"
   ]
  },
  {
   "cell_type": "code",
   "execution_count": null,
   "metadata": {},
   "outputs": [],
   "source": [
    "from scipy.sparse import coo_matrix, hstack\n",
    "A = [[1, 2], [3, 4]]\n",
    "B = coo_matrix([[5], [6]])\n",
    "hstack([A,B]).toarray()"
   ]
  },
  {
   "cell_type": "code",
   "execution_count": null,
   "metadata": {},
   "outputs": [],
   "source": [
    "from sklearn.feature_extraction.text import TfidfVectorizer\n",
    "\n",
    "vect = TfidfVectorizer(sublinear_tf=True, max_df=0.5, analyzer='word', stop_words='english')\n",
    "\n",
    "sdf = pd.SparseDataFrame(vect.fit_transform(df['text']),\n",
    "                         columns=vect.get_feature_names(), \n",
    "                         default_fill_value=0)\n",
    "sdf['text'] = df['text']"
   ]
  },
  {
   "cell_type": "code",
   "execution_count": null,
   "metadata": {},
   "outputs": [],
   "source": [
    "df_X_text[['num_comments','over_18']] = df_features_sc[['num_comments','over_18']]"
   ]
  },
  {
   "cell_type": "markdown",
   "metadata": {},
   "source": [
    "## Scale Features - Include boolean variables for now"
   ]
  },
  {
   "cell_type": "code",
   "execution_count": 61,
   "metadata": {},
   "outputs": [],
   "source": [
    "ss = StandardScaler()\n",
    "df_features_sc = pd.DataFrame(ss.fit_transform(df_features),columns=df_features.columns)"
   ]
  },
  {
   "cell_type": "code",
   "execution_count": null,
   "metadata": {},
   "outputs": [],
   "source": [
    "with open('./Data/y_train.pkl', 'wb') as f:\n",
    "    pickle.dump(y_train, f)3"
   ]
  },
  {
   "cell_type": "markdown",
   "metadata": {},
   "source": [
    "## Extract text data into list of strings and export X_fulltext data file"
   ]
  },
  {
   "cell_type": "code",
   "execution_count": null,
   "metadata": {},
   "outputs": [],
   "source": [
    "X_fulltext = list(df.title + ' ' + df.selftext)"
   ]
  },
  {
   "cell_type": "code",
   "execution_count": null,
   "metadata": {},
   "outputs": [],
   "source": [
    "with open('./Data/X_fulltext.pkl', 'wb') as f:\n",
    "    pickle.dump(X_fulltext, f)"
   ]
  },
  {
   "cell_type": "markdown",
   "metadata": {},
   "source": [
    "## Create dataframe features without text"
   ]
  },
  {
   "cell_type": "code",
   "execution_count": null,
   "metadata": {},
   "outputs": [],
   "source": [
    "df_features = df.drop(labels=['selftext','title','subreddit','subreddit_int','author','created_utc'], axis=1).copy()"
   ]
  },
  {
   "cell_type": "code",
   "execution_count": null,
   "metadata": {},
   "outputs": [],
   "source": [
    "df_features.head()"
   ]
  },
  {
   "cell_type": "markdown",
   "metadata": {},
   "source": [
    "## Export df_features_sc file"
   ]
  },
  {
   "cell_type": "code",
   "execution_count": null,
   "metadata": {},
   "outputs": [],
   "source": [
    "with open('./Data/df_features.pkl', 'wb') as f:\n",
    "    pickle.dump(df_features, f)"
   ]
  },
  {
   "cell_type": "code",
   "execution_count": null,
   "metadata": {},
   "outputs": [],
   "source": []
  },
  {
   "cell_type": "code",
   "execution_count": null,
   "metadata": {},
   "outputs": [],
   "source": []
  },
  {
   "cell_type": "code",
   "execution_count": null,
   "metadata": {},
   "outputs": [],
   "source": []
  }
 ],
 "metadata": {
  "kernelspec": {
   "display_name": "Python 3",
   "language": "python",
   "name": "python3"
  },
  "language_info": {
   "codemirror_mode": {
    "name": "ipython",
    "version": 3
   },
   "file_extension": ".py",
   "mimetype": "text/x-python",
   "name": "python",
   "nbconvert_exporter": "python",
   "pygments_lexer": "ipython3",
   "version": "3.6.4"
  }
 },
 "nbformat": 4,
 "nbformat_minor": 2
}
