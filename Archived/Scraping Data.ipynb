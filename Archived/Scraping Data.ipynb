{
 "cells": [
  {
   "cell_type": "markdown",
   "metadata": {},
   "source": [
    "# TODO for this notebook\n",
    "- scrape 1000 posts from democrats and 1000 from republicans"
   ]
  },
  {
   "cell_type": "markdown",
   "metadata": {},
   "source": [
    "# Imports"
   ]
  },
  {
   "cell_type": "code",
   "execution_count": 2,
   "metadata": {},
   "outputs": [],
   "source": [
    "import requests\n",
    "import time\n",
    "import json"
   ]
  },
  {
   "cell_type": "code",
   "execution_count": 5,
   "metadata": {},
   "outputs": [
    {
     "data": {
      "text/plain": [
       "200"
      ]
     },
     "execution_count": 5,
     "metadata": {},
     "output_type": "execute_result"
    }
   ],
   "source": [
    "headers = {'User-agent':'bing .1'}\n",
    "res = requests.get('https://reddit.com/r/jokes.json',headers=headers)\n",
    "res.status_code"
   ]
  },
  {
   "cell_type": "code",
   "execution_count": 39,
   "metadata": {},
   "outputs": [],
   "source": [
    "# Try to filter out stickied posts\n",
    "counter = 0\n",
    "after = None\n",
    "posts = []\n",
    "while counter < 20:\n",
    "    if after == None:\n",
    "        params = {}\n",
    "    else:\n",
    "        params = {'after': after}\n",
    "    res = requests.get('https://reddit.com/r/Jokes.json', params ,headers=headers)\n",
    "    the_json = res.json()\n",
    "    posts.extend(the_json['data'].get('children'))\n",
    "    after = the_json['data']['after']\n",
    "    counter += 1\n",
    "    time.sleep(1)"
   ]
  },
  {
   "cell_type": "code",
   "execution_count": 35,
   "metadata": {},
   "outputs": [],
   "source": [
    "# Filter out the pinned items\n",
    "counter = 0\n",
    "after = None\n",
    "posts = []\n",
    "while counter < 4:\n",
    "    if after == None:\n",
    "        params = {}\n",
    "    else:\n",
    "        params = {'after': after}\n",
    "    res = requests.get('https://reddit.com/r/Jokes.json', params ,headers=headers)\n",
    "    the_json = res.json()\n",
    "    posts.extend(the_json['data'].get('children'))\n",
    "    after = the_json['data']['after']\n",
    "    counter += 1\n",
    "    time.sleep(1)"
   ]
  },
  {
   "cell_type": "code",
   "execution_count": 40,
   "metadata": {},
   "outputs": [
    {
     "data": {
      "text/plain": [
       "501"
      ]
     },
     "execution_count": 40,
     "metadata": {},
     "output_type": "execute_result"
    }
   ],
   "source": [
    "len(posts)"
   ]
  },
  {
   "cell_type": "code",
   "execution_count": 41,
   "metadata": {},
   "outputs": [],
   "source": [
    "with open('jokes500.json', 'w+') as f:\n",
    "    json.dump(posts, f)"
   ]
  },
  {
   "cell_type": "code",
   "execution_count": 31,
   "metadata": {},
   "outputs": [],
   "source": [
    "with open('test_dump.json', 'r') as f:\n",
    "    import_test = json.load(f)"
   ]
  },
  {
   "cell_type": "code",
   "execution_count": 32,
   "metadata": {},
   "outputs": [
    {
     "data": {
      "text/plain": [
       "100"
      ]
     },
     "execution_count": 32,
     "metadata": {},
     "output_type": "execute_result"
    }
   ],
   "source": [
    "len(import_test)"
   ]
  },
  {
   "cell_type": "code",
   "execution_count": 33,
   "metadata": {},
   "outputs": [],
   "source": [
    "from sys import getsizeof"
   ]
  },
  {
   "cell_type": "code",
   "execution_count": 34,
   "metadata": {},
   "outputs": [
    {
     "data": {
      "text/plain": [
       "912"
      ]
     },
     "execution_count": 34,
     "metadata": {},
     "output_type": "execute_result"
    }
   ],
   "source": [
    "getsizeof(import_test)"
   ]
  },
  {
   "cell_type": "code",
   "execution_count": 61,
   "metadata": {},
   "outputs": [
    {
     "name": "stdout",
     "output_type": "stream",
     "text": [
      "Last night me and my wife watched 3 movies back to back.\n",
      "Fortunately, I was the one facing the TV. \n"
     ]
    }
   ],
   "source": [
    "print(posts[20]['data']['title'])\n",
    "print(posts[20]['data']['selftext'])"
   ]
  },
  {
   "cell_type": "code",
   "execution_count": 42,
   "metadata": {},
   "outputs": [],
   "source": [
    "def get_posts( sub = 'all', num_pages = 4, avoid_distinguished = True, attached = None):\n",
    "    \"\"\"\n",
    "    Returns a list of pages from a subreddit. \n",
    "    \n",
    "    ===========================\n",
    "    ======= Parameters ========\n",
    "    ===========================\n",
    "\n",
    "    sub = 'all' (default): type = string\n",
    "        The subreddit you want to querry. \n",
    "        https://reddit.com/r/{sub}/ \n",
    "    -------------------------------------------------------------\n",
    "    num_pages = 4 (default): type = int\n",
    "        Number of pages to read from.  \n",
    "        This also is the number of seconds\n",
    "        this function takes to run\n",
    "    -------------------------------------------------------------\n",
    "    avoid_distinguished = True (default): type = bool\n",
    "        Whether or not to avoid stickied, archived,\n",
    "        and admin posts\n",
    "    -------------------------------------------------------------\n",
    "    attached = None (default): type = List\n",
    "        The list that you are appending new data onto.\n",
    "        Default to make a new list.  \n",
    "        \n",
    "    ===========================\n",
    "    ========  Example =========\n",
    "    ===========================    \n",
    "    \n",
    "    the_posts= get_posts(sub = 'jokes',\n",
    "                            num_pages=1, \n",
    "                            avoid_distinguished=True)\n",
    "                            \n",
    "    the_posts= get_posts(sub = 'nosleep',\n",
    "                            num_pages=1, \n",
    "                            avoid_distinguished=True, \n",
    "                            attached=the_posts )\n",
    "    \n",
    "    >>> Returns a list of ~25 posts from reddit.com/r/jokes and\n",
    "                    ~25 posts from reddit.com/r/nosleep\n",
    "    \n",
    "    \n",
    "    \"\"\"\n",
    "    if attached:\n",
    "        posts = attached\n",
    "    else:\n",
    "        posts = []\n",
    "    counter = 0\n",
    "    after = None\n",
    "    while counter < num_pages:\n",
    "        if after == None:\n",
    "            params = {}\n",
    "        else:\n",
    "            params = {'after': after}\n",
    "        res = requests.get(f'https://reddit.com/r/{sub}/.json', params ,headers=headers)\n",
    "        if(res.status_code!=200):\n",
    "            print('invalid sub')\n",
    "            return None\n",
    "        the_json = res.json()\n",
    "        if avoid_distinguished:\n",
    "            page = [child for child in the_json['data'].get('children') if not child['data']['stickied'] and not child['data']['archived'] and not child['data']['distinguished']]\n",
    "        else:\n",
    "            page = the_json['data'].get('children')\n",
    "        posts.extend(page)\n",
    "        after = the_json['data']['after']\n",
    "        counter += 1\n",
    "        time.sleep(1)\n",
    "    return posts"
   ]
  },
  {
   "cell_type": "code",
   "execution_count": null,
   "metadata": {},
   "outputs": [],
   "source": []
  },
  {
   "cell_type": "code",
   "execution_count": null,
   "metadata": {},
   "outputs": [],
   "source": [
    "get_posts()"
   ]
  }
 ],
 "metadata": {
  "kernelspec": {
   "display_name": "Python 3",
   "language": "python",
   "name": "python3"
  },
  "language_info": {
   "codemirror_mode": {
    "name": "ipython",
    "version": 3
   },
   "file_extension": ".py",
   "mimetype": "text/x-python",
   "name": "python",
   "nbconvert_exporter": "python",
   "pygments_lexer": "ipython3",
   "version": "3.6.4"
  }
 },
 "nbformat": 4,
 "nbformat_minor": 2
}
